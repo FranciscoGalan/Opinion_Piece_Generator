{
 "cells": [
  {
   "cell_type": "code",
   "execution_count": 1,
   "metadata": {},
   "outputs": [],
   "source": [
    "import time\n",
    "import re\n",
    "\n",
    "import pandas as pd\n",
    "import numpy as np\n",
    "\n",
    "import requests\n",
    "from urllib.request import urlopen\n",
    "from bs4 import BeautifulSoup"
   ]
  },
  {
   "cell_type": "code",
   "execution_count": 2,
   "metadata": {},
   "outputs": [],
   "source": [
    "# Obtener links de artículos\n",
    "html = urlopen('https://denisedresser.com/columnas', )\n",
    "soup = BeautifulSoup(html.read(), 'lxml')\n",
    "links = []\n",
    "for column in soup.find_all('div', {'class': 'column'}):\n",
    "    link = column.a.attrs['href']\n",
    "    links.append(link)"
   ]
  },
  {
   "cell_type": "code",
   "execution_count": 7,
   "metadata": {},
   "outputs": [
    {
     "data": {
      "text/plain": [
       "'<!DOCTYPE html>\\n<html lang=\"en\">\\n<head>\\n  <meta charset=\"utf-8\" />\\n  <meta name=\"viewport\" content=\"width=device-width,initial-scale=1.0\">\\n  <title>Denise Dresser | &iquest;Partero o perico?</title>\\n  <meta name=\"description\" content=\"Denise Dresser\">\\n    \\n  <meta name=\"keywords\" content=\"denisedresser,denise,dresser\">\\n  <link rel=\"stylesheet\" href=\"https://denisedresser.com/assets/css/style.css\">  <link href=\"https://fonts.googleapis.com/css?family=Open+Sans:300,300i,400,400i,700\" rel=\"stylesheet\">\\n  <link rel=\"stylesheet\" href=\"https://cdnjs.cloudflare.com/ajax/libs/slick-carousel/1.6.0/slick.min.css\">\\n  <link rel=\"stylesheet\" href=\"https://cdnjs.cloudflare.com/ajax/libs/font-awesome/4.6.3/css/font-awesome.min.css\">\\n</head>\\n<body>\\n  <div id=\"header\">\\n    <h1 id=\"logo\"><a href=\"https://denisedresser.com\"><span>Denise Dresser</span></a></h1>\\n    <a href=\"#\" id=\"nav-toggle\"><i class=\"fa fa-bars\"></i></a>\\n    <ul id=\"nav\">\\n      <li>\\n        <a href=\"https://denisedresser.com/biografia\">\\n          <span class=\"text\">Biografía</span>\\n          <span class=\"bg-container\"><span class=\"bg\"></span></span>\\n        </a>\\n      </li>\\n      <li>\\n        <a href=\"https://denisedresser.com/multimedia\">\\n          <span class=\"text\">Multimedia</span>\\n          <span class=\"bg-container\"><span class=\"bg\"></span></span>\\n        </a>\\n      </li>\\n      <li>\\n        <a href=\"https://denisedresser.com/libros\">\\n          <span class=\"text\">Libros</span>\\n          <span class=\"bg-container\"><span class=\"bg\"></span></span>\\n        </a>\\n      </li>\\n      <li>\\n        <a href=\"https://denisedresser.com/columnas\">\\n          <span class=\"text\">Columnas</span>\\n          <span class=\"bg-container\"><span class=\"bg\"></span></span>\\n        </a>\\n      </li>\\n      <li>\\n        <a href=\"https://denisedresser.com/contacto\">\\n          <span class=\"text\">Contacto</span>\\n          <span class=\"bg-container\"><span class=\"bg\"></span></span>\\n        </a>\\n      </li>\\n      <li>\\n        <a href=\"https://denisedresser.com\" class=\"lang active\">\\n          <span class=\"text\">Esp</span>\\n          <span class=\"bg-container\"><span class=\"bg\"></span></span>\\n        </a>\\n        <a class=\"lang separator\">|</a>\\n        <a href=\"https://denisedresser.com/en\" class=\"lang\">\\n          <span class=\"text\">Eng</span>\\n          <span class=\"bg-container\"><span class=\"bg\"></span></span>\\n        </a>\\n        <a class=\"lang separator\">|</a>\\n      </li>\\n    </ul>\\n  </div>\\n  <div id=\"wrapper\">\\n  \\n  <div id=\"content\">\\n    <div id=\"column\">\\n      <div class=\"column-header\">\\n        <div class=\"info\">\\n          <h2>¿Partero o perico?</h2>\\n          <div class=\"date\">\\n            <hr>\\n            27 de julio, 2020          </div>\\n        </div>\\n        <div class=\"column-pic\">\\n          <img src=\"https://denisedresser.com/assets/images/column-pic.jpg\" alt=\"Denise Dresser\">\\n        </div>\\n      </div>\\n      <div class=\"column-content\">\\n        <div class=\"header\">\\n          <p>Todos los días parece haber un capítulo candente en la trama de Emilio Lozoya. Una nueva revelación, una nueva filtración, una nueva lista de cómplices, un nuevo periodicazo. Cuentos de dinero recibido y dinero entregado, ex presidentes involucrados y políticos sobornados.</p>        </div>\\n        <div class=\"text\">\\n          <p>La podredumbre de la clase política mexicana, exhibida, aireada, desmenuzada. Y ante ese proceso de ventilación, dos desenlaces previsibles. La posibilidad de encarar -por fin- el modus operandi de la corrupción sistémica, promovida desde el gobierno, aceptada por la oligarquía empresarial y compartida por todos los partidos. O más de lo mismo que hemos padecido en gobiernos previos: el uso politizado del Poder Judicial, la electoralización de la persecución, el pacto de impunidad reeditado. Desmadejar la red Lozoya-Odebrecht-Peña Nieto-Calderón podría producir un antes y un después en la construcción pendiente del Estado de Derecho, o solo perpetuar la vieja práctica del ajusticiamiento selectivo y la diatriba discrecional. Lozoya podría ser partero o perico; inaugurar una era distinta de procesos pulcros, o parlotear lo que López Obrador le pida.</p>\\n<p>Porque hay varias vertientes en su controvertido caso; existen diversas cloacas y diferentes embarrados al abrirlas. Un camino pasa por Calderón y Etileno 21; otro transita por Odebrecht y el financiamiento ilegal a la campaña presidencial de Peña Nieto; el tercero toca las compras fraudulentas de Agro Nitrogenados y Fertinal, así como los intereses de Salinas Pliego; el cuarto enloda a los legisladores que vendieron su voto para aprobar la reforma energética. Y en el centro del lodazal -mientras negocia su destino desde un hospital- está el ex director de Pemex, operador de la elección del 2012 y consiglieri de la reforma energética un año después. Traficando, tramando, intercambiando información a cambio de protección.</p>\\n<p>El que hasta hace poco juraba no saber nada y ahora afirma saberlo todo. El señalado por ex funcionarios de Odebrecht como recipiendario de al menos 3 millones 140 mil dólares depositados en una cuenta -vinculada a él- establecida en las Islas Vírgenes. Lozoya identificado, acusado y sobornado según el ex director de la compañía brasileña en México y otros informantes más. Lozoya, supuestamente poseedor de información que arruinaría a un pesebre de prominentes priistas, incluyendo a Peña Nieto, Videgaray y Meade. Lozoya supuestamente guardián de un conjunto de grabaciones que acabaría con la poca credibilidad que les queda a las oposiciones. Además, el simple rumor de su existencia permite chantajear y disciplinar y alinear. Lozoya quizás custodia material que AMLO utilizará con un claro fin electoral.</p>\\n<p>Y detallará -según y cuando convenga- recursos que fluyeron para financiar elecciones, conseguir contratos, enriquecer a amigos, intercambiar dólares por votos. Ambos se necesitan. Lozoya necesita a AMLO para reducir su condena o convertirse en testigo protegido; hablará o callará según se lo pida el Presidente. Y AMLO necesita a Lozoya para perseguir al PRIAN, desacreditar la reforma energética, mantener en vilo a Peña Nieto, e ir tras él si antes la crisis creciente necesita un distractor eficiente. Porque si el caso Lozoya se tratara en realidad de inaugurar un litigio transparente, el manejo político e institucional habría sido distinto. Veríamos a una Fiscalía General trabajando con más profesionalismo y menos exhibicionismo. Veríamos a un Presidente que respeta el debido proceso en lugar de ponerlo en jaque. Lozoya ya habría sido presentado ante un juez en vez de estar recluido en un hospital. Se anunciarían audiencias abiertas y no su sustitución por negociaciones opacas.</p>\\n<p>La única explicación del desaseo es política. Tiene que ver con el silencio que el gobierno exigirá sobre algunos personajes y el ruido que hará sobre otros. Tiene que ver con el manto protector que AMLO colocará de manera temporal o permanente sobre Peña Nieto, debido al pacto de impunidad que ambos suscribieron. Tiene que ver con la ausencia de una Fiscalía verdaderamente autónoma, independiente y la sujeción de Gertz Manero al Presidente y su camarilla. Por ello, es improbable que Lozoya se vuelva el partero de una transformación judicial. Más bien, desde la jaula de oro que logre negociar, será el perico gubernamental, entrenado para repetir lo que el Presidente le instruya.</p>        </div>\\n      </div>\\n      <div class=\"column-footer\">\\n        <div class=\"logo\">\\n          '"
      ]
     },
     "execution_count": 7,
     "metadata": {},
     "output_type": "execute_result"
    }
   ],
   "source": [
    "# Conseguir información de una página\n",
    "x = requests.get(links[30], headers=\n",
    "                 {'User-Agent': 'Mozilla/5.0 (Windows NT 10.0; Win64; x64; rv:86.0) Gecko/20100101 Firefox/86.0',\n",
    "                  'Accept': 'text/html,application/xhtml+xml,application/xml;q=0.9,image/webp,*/*;q=0.8',\n",
    "                  'Accept-Language': 'en-US,en;q=0.5',\n",
    "                  'Accept-Encoding': 'gzip, deflate, br',\n",
    "                  'Referer': 'https://denisedresser.com/columnas',\n",
    "                  'Connection': 'keep-alive',\n",
    "                  'Upgrade-Insecure-Requests': '1',\n",
    "                  'Cache-Control': 'max-age=0'}).text\n",
    "x"
   ]
  },
  {
   "cell_type": "code",
   "execution_count": null,
   "metadata": {},
   "outputs": [],
   "source": []
  }
 ],
 "metadata": {
  "kernelspec": {
   "display_name": "Python 3",
   "language": "python",
   "name": "python3"
  },
  "language_info": {
   "codemirror_mode": {
    "name": "ipython",
    "version": 3
   },
   "file_extension": ".py",
   "mimetype": "text/x-python",
   "name": "python",
   "nbconvert_exporter": "python",
   "pygments_lexer": "ipython3",
   "version": "3.7.6"
  }
 },
 "nbformat": 4,
 "nbformat_minor": 4
}
