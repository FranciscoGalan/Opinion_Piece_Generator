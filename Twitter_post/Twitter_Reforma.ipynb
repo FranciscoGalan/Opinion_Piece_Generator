{
 "cells": [
  {
   "cell_type": "code",
   "execution_count": 1,
   "id": "pleasant-convenience",
   "metadata": {
    "ExecuteTime": {
     "end_time": "2021-03-27T01:13:09.811433Z",
     "start_time": "2021-03-27T01:13:09.240451Z"
    }
   },
   "outputs": [],
   "source": [
    "import time\n",
    "import pyautogui\n",
    "import pyperclip\n",
    "import pandas as pd\n",
    "from bs4 import BeautifulSoup\n",
    "from datetime import datetime\n",
    "from selenium import webdriver\n",
    "from selenium.webdriver.common.keys import Keys\n",
    "from selenium.common.exceptions import NoSuchElementException\n",
    "from selenium.webdriver.common.action_chains import ActionChains"
   ]
  },
  {
   "cell_type": "code",
   "execution_count": 2,
   "id": "equal-indie",
   "metadata": {
    "ExecuteTime": {
     "end_time": "2021-03-27T01:13:10.635236Z",
     "start_time": "2021-03-27T01:13:10.630249Z"
    }
   },
   "outputs": [],
   "source": [
    "def init_driver():\n",
    "    \"\"\"\n",
    "    Method used to create an instance of Firefox we can control through Selenium.\n",
    "    We set the user_agent to the current version of Firefox, other preferences can be integrated.\n",
    "    @return: webdriver.Firefox\n",
    "    \"\"\"\n",
    "    profile = webdriver.FirefoxProfile()\n",
    "    user_agent = 'Mozilla/5.0 (Windows NT 10.0; Win64; x64; rv:86.0) Gecko/20100101 Firefox/86.0'\n",
    "\n",
    "    profile.set_preference(\"general.useragent.override\", user_agent)\n",
    "    driver = webdriver.Firefox(profile)\n",
    "    driver.maximize_window()\n",
    "    time.sleep(2)\n",
    "    \n",
    "    return driver"
   ]
  },
  {
   "cell_type": "markdown",
   "id": "capable-stamp",
   "metadata": {
    "ExecuteTime": {
     "end_time": "2021-03-21T16:34:18.500144Z",
     "start_time": "2021-03-21T16:34:17.885293Z"
    }
   },
   "source": [
    "# Twitter post"
   ]
  },
  {
   "cell_type": "code",
   "execution_count": 9,
   "id": "prepared-france",
   "metadata": {
    "ExecuteTime": {
     "end_time": "2021-03-27T03:38:57.239101Z",
     "start_time": "2021-03-27T03:38:48.246471Z"
    }
   },
   "outputs": [],
   "source": [
    "driver = init_driver()"
   ]
  },
  {
   "cell_type": "code",
   "execution_count": 10,
   "id": "friendly-mapping",
   "metadata": {
    "ExecuteTime": {
     "end_time": "2021-03-27T03:40:21.489328Z",
     "start_time": "2021-03-27T03:39:13.500615Z"
    }
   },
   "outputs": [],
   "source": [
    "#GET TWITTER LOGIN PAGE\n",
    "driver.get('https://twitter.com/login')\n",
    "time.sleep(1)\n",
    "\n",
    "#LOGIN WITH CREDENTIALS\n",
    "driver.find_element_by_name('session[username_or_email]').send_keys('') #Type username here\n",
    "time.sleep(1)\n",
    "driver.find_element_by_name('session[password]').send_keys('') #Type password here\n",
    "time.sleep(1)\n",
    "\n",
    "driver.find_element_by_xpath('/html/body/div/div/div/div[2]/main/div/div/div[2]/form/div/div[3]/div/div/span/span').click()\n",
    "time.sleep(2)\n",
    "\n",
    "#ACCESS TWEET WINDOW\n",
    "driver.find_element_by_xpath('/html/body/div/div/div/div[2]/header/div/div/div/div[1]/div[3]/a/div/span/div/div/span/span').click()\n",
    "time.sleep(1)\n",
    "\n",
    "#TYPE TEXT TO TWEET\n",
    "driver.find_element_by_xpath('/html/body/div/div/div/div[1]/div[2]/div/div/div/div/div/div[2]/div[2]/div/div[3]/div/div/div/div[1]/div/div/div/div/div[2]/div[1]/div/div/div/div/div/div/div/div/div/div[1]/div/div/div/div[2]/div').click()\n",
    "time.sleep(2)\n",
    "\n",
    "#Message we want to type, and we emulate the person typing on the textbox.\n",
    "for char in 'Este modelo de reorganización del Presidente se ha hecho en el artículo internacional del viejo régimen y del gobierno político y la ley de las elecciones, la legalidad y la libertad.':\n",
    "    pyperclip.copy(char) #Pyperclip was used as we have special chars in Spanish that cannot be typed normally (á, é, í, ó, ú)\n",
    "    pyautogui.hotkey('ctrl', 'v', interval = 0.04)\n",
    "time.sleep(2)\n",
    "\n",
    "#SEND TWEET\n",
    "driver.find_element_by_xpath('/html/body/div/div/div/div[1]/div[2]/div/div/div/div/div/div[2]/div[2]/div/div[3]/div/div/div/div[1]/div/div/div/div/div[2]/div[4]/div/div/div[2]/div[4]/div').click()"
   ]
  },
  {
   "cell_type": "code",
   "execution_count": null,
   "id": "proved-agency",
   "metadata": {},
   "outputs": [],
   "source": [
    "driver.close()"
   ]
  },
  {
   "cell_type": "markdown",
   "id": "conservative-essex",
   "metadata": {},
   "source": [
    "# Reforma website fake article display"
   ]
  },
  {
   "cell_type": "code",
   "execution_count": 9,
   "id": "boolean-sixth",
   "metadata": {
    "ExecuteTime": {
     "end_time": "2021-03-27T03:38:57.239101Z",
     "start_time": "2021-03-27T03:38:48.246471Z"
    }
   },
   "outputs": [],
   "source": [
    "driver = init_driver()"
   ]
  },
  {
   "cell_type": "code",
   "execution_count": 4,
   "id": "lesser-ocean",
   "metadata": {
    "ExecuteTime": {
     "end_time": "2021-03-27T01:14:33.488002Z",
     "start_time": "2021-03-27T01:14:20.222759Z"
    }
   },
   "outputs": [],
   "source": [
    "driver.get('https://www.reforma.com/')\n",
    "time.sleep(2)\n",
    "\n",
    "#Display \"Opinion\" sub-menu\n",
    "driver.find_element_by_xpath('//*[@id=\"categoria615\"]').click()\n",
    "time.sleep(0.2)\n",
    "\n",
    "#Replace image logo\n",
    "element = driver.find_element_by_xpath('/html/body/div[1]/div[5]/div[1]/div/div[9]/div/div[1]/div[1]/img')\n",
    "driver.execute_script(\"arguments[0].src='\"+'https://cdn-images-1.medium.com/max/1200/1*69RcxrWXuk385lSxkIYYLA.png'+\"'\", element)\n",
    "driver.execute_script('arguments[0].width=\"50\"', element)\n",
    "driver.execute_script('arguments[0].height=\"50\"', element)\n",
    "\n",
    "#Replace author name\n",
    "driver.execute_script('document.getElementsByClassName(\"ligaopinion\")[0].innerHTML = \"Luis Sergio Teherán Montes (LSTM)\";')\n",
    "time.sleep(1)"
   ]
  },
  {
   "cell_type": "code",
   "execution_count": 5,
   "id": "electronic-wallace",
   "metadata": {
    "ExecuteTime": {
     "end_time": "2021-03-27T01:14:42.143598Z",
     "start_time": "2021-03-27T01:14:35.153040Z"
    }
   },
   "outputs": [],
   "source": [
    "driver.find_element_by_xpath('/html/body/div[1]/div[5]/div[1]/div/div[9]/div/div[1]/div[1]/a').click()\n",
    "time.sleep(1)\n",
    "\n",
    "contador = 0\n",
    "while True:\n",
    "    try:\n",
    "        element = driver.find_element_by_xpath('//*[@id=\"imgAutor\"]')\n",
    "        driver.execute_script(\"arguments[0].src='\"+'https://www.talent-land.mx/wp-content/uploads/2019/03/IronHack-Mexico-City-600x235.png'+\"'\", element)\n",
    "        driver.execute_script('arguments[0].width=\"300\"', element)\n",
    "        driver.execute_script('arguments[0].height=\"115\"', element)\n",
    "        \n",
    "        driver.execute_script('document.getElementsByClassName(\"textoMovil\")[0].innerHTML = \"El día pasado entre el segundo debate se encuentra en estas agencias que se enredó de acuerdo al INE. El alumno no es menor, pero en vez de invertir ninguno de sus términos en nuestro país. Pero es un gobierno en otro momento, cuando está de acuerdo. Los militares no son las propuestas ni lograran crecimiento que nunca podemos predecir o ver las divisas en la mayoría de la sociedad. Ahora bien, el INE se decidió, la libertad y un 20% de la población más alta del país hoy que le volvió al expresidente de la del Superior de la Constitución. En su vez el Estado de medicamentos en 2017 del viejo régimen de oprobio y a medio de un comportamiento de una semana de las personas estadounidenses, en otros ámbitos de vida para el Instituto Nacional de Normalización y venta del Banco de la Revolución Pública, hacen de favor del partido. Pero es el que hoy ha hecho un acompañamiento heroico del artículo de Andrés Manuel López Obrador para su presidencia. De acuerdo con la detención de AMLO que se impusieron para combatir el uso de la sólida.\";')\n",
    "        break\n",
    "    except:\n",
    "        time.sleep(0.3)\n",
    "        if contador > 20:\n",
    "            break\n",
    "        contador += 1"
   ]
  },
  {
   "cell_type": "code",
   "execution_count": null,
   "id": "southeast-truth",
   "metadata": {
    "ExecuteTime": {
     "start_time": "2021-03-27T01:12:47.764Z"
    }
   },
   "outputs": [],
   "source": [
    "driver.close()"
   ]
  }
 ],
 "metadata": {
  "kernelspec": {
   "display_name": "Python 3",
   "language": "python",
   "name": "python3"
  },
  "language_info": {
   "codemirror_mode": {
    "name": "ipython",
    "version": 3
   },
   "file_extension": ".py",
   "mimetype": "text/x-python",
   "name": "python",
   "nbconvert_exporter": "python",
   "pygments_lexer": "ipython3",
   "version": "3.7.9"
  },
  "toc": {
   "base_numbering": 1,
   "nav_menu": {},
   "number_sections": true,
   "sideBar": true,
   "skip_h1_title": false,
   "title_cell": "Table of Contents",
   "title_sidebar": "Contents",
   "toc_cell": false,
   "toc_position": {},
   "toc_section_display": true,
   "toc_window_display": false
  },
  "varInspector": {
   "cols": {
    "lenName": 16,
    "lenType": 16,
    "lenVar": 40
   },
   "kernels_config": {
    "python": {
     "delete_cmd_postfix": "",
     "delete_cmd_prefix": "del ",
     "library": "var_list.py",
     "varRefreshCmd": "print(var_dic_list())"
    },
    "r": {
     "delete_cmd_postfix": ") ",
     "delete_cmd_prefix": "rm(",
     "library": "var_list.r",
     "varRefreshCmd": "cat(var_dic_list()) "
    }
   },
   "types_to_exclude": [
    "module",
    "function",
    "builtin_function_or_method",
    "instance",
    "_Feature"
   ],
   "window_display": false
  }
 },
 "nbformat": 4,
 "nbformat_minor": 5
}
