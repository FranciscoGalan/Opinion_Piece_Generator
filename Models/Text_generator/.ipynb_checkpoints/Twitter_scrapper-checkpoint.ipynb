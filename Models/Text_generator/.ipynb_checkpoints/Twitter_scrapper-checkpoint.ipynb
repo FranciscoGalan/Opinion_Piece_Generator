{
 "cells": [
  {
   "cell_type": "code",
   "execution_count": 1,
   "metadata": {},
   "outputs": [],
   "source": [
    "import requests"
   ]
  },
  {
   "cell_type": "code",
   "execution_count": 2,
   "metadata": {},
   "outputs": [],
   "source": [
    "headers = {\"Authorization\": \"Bearer [your bearer here]\"}"
   ]
  },
  {
   "cell_type": "code",
   "execution_count": 3,
   "metadata": {},
   "outputs": [],
   "source": [
    "def get_n_tweets(author, n):\n",
    "    authors = {'Valeria Moy':'ValeriaMoy','Denisse Dresser':'DeniseDresserG','Enrique Krauze':'EnriqueKrauze',\n",
    "               'Ricardo Raphael':'ricardomraphael','John Ackerman':'JohnMAckerman'}\n",
    "    tweets=[]\n",
    "    count = 0\n",
    "    username = authors[author]\n",
    "    \n",
    "    query = f\"from:{username} -is:retweet\"\n",
    "    tweet_fields = \"tweet.fields=in_reply_to_user_id\"\n",
    "    url = \"https://api.twitter.com/2/tweets/search/recent?query={}&{}\".format(query, tweet_fields)\n",
    "    \n",
    "    response = requests.request(\"GET\", url, headers=headers)\n",
    "    content = response.json()\n",
    "\n",
    "    \n",
    "    for tweet in content['data']:\n",
    "        if ('in_reply_to_user_id' not in tweet) and (count < n):\n",
    "            tweets.append(tweet['text'])\n",
    "            count += 1\n",
    "        elif count > n:\n",
    "            break\n",
    "    return tweets"
   ]
  },
  {
   "cell_type": "code",
   "execution_count": 4,
   "metadata": {},
   "outputs": [
    {
     "name": "stdout",
     "output_type": "stream",
     "text": [
      "['De algo habrá servido haber puesto el documental de \"1982: La decisión del presidente\" como material del curso de Eco 2. Un poquito de historia económica reciente ayuda a entender muchas cosas del presente. https://t.co/4NXDYbRpBI', 'Hoy termina la reunión de política monetaria de la Fed. Hay que estar atentos al impacto que consideran que tendrá el estímulo adicional de 1.9 billones de dólares sobre la inflación y por ende sobre decisiones de pol. monetaria. Así lo ve el @TheEconomist Espresso: https://t.co/jHYHgaj6py', 'Hay muchas vacunas contra el covid circulando, pero son básicamente de 4 tipos. Para entender cómo funcionan -y considerando que la vacunación será clave para la recuperación económica- platiqué con @roslemusmartin en el #PerasyManzanas de hoy. Riquísimo platicar con ella. 🍐🍎 https://t.co/9vW8SgFaS2', 'Si les interesa el mercado de vacunas (a mi me parece interesantísimo y más en este momento) les recomiendo este mini documental (20 minutos) del @FT sobre \"vaccine cconomics\". Hay tanto que considerar y que no es evidente a primera vista... https://t.co/bVV2rY4Khq']\n",
      "['Si mi voluntad es inconstitucional, reformo la Constitución \\nSi mi voluntad viola la ley, ignoro la ley\\nSi mi voluntad es criticada, embisto al crítico\\nSi las mujeres me cuestionan, las reprimo \\nAsí gobierno yo, encarnación del pueblo, aunque lo joda más https://t.co/abzgKE40iY', 'Con los jueces / Con los corruptos en Morena, Ovidio, Salgado Macedonio, Salinas Pliego, Bartlett, Peña Nieto y demás impunes. https://t.co/bVGyqaVfu8', 'Ojo: las ganancias del Tren Maya no serán para el pueblo. No se destinarán a hospitales, escuelas, caminos, o programas de apoyo a mujeres.\\n\\nIrán directamente a las fuerzas armadas con quienes @lopezobrador_ co-gobierna.\\n\\nSu lema de campaña debió haber sido “Negociazos y balazos” https://t.co/NzcG7lmnbu', 'Cómo empezó / Cómo va https://t.co/UOpqfPVLFN']\n",
      "['Muy doloroso el fallecimiento de Vicente Rojo, gran artista plástico, innovador del diseño gráfico, compañero de buenos tiempos, fiel y cariñoso amigo', 'Hace 100 años Lenin aplastó la rebelión de los marinos de Kronstadt, los mismos que lo llevaron al poder https://t.co/MFqgXW7mF3', '“Debemos unirnos, escucharnos y respetarnos”, dijo Biden en su discurso inaugural. Válido allá y acá. Válido siempre https://t.co/ulFHsgrptu', 'Genial https://t.co/6QvAHuASf0', 'https://t.co/fNG3yP1r4U']\n",
      "['El Poder Judicial unido se defiende del presidente. Mi columna de hoy en @Milenio https://t.co/y7EGFwaCfg', 'Robaron el expediente de “la Casa Blanca” de Enrique Peña Nieto. Mi columna de hoy en @Milenio https://t.co/DNzhumVgBm', 'La pregunta que no le hicieron al auditor. Mi columna de hoy en @Milenio https://t.co/4c1XJpQSwO']\n",
      "['Anoche @RicardoRocha_MX y yo discrepamos, con enorme respeto, sobre @lopezobrador_ y la 4T: el aeropuerto, las mañaneras, los “chayoteros” y el autoritarismo.\\n\\nSe puso candente la discusión 😱\\n\\n¿Te lo perdiste? Aquí lo puedes ver 😉👇🏾\\n\\nhttps://t.co/ZhkTu41RBv', 'Es tiempo de combatir la desinformación y las noticias falsas 📰 en las redes 😎👊 \\n\\nY ustedes lo pueden hacer, con nuestro curso de periodismo digital del @PUEDJSUNAM y la @cuaieedunam.\\n\\nHoy les cuento más en la transmisión #EnVIVO 🚨a las 6pm. ¡No se la pierdan! 😉 https://t.co/m4p4BXBYDW', 'Acompáñanos hoy a las 18:00 horas en las redes de @cuaieedunam y @PUEDJSUNAM 👇🏾 https://t.co/hvoD62sApr', 'Conmovedor testimonio y muy importante análisis de @Fridaguerrera a propósito de #8M.👇🏾\\n\\nSolidaridad absoluta con una gran luchadora social👊🏾 https://t.co/hvJGe0yHdK', 'Qué gusto haber tenido una charla tan amena con el maestro @RicardoRocha_MX\\n\\nLe agradezco muchísimo por haber venido al @CanalOnceTV  y acompañarnos esta noche en @DeTodos_Modos 🤗\\n\\nY no me olvido de ustedes, gracias por estar siempre presentes y hacerse sentir en las redes 😉 https://t.co/9akPy0oIN1']\n"
     ]
    }
   ],
   "source": [
    "authors = {'Valeria Moy':'ValeriaMoy','Denisse Dresser':'DeniseDresserG','Enrique Krauze':'EnriqueKrauze',\n",
    "               'Ricardo Raphael':'ricardomraphael','John Ackerman':'JohnMAckerman'}\n",
    "names = list(authors.keys())\n",
    "\n",
    "for name in names:\n",
    "    print(get_n_tweets(name, 5))"
   ]
  }
 ],
 "metadata": {
  "kernelspec": {
   "display_name": "Python 3",
   "language": "python",
   "name": "python3"
  },
  "language_info": {
   "codemirror_mode": {
    "name": "ipython",
    "version": 3
   },
   "file_extension": ".py",
   "mimetype": "text/x-python",
   "name": "python",
   "nbconvert_exporter": "python",
   "pygments_lexer": "ipython3",
   "version": "3.8.3"
  }
 },
 "nbformat": 4,
 "nbformat_minor": 4
}
