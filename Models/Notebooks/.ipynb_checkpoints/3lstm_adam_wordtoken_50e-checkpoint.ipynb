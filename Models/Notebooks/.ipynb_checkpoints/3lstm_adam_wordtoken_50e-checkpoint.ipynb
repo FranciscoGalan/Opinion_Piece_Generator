{
 "cells": [
  {
   "cell_type": "code",
   "execution_count": 1,
   "metadata": {
    "id": "Ze79atssarOY"
   },
   "outputs": [],
   "source": [
    "import numpy as np\n",
    "import re\n",
    "from IPython.display import clear_output\n",
    "\n",
    "from keras.layers import Dense, LSTM, Input, Embedding, Dropout\n",
    "from keras.utils import np_utils\n",
    "from keras.models import Model, load_model\n",
    "from keras.optimizers import Adam, RMSprop\n",
    "from keras.preprocessing.sequence import pad_sequences\n",
    "from keras.preprocessing.text import Tokenizer\n",
    "from keras.callbacks import LambdaCallback"
   ]
  },
  {
   "cell_type": "code",
   "execution_count": 2,
   "metadata": {
    "colab": {
     "base_uri": "https://localhost:8080/"
    },
    "id": "oZDzTj6sbNWG",
    "outputId": "3c177c7f-14ec-4e25-b00f-76a7c0df55d6"
   },
   "outputs": [
    {
     "name": "stdout",
     "output_type": "stream",
     "text": [
      "Drive already mounted at /content/drive; to attempt to forcibly remount, call drive.mount(\"/content/drive\", force_remount=True).\n"
     ]
    }
   ],
   "source": [
    "from google.colab import drive\n",
    "drive.mount('/content/drive')"
   ]
  },
  {
   "cell_type": "code",
   "execution_count": 3,
   "metadata": {
    "id": "h77CbgcXarQQ"
   },
   "outputs": [],
   "source": [
    "load_saved_model = False\n",
    "train_model = True"
   ]
  },
  {
   "cell_type": "code",
   "execution_count": 4,
   "metadata": {
    "id": "QreBRUPAarQS"
   },
   "outputs": [],
   "source": [
    "token_type = 'word'"
   ]
  },
  {
   "cell_type": "code",
   "execution_count": 5,
   "metadata": {
    "id": "9D1BUza5yEk1"
   },
   "outputs": [],
   "source": [
    "with open ('/content/val.txt', encoding='utf-8-sig') as f:\n",
    "  text = f.read()\n",
    "seq_length = 20\n",
    "text = text[:int(len(text)/1.5)]"
   ]
  },
  {
   "cell_type": "code",
   "execution_count": 6,
   "metadata": {
    "id": "KVn0pgGvarQU"
   },
   "outputs": [],
   "source": [
    "start_story = '| ' * seq_length\n",
    "    \n",
    "text = start_story + text\n",
    "#text = text.lower()\n",
    "#text = text.replace('\\n\\n\\n\\n\\n', start_story)\n",
    "#text = text.replace('\\n', ' ')\n",
    "#text = re.sub('   +', '. ', text).strip()\n",
    "#text = text.replace('..', '.')\n",
    "\n",
    "#text = re.sub('([!\"#$%&()*+,-./:;<=>?@[\\]^_`{|}~])', r' \\1 ', text)\n",
    "#text = re.sub('\\s{2,}', ' ', text)"
   ]
  },
  {
   "cell_type": "code",
   "execution_count": 7,
   "metadata": {
    "colab": {
     "base_uri": "https://localhost:8080/"
    },
    "id": "bE55-yrJCKaH",
    "outputId": "ac36aea8-f2a4-4f3d-fc46-5a898b9c9100"
   },
   "outputs": [
    {
     "data": {
      "text/plain": [
       "782606"
      ]
     },
     "execution_count": 7,
     "metadata": {
      "tags": []
     },
     "output_type": "execute_result"
    }
   ],
   "source": [
    "len(text)"
   ]
  },
  {
   "cell_type": "code",
   "execution_count": 8,
   "metadata": {
    "id": "EVxXpUHuarQa"
   },
   "outputs": [],
   "source": [
    "if token_type == 'word':\n",
    "    tokenizer = Tokenizer(char_level = False, filters = '', lower = False )\n",
    "else:\n",
    "    tokenizer = Tokenizer(char_level = True, filters = '', lower = False)\n",
    "    \n",
    "    \n",
    "tokenizer.fit_on_texts([text])\n",
    "\n",
    "total_words = len(tokenizer.word_index) + 1\n",
    "\n",
    "token_list = tokenizer.texts_to_sequences([text])[0]\n"
   ]
  },
  {
   "cell_type": "code",
   "execution_count": 9,
   "metadata": {
    "colab": {
     "base_uri": "https://localhost:8080/"
    },
    "id": "ur-5ylcVarQo",
    "outputId": "deea997d-fd80-4bef-9ab2-6d75533d2a8e"
   },
   "outputs": [
    {
     "name": "stdout",
     "output_type": "stream",
     "text": [
      "Number of sequences: 130280 \n",
      "\n"
     ]
    }
   ],
   "source": [
    "def generate_sequences(token_list, step):\n",
    "    \n",
    "    X = []\n",
    "    y = []\n",
    "\n",
    "    for i in range(0, len(token_list) - seq_length, step):\n",
    "        X.append(token_list[i: i + seq_length])\n",
    "        y.append(token_list[i + seq_length])\n",
    "    \n",
    "\n",
    "    y = np_utils.to_categorical(y, num_classes = total_words)\n",
    "    \n",
    "    num_seq = len(X)\n",
    "    print('Number of sequences:', num_seq, \"\\n\")\n",
    "    \n",
    "    return X, y, num_seq\n",
    "\n",
    "step = 1\n",
    "seq_length = 20\n",
    "\n",
    "X, y, num_seq = generate_sequences(token_list, step)\n",
    "\n",
    "#X = np.array(X)\n",
    "#y = np.array(y)\n"
   ]
  },
  {
   "cell_type": "code",
   "execution_count": 10,
   "metadata": {
    "id": "eKfv-FmsANIg"
   },
   "outputs": [],
   "source": [
    "X = np.array(X)\n",
    "#y = np.array(y)"
   ]
  },
  {
   "cell_type": "code",
   "execution_count": 11,
   "metadata": {
    "id": "ukh7HMstBGTm"
   },
   "outputs": [],
   "source": [
    "y = np.array(y)"
   ]
  },
  {
   "cell_type": "markdown",
   "metadata": {
    "id": "zD225Fs7arQq"
   },
   "source": [
    "## Define the LSTM model"
   ]
  },
  {
   "cell_type": "code",
   "execution_count": 12,
   "metadata": {
    "id": "QS5d58rZarQr"
   },
   "outputs": [],
   "source": [
    "if load_saved_model:\n",
    "    # model = load_model('./saved_models/lstm_aesop_1.h5')\n",
    "    model = load_model('./saved_models/aesop_dropout_100.h5')\n",
    "\n",
    "else:\n",
    "\n",
    "    n_units = 256 #Dimensionalidad del espacio de salida\n",
    "    embedding_size = 100\n",
    "\n",
    "    text_in = Input(shape = (None,))\n",
    "    embedding = Embedding(total_words, embedding_size)\n",
    "    x = embedding(text_in)\n",
    "    x = LSTM(n_units, return_sequences = True)(x)\n",
    "    x = Dropout(0.2)(x)\n",
    "    x = LSTM(n_units, return_sequences = True)(x)\n",
    "    x = Dropout(0.2)(x)\n",
    "    x = LSTM(n_units)(x)\n",
    "    x = Dropout(0.2)(x)\n",
    "    text_out = Dense(total_words, activation = 'softmax')(x)\n",
    "\n",
    "    model = Model(text_in, text_out)\n",
    "\n",
    "    #opti = RMSprop(lr = 0.001)\n",
    "    model.compile(loss='categorical_crossentropy', optimizer='adam')"
   ]
  },
  {
   "cell_type": "code",
   "execution_count": 13,
   "metadata": {
    "colab": {
     "base_uri": "https://localhost:8080/"
    },
    "id": "Unf0L202arQs",
    "outputId": "476271fb-0dba-4a1c-c293-c47ed1d4f0fd"
   },
   "outputs": [
    {
     "name": "stdout",
     "output_type": "stream",
     "text": [
      "Model: \"model\"\n",
      "_________________________________________________________________\n",
      "Layer (type)                 Output Shape              Param #   \n",
      "=================================================================\n",
      "input_1 (InputLayer)         [(None, None)]            0         \n",
      "_________________________________________________________________\n",
      "embedding (Embedding)        (None, None, 100)         1937100   \n",
      "_________________________________________________________________\n",
      "lstm (LSTM)                  (None, None, 256)         365568    \n",
      "_________________________________________________________________\n",
      "dropout (Dropout)            (None, None, 256)         0         \n",
      "_________________________________________________________________\n",
      "lstm_1 (LSTM)                (None, None, 256)         525312    \n",
      "_________________________________________________________________\n",
      "dropout_1 (Dropout)          (None, None, 256)         0         \n",
      "_________________________________________________________________\n",
      "lstm_2 (LSTM)                (None, 256)               525312    \n",
      "_________________________________________________________________\n",
      "dropout_2 (Dropout)          (None, 256)               0         \n",
      "_________________________________________________________________\n",
      "dense (Dense)                (None, 19371)             4978347   \n",
      "=================================================================\n",
      "Total params: 8,331,639\n",
      "Trainable params: 8,331,639\n",
      "Non-trainable params: 0\n",
      "_________________________________________________________________\n"
     ]
    }
   ],
   "source": [
    "model.summary()"
   ]
  },
  {
   "cell_type": "code",
   "execution_count": 14,
   "metadata": {
    "id": "txjNNjvuarQu"
   },
   "outputs": [],
   "source": [
    "def sample_with_temp(preds, temperature=1.0):\n",
    "    # helper function to sample an index from a probability array\n",
    "    preds = np.asarray(preds).astype('float64')\n",
    "    preds = np.log(preds) / temperature\n",
    "    exp_preds = np.exp(preds)\n",
    "    preds = exp_preds / np.sum(exp_preds)\n",
    "    probas = np.random.multinomial(1, preds, 1)\n",
    "    return np.argmax(probas)\n",
    "\n",
    "\n",
    "\n",
    "def generate_text(seed_text, next_words, model, max_sequence_len, temp):\n",
    "    output_text = seed_text\n",
    "    \n",
    "    seed_text = start_story + seed_text\n",
    "    \n",
    "    for _ in range(next_words):\n",
    "        token_list = tokenizer.texts_to_sequences([seed_text])[0]\n",
    "        token_list = token_list[-max_sequence_len:]\n",
    "        token_list = np.reshape(token_list, (1, max_sequence_len))\n",
    "        \n",
    "        probs = model.predict(token_list, verbose=0)[0]\n",
    "        y_class = sample_with_temp(probs, temperature = temp)\n",
    "        \n",
    "        if y_class == 0:\n",
    "            output_word = ''\n",
    "        else:\n",
    "            output_word = tokenizer.index_word[y_class]\n",
    "            \n",
    "        if output_word == \"|\":\n",
    "            break\n",
    "            \n",
    "        if token_type == 'word':\n",
    "            output_text += output_word + ' '\n",
    "            seed_text += output_word + ' '\n",
    "        else:\n",
    "            output_text += output_word + ' '\n",
    "            seed_text += output_word + ' '\n",
    "            \n",
    "            \n",
    "    return output_text"
   ]
  },
  {
   "cell_type": "code",
   "execution_count": 15,
   "metadata": {
    "colab": {
     "base_uri": "https://localhost:8080/"
    },
    "id": "QkiwlCBxarQv",
    "outputId": "c6ecf802-ed44-480d-bf09-00bd0c9faaa4"
   },
   "outputs": [
    {
     "name": "stdout",
     "output_type": "stream",
     "text": [
      "Epoch 1/50\n",
      "4072/4072 [==============================] - 327s 74ms/step - loss: 7.4996\n",
      "Temp 0.2\n",
      "\n",
      "Epoch 2/50\n",
      "4072/4072 [==============================] - 202s 50ms/step - loss: 6.8601\n",
      "Temp 0.2\n",
      "\n",
      "Epoch 3/50\n",
      "4072/4072 [==============================] - 216s 53ms/step - loss: 6.4921\n",
      "Temp 0.2\n",
      "\n",
      "Epoch 4/50\n",
      "4072/4072 [==============================] - 191s 47ms/step - loss: 6.2185\n",
      "Temp 0.2\n",
      "Las que se de el que en el año en el país de la que de la que se ha que es el país de los que se ha la que se ha sido de la que se ha que la que de la que se de la que se ha la que se ha la que que que la que en el tema de la que que que se de la que que la que y el crecimiento de la que de la que se ha que de la economía de la que de la que que el país de los que de la que que se ha que de la que que que en el país de la que de la que que se ha que no se ha la que de la que en la economía de la que que el país de los que se ha de la que y la que se de la que se encuentra que se han que que la que se ha que la que se ha de los de las que que la que se ha que se se de la que en el país de la que de la que que se ha la que de la que de la que se encuentra que se ha que se ha que que la que que el país de la que de la que la que se ha que se ha que el país y la que se ha que en la que se ha la que se ha que se que el gobierno de la que se ha que se encuentra que la que es el país de la que de la que se ha sido en el país. en la que de la que se ha que se de los que que el país de la que que el país. de la que en la que en el país de la idea de la que de los que se ha de la que que la que se ha que en la que de la que de la que que el país de la que se ha de la que que el año que que la que en el país de la que de los que se que la que se ha que se ha sido de que la que que la que se ha que que que se de la que que el país de la que que el país de la que de la que de la que se de la que de la que se se de la que se ha la que en el país de la que se ha país en el país de la que que se ha que se de la que se ha de la que de los que la que de los de la que se de la que se de la que en la que se ha que y se han de la que se ha sido que la que \n",
      "Epoch 5/50\n",
      "4072/4072 [==============================] - 284s 70ms/step - loss: 5.9429\n",
      "Temp 0.2\n",
      "El año se encuentra en el país que se ha sido los que se ha sido la que se ha sido la que se ha sido la que se ha de la que se encuentra en el sector de la que se encuentra que se han de los que que el crecimiento de la que se ha llevado a la que la que que el que el presidente de la que se ha sido la que se ha sido la que se encuentra en el país que se ha sido la que se ha sido la que se de la que se ha sido los de las que se ha sido la que se ha sido la que en la que de la que en la economía de la que que que los que se ha sido la forma de la que se ha sido la que se ha sido los que se ha sido de la población de la que se ha sido la que se ha sido de la que se ha sido la corrupción de la que se ha sido la que se ha de la que se ha sido la que se ha sido la que no se ha sido la que se de la que se dio el gasto de la que se ha sido un gobierno de la que se ha sido la que que el país que se ha sido que la que se ha sido no La que se ha de la que que el país y el país que se ha sido de la que de la que se ha sido de la población de la que se ha sido los que se ha sido la forma de la que de la que se ha que se ha sido una que se ha sido los que de el país que se ha sido la forma de la que se ha de los que se ha sido que la que se ha sido la que se ha sido más de la corrupción en el país de la corrupción de la que se ha que la corrupción de la que se ha que la que el gobierno de la que se ha sido la que se ha sido de la economía de la población de la que de la forma del gobierno de la que se ha sido la que se ha sido la que de la que se ha sido los que se ha sido la forma de la que se ha sido en el país y se ha de la que se ha sido la que se han sido la economía de la que se ha sido la que se ha sido la que se ha de la que el país en el país de la que se ha sido la que se ha sido la que se ha sido la que se ha sido de la que que el país de la que se ha sido que la que se \n",
      "Epoch 6/50\n",
      "4072/4072 [==============================] - 242s 59ms/step - loss: 5.7443\n",
      "Temp 0.2\n",
      "El año se de los que de los que se han sido de la que se ha sido más que se han sido los que se ha sido el país que se ha sido que el gasto de la economía de la que la que se han sido la que se han sido se ha sido se le ha sido se ha sido el país que el gasto de la que se han sido que el país que se han sido en la que se ha sido el país en el país de la que se ha sido el país de los que se encuentra que se ha sido el país y el país en el país de la que se ha sido la que se ha sido el crecimiento de la que se ha sido de los que que el año se le han sido de la que la corrupción de la que se ha sido los que la corrupción y el país en el que se ha sido que la corrupción en el sector de la que se ha sido el país que se han sido el país que se ha sido de los que de la que se ha sido un país en el que la que se han sido la forma de la que se ha sido la que se ha sido la que se encuentra en el país y la forma de la economía de la que se ha sido de la que se han sido la forma de la que se ha sido la forma de la que se han sido el país que se han sido los que se han sido los datos de la que se ha sido el país que se ha de la que en el gasto del país y la que se de la que se han sido los que en el país que se ha sido el gasto de la que se han sido la que la que se encuentra que se le ha sido de la que se ha sido los que se ha sido de las que que se ha sido de los que se ha sido los resultados de los que se ha sido un país de la que se han sido el país de la que se ha sido los que los que se ha sido que el gasto de la que se ha sido se ha sido el país en el país de la que se ha hecho que se ha sido se han que los que en el país que se encuentra que el país en el país no se ha sido los que un año se ha sido de la que se ha sido el gasto de la que se ha sido de los que se ha sido el país en el país de la que se ha sido que la que se ha sido que se han sido que la corrupción en el país y la corrupción en el que \n",
      "Epoch 7/50\n",
      "4072/4072 [==============================] - 230s 56ms/step - loss: 5.5399\n",
      "Temp 0.2\n",
      "La semana pasada se ha llevado a cabo que se ha llevado a cabo que se ha sido que de la economía de la que se ha llevado a cabo que se ha hecho en el país de la economía de la economía de la que se ha llevado a cabo en el gasto de la economía de la economía de la economía de la que se ha hecho en el lugar de la economía de la economía de la población en el que se han ido de la economía de la economía de la economía de que el país que se ha sido de los que se encuentra en el país que se ha llevado a cabo que se ha ido de la que se ha llevado a cabo en el lugar de la que se ha sido de la que se ha de la reforma públicas y que se han sido de la economía de las que se le ha vez que se encuentra en el país en el que se ha llevado a cabo que se ha llevado a cabo que se ha sido de la economía de la economía de la economía de la economía de los que se ha llevado a cabo que se ha llevado a cabo que se han visto que se ha hecho que se le han ido de la economía de la que se ha habido la economía de la que se ha ido de los datos de la economía de la que se ha ido de la economía de la que se ha llevado a cabo que se ha permitido la calidad de la economía de la economía de la economía de la economía de la que se han visto que se han llevado a cabo que el país de los que se ha llevado a cabo que se ha llevado a cabo que se ha de la economía de la que se ha sido de la economía que se ha visto que se ha hecho que se ha hecho que se ha ido de la economía de la que se ha llevado a cabo que se ha de la que se ha llevado a cabo que se ha ido de la economía de la población que se han llevado a cabo que se ha llevado a cabo se ha llevado a cabo el país de la economía de la economía de la que se ha llevado a cabo que se ha atrevido a la economía de la economía de la economía de la economía de la que se ha hecho que se ha sido de la economía de la que se ha ido de las que se da el gasto de los que se ha logrado la de los que se ha hecho que es el país en el que se ha ido de la economía de la economía de la que se pueden de la corrupción de que el año se ha ido de la economía de la \n",
      "Epoch 8/50\n",
      "4072/4072 [==============================] - 206s 51ms/step - loss: 5.3562\n",
      "Temp 0.2\n",
      "La semana pasada se le ha hecho que no se ha llevado a cabo el plan de la población en el que se han visto que el país que se ha hecho en el sector privado de la economía de los que se ha hecho en el lugar de la economía de las que se le han ido de los que se han llevado a cabo los que se han visto que se le le han hecho que se han visto que el país que se asignan que se ha hecho en la calidad de la población y la corrupción y la corrupción en el que se han llevado a cabo el mercado de la que se ha hecho que se ha ido de la que se ha ido de los recursos de la que se ha llevado a la población y la forma de la que se han llevado a cabo el país y el país de la que se encuentra en el lugar de la que se ha hecho en el país y la corrupción y el gobierno de la que se ha hecho que se le parece que la que se le parece el país que se ha ido de la que se han hecho que se ha hecho que se le dan un país y el país de los que se han hecho de la forma de la que se ha hecho en el país en el que se ha hecho que se le han hecho en el lugar de los que se han visto que se le han ido de las estados en la que se ha hecho que se ha hecho en el país de la que se han hecho en el gasto de la que se ha llevado a cabo el país que se ha hecho en el país de la de los que se han visto que el país se han ido de la que se han visto que se han ido de la economía de la que se ha vuelto el país que se ha hecho que se ha ido de la economía de la que se han llevado a cabo el presidente de la que se ha visto que el país de la economía de los que se ha hecho en el país en el que se da la corrupción de la que no se ha llevado a cabo el país que se han ido de la que se de la forma de la economía de la que se ha hecho que se ha ido de la forma de la que se le han llevado a cabo el país de la que se han visto que el país que se ha hecho en el tema de la que se ha llevado a cabo el país en el que se le parece se percibe en la forma de la deuda de la que se está en la forma de la que se ha visto que el país que se ha hecho \n",
      "Epoch 9/50\n",
      "4072/4072 [==============================] - 206s 51ms/step - loss: 5.1760\n",
      "Temp 0.2\n",
      "El año pasado en el entorno de acuerdo a la economía de la economía de acuerdo a la pobreza de la economía de los que se ha hecho que se encuentra en el lugar de la economía de los que se ha hecho en el lugar de la economía de la que se ha hecho que se encuentra en el momento de la que se han hecho en el lugar de la economía de la que se ha hecho en el lugar de la que pero el país y de acuerdo a la economía de la que se ha hecho que se ha hecho en la forma de las que se le parece en el momento que se ha incrementado que se ha hecho que se refiere a la pobreza que se han hecho que se refiere a la forma de la economía de la que se ha hecho que se encuentra en el momento de la Ciudad de México es la corrupción en el país que se han hecho en la economía de la economía de la que se le da la corrupción y se ha visto que se han hecho que se refiere a la economía de forma de la economía de la que se ha hecho en el momento de la que se ha ido de la mitad de la población que se encuentra en la forma de la ciudad en los que se ha hecho en el lugar que se ha hecho en el lugar de la economía de la que se ha hecho que se ha hecho en el lugar de la que se han hecho en el momento que se ha hecho que se han hecho que se encuentra en el sector público y de la deuda de la Ciudad de México que se encuentra en el momento de la economía de que se le han hecho en el sistema de la que se ha hecho que se trata de la economía de acuerdo a la economía de la población en el lugar de la economía de acuerdo a los condiciones de la economía de la que se ha hecho que se refiere a los que se ha hecho en el lugar de la economía de que se ha hecho en el lugar de las que se ha hecho en el lugar de la economía de la economía de la economía de que se refiere a la pobreza de la economía de que el país que se ha hecho que se han hecho que se han hecho en el lugar de la que se ha hecho que se dio en la corrupción que se ha hecho y el país que se trata de la economía de la que se ha hecho que se encuentra en el momento de la que se ha hecho en el lugar de la economía de la que se han hecho que se refiere a la economía de forma de la que se ha hecho en el lugar de la \n",
      "Epoch 10/50\n",
      "4072/4072 [==============================] - 204s 50ms/step - loss: 5.0230\n",
      "Temp 0.2\n",
      "El año pasado en el año se ha llevado a la economía de los que se ha llevado a la economía de la economía de los que se ha llevado a la economía de la economía de la economía de la economía de la economía del Banco de la población de los que se ha llevado a la economía de la economía de la economía de los que se ha llevado a la economía de la economía de la economía de la economía de la economía de la que se ha llevado a la economía de la economía de la economía de la economía de la economía de la que se ha llevado a los años de la economía de las que se ha llevado a la economía de la economía en la que se encuentra en el lugar de los que se ha llevado a la economía de la economía de la que se ha hecho en los últimos años de la sociedad y la economía de la economía de la economía de la economía de los que se ha hecho que se ha llevado a la pobreza de la economía de la economía de los que se ha llevado a la economía de la economía de los que se ha hecho que se ha ido intenciones, pero se ha incrementado en el país de los que se ha llevado a la economía de acuerdo a la economía de los que se ha ido de los países de la economía de la economía de los que se ha hablado de la economía de la economía de la economía de la que se ha llevado a la economía de la economía de los que se ha ido intenciones, no se ha llevado a la economía de los que se ha llevado a la economía de la economía de la economía de la economía de la que se ha llevado a la economía de la economía de la economía de la economía de la economía de la economía de la economía de la que las que se han llevado a la economía de la economía de la economía de la economía de la población y el país que se ha llevado a la economía de la economía de los que se ha ido de las que se ha llevado a la economía de los que se ha llevado a la economía de los que se ha llevado a la economía de la economía de la que se ha llevado a la economía de la economía de la economía de la economía de la economía de la que se ha llevado a la economía de la economía de los que se han llevado a la economía de la economía de la economía de la economía de la que se ha llevado a los recursos para la economía de acuerdo a la economía de la economía de la economía de la economía de la economía de la economía de la que se ha \n",
      "Epoch 11/50\n",
      "4072/4072 [==============================] - 210s 51ms/step - loss: 4.8710\n",
      "Temp 0.2\n",
      "La semana pasada el año se ha ido en el año se encuentra en el lugar de la OCDE se ha llevado a cabo los resultados de la economía de las que se ha llevado a cabo los resultados de la economía de la economía de la OCDE. La semana pasada se han llevado a cabo la productividad de acuerdo a la economía de los que se ha llevado a cabo los resultados de los recursos de la economía de la OCDE se ha llevado a cabo los resultados de los que se ha llevado a cabo los resultados de la Ciudad de México es un país en el año se han ido de la economía no es un programa de crecimiento de la deuda de la política en la que se ha llevado a cabo la gente se ha logrado un año se han visto en el lugar de acuerdo a la población en el sector privado se ha ido en los últimos años de la OCDE se ha llevado a cabo los resultados de la economía de la economía de la OCDE se ha llevado a cabo los resultados de los últimos años en el que se ha ido Fue en el lugar de la economía de la OCDE se ha llevado a cabo el país se encuentra en el lugar de la economía que se ha llevado a cabo los resultados de la OCDE se ha incrementado en el que se ha llevado a cabo el país es la percepción de la OCDE se ha ido en la forma de la OCDE se ha atrevido a cabo la gente se encuentra en la Ciudad de México y que se le ha sido una vez se encuentra en la forma de la OCDE se encuentra en el lugar de la que se han llevado a cabo la pobreza de la OCDE se han vuelto la economía de la OCDE se ha hecho en el país que se han visto en el sector privado se ha visto en la forma de la economía de la OCDE se ha llevado a cabo la tasa de empleo de la economía de la economía de la OCDE se ha visto en el lugar de los que se han logrado la Ciudad de México que se ha ido en la Ciudad de México y el año se ha ido en los últimos años de la OCDE se ha llevado a cabo el país se ha hecho en el lugar de la economía de la OCDE se ha llevado a cabo el gobierno se encuentra en el lugar de la economía de la economía de la economía de la OCDE el Obrador se ha llevado a cabo el país se han ido en la economía de acuerdo a los últimos años de la OCDE se ha llevado a cabo los resultados de la economía de la OCDE se ha ido en el país en el que se ha llevado a cabo los resultados de \n",
      "Epoch 12/50\n",
      "4072/4072 [==============================] - 219s 54ms/step - loss: 4.7116\n",
      "Temp 0.2\n",
      "La semana pasada se le había hecho en el lugar de la economía de la que se ha llevado a cabo una productividad de la economía de la economía de la que la semana pasada se ha incrementado y se han hecho en el que se han llevado a cabo una capacidad de informalidad y una idea de la economía de la que se ha llevado a cabo la pobreza en el que se le ha llevado a cabo la tasa de informalidad y la tasa de informalidad y de partir de la población en el que se asignan en el lugar de forma de los que se le han llevado a cabo la pobreza en el que se ha hecho en el lugar de la economía de la economía de la que se refiere a la economía de los candidatos que se ha llevado a cabo los beneficios de los estudiantes que se le ha hecho a la Ciudad de México es el país que se ha llevado a cabo la tasa de informalidad y decir, el porcentaje de la población que se ha hecho en el lugar de la economía en la que se mueve en el mercado de la que la semana pasada se trata de la economía de los que se ha llevado a cabo que se le había hecho en el lugar de la Ciudad de México en el que se le ha llevado a cabo la tasa de informalidad se encuentra en el momento de la economía de la que se ha llevado a cabo de la Ciudad de México y en el año anterior, que se le había hecho en el lugar de las que se ha llevado a cabo en el lugar de la que se refiere a la economía de la economía de la deuda de la que se anunciaron hacer las reformas públicas de la economía de las que se ha llevado a cabo que se le ha hecho en el lugar de la economía de la que se ha atrevido a forma de la economía de la Ciudad de México y en el lugar de la economía de la Ciudad de México que se encuentra en el lugar de los que se le ha llevado a cabo lo que se le había hecho que se le había hecho que se han hecho en el que se han llevado a cabo que se han hecho en el lugar de la Ciudad de México en la población ocupada de la deuda de la economía de la que se han llevado a cabo que se le ha hecho en el lugar de los que se han hecho en el que se han llevado a cabo la pobreza en el que se le había hecho en el lugar de los que se ha llevado a cabo la tasa de informalidad y el país es el de la Ciudad de México y en el lugar de la economía de la que se ha llevado \n",
      "Epoch 13/50\n",
      "4072/4072 [==============================] - 214s 53ms/step - loss: 4.5656\n",
      "Temp 0.2\n",
      "El año pasado (día de la mitad de la población de los que se le pide a la corrupción que se le ha hecho en el momento de la economía de la que se ha llevado a cabo el crecimiento de la economía de crecimiento de la población y de la economía de la OCDE. Sin embargo, el presidente de la OCDE se ha atrevido a cabo el año se dio que se ve en el lugar de la OCDE se encuentra en el lugar de la economía de la que se ha llevado a cabo más de los países de la OCDE. La semana pasada se ha incrementado en la calidad de la deuda de la que se refiere a la economía de crecimiento de la economía de la OCDE. En el momento de acuerdo al sector informal. En los últimos cinco años de forma de la OCDE. En el lugar de la OCDE se refiere a la situación económica del país es la economía de la OCDE se encuentra en la calidad de la población de la economía de producir de los que se le da un programa de producir de la deuda de la ciudad de la deuda de la sociedad de la OCDE se refiere a la calidad de la población de la Ciudad de México es el país se encuentra en el lugar de la economía de la economía de la OCDE se encuentra en los últimos años de la economía de la OCDE se refiere a la economía de la economía de acuerdo al 6 por ciento de los estudiantes de la población ocupada de la deuda de la economía de la Ciudad de México de la población de la deuda de la economía mexicana en la economía pública y de los que se trata de vista que se le había ido moviendo, en el sector privado se ha hecho en el lugar de la OCDE se refiere a los candidatos que se le dan un estudio de crecimiento de la OCDE. La reforma fiscal de la economía de producir de los países de la economía mexicana de ser cabida por ciento. Parecen de acuerdo. Pero el país es de los estados que se ha llevado a cabo el cambio de la economía de la que se ha vuelto las economías de la OCDE se encuentra en el lugar de la OCDE se vuelve de forma de forma de los candidatos que no han sido un año se refiere a la situación de corrupción es de los niños en la calidad de la población y la corrupción se refiere a la pobreza de la Ciudad de México es una tasa de corrupción en el sector privado se refiere a la tasa de informalidad y de la economía de la OCDE. La reforma energética llegó en ejemplo, en el lugar de la que se ha llevado a cabo un problema de la Ciudad de México es una tasa de informalidad en el que se ha \n",
      "Epoch 14/50\n",
      "4072/4072 [==============================] - 216s 53ms/step - loss: 4.4096\n",
      "Temp 0.2\n",
      "La semana pasada se le había asignado mil millones de pesos en el año se encuentra en el lugar de la economía de la economía de la economía de las que se le dan una decisión de la OCDE se mantienen y en el lugar de la economía de la economía de la OCDE se ha incrementado en el sector privado se ha hecho en el lugar de opacidad en el sector público, se ha asignado en el lugar de nación que se le había permitido un incremento de la economía de la Ciudad de México y de los países de la economía de la economía de la economía de la deuda de la que se ha vuelto la economía y la Ciudad de México y de partir de la población ocupada de la economía de producción de la economía de la universidad de los que se ha hecho que se encuentra en el lugar de la economía de la economía de la economía de la que se ha llevado a cabo el gasto de Constitución de la economía de la que se ha llevado a cabo que el crecimiento de la que se ha incrementado en el sector informal. En este momento se encuentra en el lugar de que se ha incrementado en el sector privado se ha llevado a cabo una pobreza de la economía de la economía de la economía de contabilidad de contabilidad público y de la reforma, pero el crecimiento de la deuda de la que se ha llevado a cabo el gasto de reconstrucción de la OCDE. La corrupción se encuentra en el sector privado se ha llevado a cabo en el momento de la economía de la OCDE. La semana pasada se le olvida que la corrupción se refiere a la gente se encuentra en el lugar de la reforma educativa es que en la economía de acuerdo a los mercados de la economía de los que se ha perdido que se encuentra en el lugar de la economía de la economía de la que se han llevado a cabo pero la pobreza de la economía de origen. Es el tema de la economía de la economía de la universidad de la economía de la economía se refiere a la producción de la economía de la Ciudad de México es decir, el crecimiento de la deuda de la OCDE se le había asignado significativamente en el momento, pero el crecimiento del país. El crecimiento económico de la deuda y el país de la economía de la economía de la OCDE se encuentra en el lugar de la OCDE se encuentra en el lugar de la economía de la economía de la deuda y la única forma de la que se ha incrementado en el que se ha hecho en el lugar de producción de la economía de la que se ha llevado a cabo más de los países de la mitad de la población y el presidente de los que se ha llevado \n",
      "Epoch 15/50\n",
      "4072/4072 [==============================] - 217s 53ms/step - loss: 4.2670\n",
      "Temp 0.2\n",
      "La semana pasada se le había asignado en el lugar de competitividad de la OCDE. La reforma energética llegó que hacer una economía de producir de los estados y el país que se ha llevado a cabo de los países de la OCDE. El año pasado que se encuentra en el lugar de la ciudad se refiere a la presidencia de la deuda de la OCDE. La corrupción se encuentra en el lugar de la economía de la economía mexicana y de forma de la OCDE se vuelve de un año se refiere a la corrupción. La corrupción es una de las condiciones de los países que se incorpora a los recursos de los que se han hecho en el lugar de la economía de producir en el que se trata de estar y de forma de la economía de la economía de la OCDE. La corrupción se refiere a la corrupción de la OCDE. La idea de la economía de la economía mexicana y de ser de la economía pública y la economía de producir en el que se ha llevado a cabo el gasto de producción de la OCDE. La Ciudad de México que se había ido regiones de la OCDE. La economía es un año el Obrador ha sido de los países de la economía de la ciudad de la economía mexicana. La corrupción es un tema de desarrollo de la deuda de la economía mexicana en el que se ha hecho en el lugar de competitividad de la economía de producir en el que se ha ido Aquí el gobierno de Egresos de la gasolina se encuentra en el lugar de la economía de la economía de la OCDE. No es un tema de la OCDE. No se ha llevado a cabo pero en el lugar de crecimiento de la deuda de la OCDE. La corrupción se refiere a la luz de la economía mexicana que se encuentra en el lugar de la economía de la que se ha ido intenciones, se da la oportunidad de desocupación de energía de corrupción y en el lugar de los trabajadores de la economía de producir y el Inegi y la de las que se ha visto en el lugar de crecimiento de la población de los que se trata de tener el país y de los estados de los estados que se han visto en el lugar de competitividad de la economía mexicana en el que se ha visto en el lugar de producción de los que se pretende creer que se encuentra en el lugar de que se trata de estar y el país y el tema de la ciudad se encuentra en el lugar de la OCDE se ha visto que el que se hace un incremento de la economía mexicana y de control de la economía de producir en el que se ha ido Aquí un problema de la economía de la deuda de la economía pública de los recursos que se han ido quedando \n",
      "Epoch 16/50\n",
      "4072/4072 [==============================] - 250s 61ms/step - loss: 4.1475\n",
      "Temp 0.2\n",
      "La semana pasada la corrupción es el presidente de la OCDE. Al haber obtenido de la educación de la ciudad se ha ido disminuyendo en la canasta energética, la inflación de producción y de los estados que se han visto en el lugar 102, pero sí es un país en el que se le da que los candidatos que se incorpora la atención que se incorpora a los estados y de Trump y que se aprovechen en el lugar de la ciudad y el sector privado subinvierte de duda, el gasto se equivocó en la forma de la economía mexicana para mejorar la calidad de la población y se ha llevado a cabo más de los países que se sienten en el sector privado subinvierte en el momento, la forma de ley 3de3, y que se ve en el lugar de crecimiento del país. Si el país se refiere a la situación económica de la deuda de la economía mexicana y en los países que tomamos en el sector privado subinvierte en el momento, se encuentra en el lugar de Quintana administración. No tengo un país en el que se ha llevado a cabo la semana pasada la corrupción se refiere a la economía de producción de desarrollo de la población y se ha llevado a cabo en los últimos meses de acuerdo a los mercados financieros que se han asignado sustancialmente de un país que crezca, en el momento de Egresos de la población y en el desarrollo de la economía mexicana para ser cabida a través de que se lleven a cabo en el lugar de Alejandro Roo y el de las mujeres que se han llevado a cabo tipo de pesos, pero en ese momento que se ha vuelto la pobreza de inicio de los recursos de la economía mexicana. En el lugar de crecimiento económico de la población y se ha incrementado en el que se ha sido respetados por ciento de los mexicanos mexicanos es el país se han hecho en el sector privado subinvierte de acuerdo a los mercados financieros que se han hecho en el lugar de ocupación de la economía mexicana y de avanzar. Pero no es un problema de la que se ha vuelto la corrupción que se incorpora a la canasta básica que se le ha llevado a cabo lo que se han hecho en el lugar de competitividad del país. La corrupción es un problema de la OCDE se encuentra en el lugar de ocupación de la economía mexicana y de capacidad de formalización de remesas y de sorpresas. Los datos de corto plazo. \n",
      "\n",
      "Se da más de las economías públicas de la economía mexicana y de capacidad de formalización de vista que la educación es un país de la economía de la economía mexicana y de expertos en el país. Incluso sabemos que se le da un estudio de oportunidad. \n",
      "\n",
      "Los precios de la ciudad se encuentra en el lugar de la economía de producir de la economía \n",
      "Epoch 17/50\n",
      "4072/4072 [==============================] - 314s 77ms/step - loss: 4.0148\n",
      "Temp 0.2\n",
      "La semana pasada la reforma energética llegó de acuerdo. \n",
      "\n",
      "No se puede hacer un problema que se ha visto en el lugar de corto educativo y el país en el que se ha llevado a cabo en el sector salud, el crecimiento del país se encuentra en el sector informal y el país en el que se ha llevado a cabo en el lugar de acuerdo a los demás retos de desarrollo de la economía mexicana en el país. El dato se dio en el que se habla de vista que el gasto de producción de los trabajadores en el país. La semana pasada, la corrupción ha sido independiente de los de las economías estructurales del país y en la que se anunciaron hacer los procesos de consumo de los que se han visto en el lugar de Trump, que se produce en el sector privado se ha llevado a cabo en el lugar de 1.9 por ciento. Desde un crecimiento de 2.4 por ciento de la población ocupada de los recursos de los que se han asignado sustancialmente de los trabajadores que se sienten en el sector privado se refiere a la tasa de desocupación que se encuentra en los últimos años de forma de seguridad de los que se han incrementado para poder mantener su rol de transferencias de forma sostenida y de forma de inversión que se contempla la pobreza de vida de los recursos que se encuentra en el lugar de la OCDE se encuentra en el momento, se encuentra en repetidas ocasiones que la corrupción no se ha llevado a cabo lo que realmente haber sido víctimas de la realidad. La semana pasada la corrupción se encuentra en el sector privado se presentó el país y el país se le dio en el lugar de la economía mexicana y de cerca de los trabajadores que se han usado de forma ineficiente. Nadie pretendo lograr una idea de la deuda de la deuda de la Ciudad de México es decir, el país que se encuentra en el lugar de la OCDE se encuentra en el sector privado se encuentra en el lugar 65 de 140 países y de cerca de los países de la OCDE se anunciaron recortes en este momento, se refiere a la economía que se incorpora a los sectores de transferencias y el país que se incorpora a los recursos de los que se han llevado a cabo que se les había ido moviendo, no se les dé a los votantes que se han incrementado en el país. \n",
      "\n",
      "En México, el gasto de fuga en el desarrollo de la deuda de la OCDE se ha vuelto un problema de la ciudad se encuentra en el sector privado se refiere a los candidatos en los últimos años que se han llevado a cabo de forma de la OCDE. Sin embargo, el gasto Peña Nieto de los hallazgos y sustancialmente un problema de la economía de la OCDE. Pero en el momento de la OCDE \n",
      "Epoch 18/50\n",
      "4072/4072 [==============================] - 357s 88ms/step - loss: 3.8751\n",
      "Temp 0.2\n"
     ]
    },
    {
     "name": "stderr",
     "output_type": "stream",
     "text": [
      "/usr/local/lib/python3.7/dist-packages/ipykernel_launcher.py:4: RuntimeWarning: divide by zero encountered in log\n",
      "  after removing the cwd from sys.path.\n"
     ]
    },
    {
     "name": "stdout",
     "output_type": "stream",
     "text": [
      "La semana pasada se le atribuye a cabo los datos de la economía mexicana. Los candidatos ganan que los problemas de la prueba PISA que se han llevado a cabo lo que se le había hecho en el lugar de régimen de 100 mil millones de pesos en el mundo, pero el presidente Peña Nieto Peña Nieto del partido y que se han llevado a cabo lo que se le había hecho más de lo que se presupuestó ocurren miles de millones de pesos en el año anterior. Los datos de la economía mexicana en el sector informal. En este sentido, se refiere a la desigualdad de producir de la economía mexicana. Los datos de crecimiento de la deuda de la Ciudad de México es que el país ha sido homogéneo, se ha vuelto el tema de Egresos de la gasolina en la que se determina un sistema educativo de la deuda de la deuda soberana de recibir un año se ha llevado a cabo la idea de la deuda mexicana y decreció ligeramente una economía de acuerdo a los mercados financieros que se ha ido estable, establemente vez en el gasto público que se aplica en el lugar de la OCDE se encuentra en el lugar de crecimiento de los recursos de la prueba PISA y en el sector automotor (estudiantes performance Friedman, disruptiva. En el índice de acuerdo, que se encuentra en el lugar de la economía de la deuda de la deuda de la deuda de la OCDE se encuentra en el lugar de la deuda de la OCDE se encuentra en los últimos meses de la OCDE. Pero no perdamos de vista que la corrupción se encuentra en el lugar de crecimiento económico de la economía financiera y la recuperación pública de la deuda de la Ciudad de México y en los últimos años de la OCDE alcanza una tarea de forma de seguridad social y de 7.0 por ciento, pero el país se ha vuelto un negocio de principios de 2014 y María Hace 2014 el precio de la gasolina se encuentra en el lugar de Trump, se encuentra en el lugar 95 de 137 países en la economía mexicana en la que se determina en los últimos meses de crecimiento de los recursos de los trabajadores y los que se den los países miembros de la población ocupada de la economía de bienestar de la economía mexicana. Pero también no se trata de ser óptima. Pero también no es suficiente para mejorar la corrupción y la corrupción y no se aprobó en el momento de desarrollo.\n",
      "\n",
      "La que se ha llevado a cabo pero el crecimiento del país. En este año se le había ido moviendo, en el sector privado se mueve que se han hecho en los últimos meses de la Ciudad de México es un país que se encuentra en el lugar de la economía de acuerdo a los candidaturas Hubo cápita de la OCDE. En el lugar 65 de 140 países y \n",
      "Epoch 19/50\n",
      "4072/4072 [==============================] - 360s 88ms/step - loss: 3.7583\n",
      "Temp 0.2\n",
      "La semana pasada el presidente Peña Nieto no se ha vuelto la economía de producción de la economía mexicana en la que se comparte el país es el desarrollo del país. No sé un país que crezca, es un problema de que se le pide a la gente de la presidencia de la población está en los últimos meses de forma de seguridad que se han llevado a cabo de los países que se sienten más que el que se ha incrementado y de los estados que se permita en la economía mexicana que permita ser una idea de género que se tomen automáticamente son saber cuál es el inicio de la gasolina y la creación de empleo formal de la economía mexicana que paga en el sector informal. El crecimiento económico de la población se encuentra en temas de desarrollo de la deuda para proteger a la corrupción. El gobierno se ha vuelto prácticamente los estados que crecen en los últimos años que tomamos en los últimos años. Hoy no tendríamos que estar atentos al cambio de los candidatos que se sienten a los niños en los que se deba al eterno dilema en el mercado laboral y de 7.0 por ciento, pero en el mismo nivel económico de la OCDE se encuentra en el lugar 95 de 137 países. El ejemplo de la basura. En este sentido, se encuentra en repetidas ocasiones que se le recuerda en la población política de crecimiento del Banco Central de autonomía de corrupción. Una vez de la economía mexicana que paga en el sector privado constituyeron el entorno de pensiones. No tengo duda es más de la reforma educativa es que se les pida 'mordida' en serio que no es suficiente para que se lleven a cabo de los recursos que aquejan a los candidatos que crecen a los niños que van en el país. Incluso mientras que la reforma educativa es relevante para la economía mexicana que se produce en el ámbito plazo. En este entorno de producción de la OCDE se encuentra en el lugar de crecimiento económico de la economía de producción de la OCDE se refiere a la presidencia de los recursos de los trabajadores que crecen a los estados que crecen a los estados que crecen a los trabajadores que crecen a las mujeres que tomamos en el sector agropecuario. No sólo eso, no se desea atrapados en la forma de vida de la población y no se ha llevado a cabo a los países de la OCDE. En el otro trimestre de México es decir, el país es el desarrollo de la economía monetaria de la OCDE –sólo contar, y estrategias de campaña de la economía mexicana que paga en los últimos años de forma de seguridad social de la OCDE la semana pasada entra el gasto de producción de la OCDE se aprobó un mejor desempeño de la economía de corrupción, la economía pública permite un problema de la OCDE se comparte en el entorno \n",
      "Epoch 20/50\n",
      "4072/4072 [==============================] - 358s 88ms/step - loss: 3.6674\n",
      "Temp 0.2\n",
      "El año pasado (día de las campañas que se han perdido enormes resultados de la economía mexicana. Los datos de inversión de seguridad nacional que se han asignado en el sector privado subinvierte bien, que estar atentos a rendir de las campañas de seguridad que se han hecho en el mercado de 2.4 por ciento del PIB. La Secretaría de Hacienda es decir, la informalidad es más grande de la población ocupada de la ciudad y el gasto de pensiones. No tengo saber que se ha hecho impulsado de una economía de la Ciudad de México se encuentra estancadas en un país en el que se ha incrementado. En este sentido, se encuentra en el lugar de crecimiento del PIB de los países que se han hecho sustancialmente un incremento de la economía mexicana en el que se ha incrementado en el sector público, en el lugar de crecimiento del PIB de la economía de la OCDE. No es un gran paso de la población de la Ciudad de México es decir, en el lugar 95 de 137 países en la economía mexicana que se ha hecho en el lugar de la economía automotriz ha anunciado en el lugar 95 de 137 dada el lugar 86 de los 80, el país en el que se ha incrementado en el sector público, en el lugar de la población se encuentra en el lugar de crecimiento del PIB de la ciudad y el gasto de desarrollo de la economía de la OCDE. No es menor. Pero me parece un tema de que se le recuerda de la sociedad. No es menor. No sé si no se ha recuperado en el lugar de ánimo de la población. No sé un buen lugar de Trump, se encuentra completamente normal. Si hay mucho que vamos a trabajar en el país de la que se determina en qué se refieren en serio el efecto de la ciudad y el crecimiento económico del país. Si queremos ver el gasto de pensiones. No creo que sea la corrupción no es un tema de que se le pide a la presidencia de los que se le había dedicado buenos Antonio Meade, se han hecho en los últimos meses de acuerdo al gasto. Pocos Bruto. En este lado, se le había asignado en el mismo de la mitad de la población se encuentra en la Encuesta Nacional de Ocupación y Empleo arrojan un país en el que se ha incrementado. La regulación está creciendo al comercio en el que se le pide a los candidatos en el sector informal y de inicio de los recursos de la población y de la mano Luxemburgo el país se encuentra en el sector privado ha sido válido ser un problema de la que se refiere el país en el que se le había asignado mil millones de pesos en el año anterior. La mayoría, de la mitad de la gasolina se encuentra en el sector público y el sector privado decidieron fundamental en \n",
      "Epoch 21/50\n",
      "4072/4072 [==============================] - 352s 86ms/step - loss: 3.5496\n",
      "Temp 0.2\n",
      "Dicen por ahí que prometer en ese país se le había hecho en el lugar de Trump, se encuentra en la prueba PISA que han sido un sistema educativo de progreso, se ha visto en el lugar de McKinsey es menor. En los últimos años de América social de forma nacional, la creación de empleo formal y de 7.0 por ciento del PIB y de alguna administración es menor. Puede Poor´s de acuerdo. \n",
      "\n",
      "Con los ingresos de la OCDE. No es suficiente sobre la forma de producir de la población y se trata de la población que consumimos, de la economía de la canasta PISA y no se ha hecho una vez que se le recuerda por la población ocupada de que se le había quedado en los que se anunciaron oyendo o de forma de transferencias y el pago de automatización de la población ocupada de la economía de producir de los recursos de la OCDE se produce en el gobierno. \n",
      "\n",
      "No se ha llevado a cabo de los últimos cinco años de 1.9 por ciento, mientras que la productividad se refiere a la economía mexicana que tiene impuestos y poco, pero no es un tema de amor y paz en el país que crezca, de la mitad de la gasolina se encuentra en el lugar de la OCDE se encuentra en el mismo periodo de 2018. \n",
      "\n",
      "El incremento de 5.3 por ciento de la población ocupada de la economía de Veracruz es una fracción de la deuda de producción creció 5.7 por ciento. Para 2017 los niños salgan de viajeros de Quintana manera de forma de seguridad social de forma sostenida en los que aquí se trata de la mente de la Ciudad de México es una entidad fácil. La deuda es menor. Es decir, la economía financiera de abril de 2016 rechazó la pena generar un sistema educativo y el desarrollo de la deuda soberana de recibir un sistema financiero electrónico, pero es un ejemplo de la forma de producir y de los estudiantes que se han llevado a cabo una caída de la ciudad se encuentra en el lugar de Trump, tiene que reconocer que el gasto en innovación y el costo financiero de la población ocupada del país y de los estados que han tenido un incremento de la deuda de la OCDE. La semana pasada entra la forma de producir de los que se está creando una de las medidas de seguridad que se ha hecho de forma sostenida y de Trump se da poca red de atención de los que usan más eficientes. También creo que el objetivo de ánimo, un problema de la que se ha llevado a cabo de los recursos de la ciudad de abril de este año se ha vuelto prácticamente un acuerdo de delegados a alcaldes? ¿Se solucionará en el ámbito de la economía mexicana de AMLO, de 11 por ciento. Hoy se ha incrementado en los últimos cinco años y municipios de 15 años de educación y \n",
      "Epoch 22/50\n",
      "4072/4072 [==============================] - 358s 88ms/step - loss: 3.4319\n",
      "Temp 0.2\n",
      "Dicen por ahí que prometer en ese sentido, se le había dedicado buenos resultados de la presidencia de la población y la corrupción es de 7.0 por ciento de la población ocupada de la OCDE. El año pasado que había sido suficiente para impulsar el desempeño de la población en el gasto de transferencias de bajos ingresos, pero siquiera se ve en el lugar espectro de la economía de producir y se encuentra en el lugar 95 de 137 países. Al parecer, los resultados de los que se han hablado de la OCDE se detalla el gasto de producción de la economía en los últimos años de forma de que los beneficios de la prueba PISA de la economía mexicana. Los resultados de la OCDE, México vive en qué serán Sucedió los ajustes que vienen para poder evaluar el vaso medio de acuerdo a los propios retos y de reformas, el país —y el número de trámites que se le había hecho en el sector público, la semana pasada la corrupción no ha sido exclusiva de forma de seguridad que se ha ido moviendo, con el vínculo del país, se han llevado a cabo sus promesas, se construyen al presidente, de los hijos 73. Se gusta respuestas urgente para pagar inversión ineludibles en consecuencia, en pocos días de vehículos…. resultó hacerlo, la forma de producir de la economía mexicana. El crecimiento económico es menor, el país que se usa en el lugar de Trump, que se hable menos de ellas, se le han quedado y en el lugar de Trump, que se trataba de que enfrentar el siguiente comercio, pero el precio del petróleo se encuentra en el lugar 95 de 137 países en el sistema educativo y de 7.0 por ciento en el año anterior. \n",
      "\n",
      "Dada los datos de los países que se han perdido en el sector público, en el gasto de competitividad de acuerdo al Coneval, presidente de la población se encuentra ubicada \n",
      "\n",
      "Chiapas suficientes opina que es costumbre ahora. En el caso de intereses de votar que se tomen decisiones trascendentales para el país en el que se ha movido enormes propios presiones Al parecer, quitarse el doctor política, pudiera es el primer incumplimiento para la Ciudad de México se encuentra estancadas en el Presupuesto de los recursos de la OCDE se detalla el desarrollo de la población y se encuentra en el lugar de apoyo de la economía de la OCDE se refiere a los candidatos miembros de la población ocupada de la mitad de la población ocupada de la economía de producir en el que llevan a los estados en el país. El crecimiento económico del país ha sido leve. El sistema educativo es indispensable que se desea entregas digan que tenga que resultan y estrategia de hacer negocios en el futuro. El Obrador anterior para adquirir la agenda de Harvard se trate. El costo de la población ocupada de la ciudad y el respeto de la deuda de la OCDE se dio el \n",
      "Epoch 23/50\n",
      "4072/4072 [==============================] - 358s 88ms/step - loss: 3.3367\n",
      "Temp 0.2\n",
      "Dicen por ahí que prometer los datos de la mitad de la economía mexicana en el que se ha incrementado en el sector público, se dio un ingreso básico universal que ha tenido avances a los estados en el sector público, pero no es un problema de la que se ha incrementado en el que prevalece el impacto de la que se determina en el lugar de ocupación de la economía de la OCDE alcanza pilares, de acuerdo. Esa prometió que el crecimiento es de 3.3 por ciento. La tasa de empleo formal y se encuentra en el lugar 65 de 140 países y percepción, dependiendo de la gente. ¿Cuántos hacerlo, miles de millones de pesos en el sector informal. La semana pasada entra la falta de empleos en la que se determina en el lugar de ánimo de la economía mexicana y de 7.0 por ciento, pero en 2015 la volatilidad se dio muy grande del país en el que se han depreciado 12.78 por ciento. En 2016, el gasto público es uno de los países miembros de la población ocupada de la economía. En términos de hacer negocios que se encuentra en el lugar 30 de este año se dio un estudio de McKinsey Global Institute menciona información de la economía mexicana. La inflación inicial de la ciudad —también en el libro York Times asume que el gasto es más desigual para la economía. El gasto es ambicioso. Los datos de la OCDE, sino que se les dio un país en el que se anunció un buen lado de la deuda soberana de recibir un problema en el que llevan al sur de la deuda soberana de recibir un año de la economía automotriz representaba un problema de ánimo, un sistema educativo que enfrentará una economía de éxito, de que los recursos de la OCDE –sólo rebasados por ciento, pero el crecimiento es menor, 1.2 por ciento. \n",
      "\n",
      "La tasa de desempleo en el que se ha vuelto prácticamente un sistema educativo —incluyendo 4.0 y los países de los que se han incrementado en los últimos años de acuerdo a los embates Hubo firmas sumidos en el sector privado constituyeron el evento de economías, pero el segundo trimestre de este año se dio un índice de competitividad de la OCDE. No tengo duda dice que el gobierno es rentable. No creo que el gasto es sacar a alguien que tenían 21 años o 76 trabajadores en los que la reforma energética llegó hacia arriba de la gasolina que consumimos. Los datos tienen que ser ambiciosas, pero también es un problema en el que se le pide a la presidencia de los recursos de la presidencia de la deuda de la deuda de la Ciudad de México es la entidad de la austeridad, que se pretende usar un problema de la OCDE se dio en los últimos años de Carlos Blas, sino también de ser algo que han sido mandar miles de millones de pesos para poder impedir que el \n",
      "Epoch 24/50\n",
      "4072/4072 [==============================] - 357s 88ms/step - loss: 3.2206\n",
      "Temp 0.2\n",
      "Dicen por ahí que prometer en este país se le atribuye a Galileo Galilei, quien habla de crecer a la economía mexicana y de tecnología. Los candidatos acaban Encuentran este país. ¿No es fácil de maravilla no sucedió en el país. Ese estará dispuestos a ceder lo cual es un país de Trump, sí se había hecho menos que no se atreve a cambio global. Sin embargo, hay que hacer números o quedarse en el mercado laboral. Será decir, los beneficios de la prueba PISA que ha cambiado en repetidas ocasiones que se le había obligado a vernos en la frontera de acuerdo a la población y en el mismo camino de 25 por ciento, pero el país ha sido más de que se determine usando el inicio de la gasolina se encuentra en el lugar 65 de 140 se da un crecimiento económico sostenido de la economía financiera y en la que se refiere los costos de vida de los recursos laborales de la deuda pública de control de los recursos laborales que se vive aún más allá de la educación pública es lograr una pausa que necesita evaluar http://www.doctorqmd.com/\n",
      "\n",
      "​| por ciento de los mexicanos hablemos 85 por ciento respecto al año anterior, en el entorno per cápita de la OCDE. Sobre el caso de multidimensional. Se ha gastado en el mismo nivel de transferencias y el pago de recursos de la población que representaba un país que tendremos que hacer una pausa de forma socioeconómico bajo, aunque hay que analizar los beneficios de vida de los recursos que tomamos en el que se está construyendo hoy, que tendremos que poner cuidado en el tiempo. El presidente se refiere a la tasa de desocupación de 25 por ciento. \n",
      "\n",
      "La tasa de desempleo en el país y de partir de los países de la OCDE. Los primeros lugares más de avance de la población. Pero el gasto es ambicioso. El gobierno es un ejemplo de la Ciudad de México tendría que presentar un año de principios de noviembre de la población ocupada de la economía de renegociación. No se trata de la población que implica un tema que se hace de los bienes que recibe, décadas y el sector privado decidieron indispensable mostrar que le dice que no es de extrañar que se les cuestionarían los datos de la presidencia de la población ocupada de la ciudad y de los países que se han hecho. Pero también tenemos que recordar que no se queda trabajo tarde, dispuestos a nuestros hijos y de los mercados financieros —que no considerando el hartazgo de los recursos que se les dará menos El país se distribuye de forma aleatoria en la industria automotriz ha señalado que el gasto es sacar a la gente que reciben los niños en materia públicas y el país que se incorpora a los mercados financieros —que no diga que abarcar este año, se encuentra poco. \n",
      "\n",
      "Parece que el país no tiene que ser una idea de vida de los \n",
      "Epoch 25/50\n",
      "4072/4072 [==============================] - 360s 88ms/step - loss: 3.1302\n",
      "Temp 0.2\n",
      "Los mercados de las campañas que se han vuelto más de dos millones de dólares en el mismo periodo. La pobreza es un poco errático y de acuerdo al propio última encuesta de la Ciudad de México es fundamental para poder competir en los últimos años de forma simultánea al papel de la deuda que representaba continuamente.\n",
      "\n",
      "Hay los beneficios de los bienes que aquejan al país. En términos generales, se han incrementado en el sector informal. \n",
      "\n",
      "En 2010 se encuentra inmerso en un mejor sentido de la economía china hizo en la distribución de corrupción. \n",
      "\n",
      "En 2008 se quiere mandar buenos resultados —como la probabilidad de que haya sido un sistema educativo redistributivo, que encontradas, El mercado laboral tendría que estar haciendo un sistema educativo redistributivo, que retrocede en los 'cómo'. Hoy hablamos de vista que el país tiene que estar pasando que queremos ver el costo público de la Ciudad de México es fundamental para poder competir en un entorno de seguridad social que se han hecho en el lugar de seguridad nacional y de partir de ahí se conmemoró el dato base de la economía mexicana en torno a la migración. El crecimiento es el porcentaje de la gasolina que consumimos, para poder competir en un cargo de forma sostenida en la que se produce en el lugar 58 de 140 de la mitad de las mujeres proviene de considerar el subsidio que dio décadas que se han ido moviendo, pero en consecuencia de los que se le dan un país en delante es un tema fiscal aparejado a los demás de los estados que se sienten en el sector público y el crecimiento del país. En términos generales, se han hablado de la economía pública requiere de desarrollo de calidad. Nuestro gobierno ha sido planteada para forma de desarrollo de la economía que se usa el gasto público que tiene menos que se le cuestionarían los resultados de los trabajadores que crecen en el sector informal ha sido homogéneo, se miden un ánimo de implementación de 2014, una idea de fortalecer la distribución de migración y la creación de empleo formal de la economía mexicana. 0.4 por ciento de los mexicanos mexicanos ha sido víctima de información. En el otro aspecto, más de considerar que el crecimiento es menor, de un año se veía certidumbre en el momento, pero no es suficiente para mantener la calidad de vida de los recursos que permitan que el país no está en el lugar espectro de 2.3 mil millones de pesos en el mundo, pero que ésta es suficiente para lograr negocios en el sector privado de incurrir en déficit. Alaska es el propósito que no se atreve a tocar.\n",
      "\n",
      "En las ventajas de productos de la economía de la Ciudad de México que recibe la corrupción que tiene. Los beneficios de los países de la presidencia de las personas y de los estados que crecen en el sector público, se ha mantenido estable, Más expresó que sea un país petrolero, \n",
      "Epoch 26/50\n",
      "4072/4072 [==============================] - 358s 88ms/step - loss: 3.0596\n",
      "Temp 0.2\n",
      "La semana pasada el presidente Peña Nieto Peña Nieto de la República a los candidatos y de los niños y jóvenes y en el país. Esto es que ver la forma de producir en la que se comparte el país se encuentra en el lugar de crecimiento económico de la economía y el gasto de producción de los que tuvo otros. Pero el país no está estancada, pero una época fiscal es más complejo. El país debería de estar pasando en el ámbito laboral y el que la corrupción ha sido planteada para tal manera o de entrada en el sector informal y de nivel socioeconómico que no hay que hacer una pausa en el que el país se encuentra en el lugar 92.\n",
      "\n",
      "Quizá no sólo cuántos, no sólo el Reino Unido y la rendición de cuentas y de Trump se dio una reforma energética, la revelación de que los recursos que recibe la forma de producir de los que se han visto en repetidas ocasiones que dado que nosotros es un tema ajeno a AMLO, sino también en el país de la que se le juzgara y que somos de malas. \n",
      "\n",
      "No es posible que realmente haciendo los recursos de la economía mexicana. Los resultados de la reforma educativa y de acuerdo a los demás, sin ser Kong, Veracruz y cientos de 0.3 por ciento del PIB. El Presidente mínimo de este país se encuentra en pobreza laboral. Estas cifras emergentes son preguntársele por el CIDE y el de nivel económico y de desarrollo de la economía de la economía mexicana. Los recursos de forma eficiente. Usualmente los países mexicanos trasciendan un crecimiento económico sostenido y de largo plazo. Quizás suele ser el gasto de ánimo, pero que se produce en el hogar. York Times (gracias a José Merino por la sugerencia). \n",
      "\n",
      "Mankiw contrasta el presidente de la canasta básica. \n",
      "\n",
      "Los candidatos que se obtienen de los que se han hecho en el lugar de ánimo, un sistema de la economía mexicana que implica décadas y salir de muchos. Durante los últimos años de forma adecuada y resultados fiscal, pero no son necesarios para la economía emergente que se produce en el mercado fiscal de echarse y de Morelos es imposible ser exitosas. \n",
      "\n",
      "Lo que antes de que somos. Se guste en día el mundo. Todo tenemos que hacerlo se deben Humboldt a la luz y se detienen apoyos física o alejado de la tragedia, de la mitad de los recursos que intentan enganchar pero que toca los recortes en el país. \n",
      "\n",
      "Por ejemplo, el gasto que el crecimiento económico es menor, el gasto de crédito de haberse de embargo, la Secretaría de Hacienda es una muestra de los países de los que se han incrementado en los últimos años de forma eficiente. Usualmente los países que han sido lenta, el desarrollo de la población y el crecimiento económico de Estados Unidos de 2015, el gasto público tendría que presentar los beneficios de los candidatos y la violencia de \n",
      "Epoch 27/50\n",
      "4072/4072 [==============================] - 359s 88ms/step - loss: 2.9669\n",
      "Temp 0.2\n",
      "Dicen por ahí que prometer la 'casa blanca', de bienestar de la economía mexicana y decreció ligeramente orden y perdedores. Century usando los resultados de la prueba PISA que han ido continuamente y se han hablado de la población. La semana pasada entra un programa de ánimo de los estudiantes y el sector privado ha sido homogéneo, se trata de tener una serie de ideas que se ve quienes se han visto en los últimos meses de América social que empieza al país. Todavía no podemos saber que se le había hecho en repetidas decisiones que se le da a los candidatos que presumen los niños y jóvenes para hacerlo. Somos buenas Antonio Meade, más de las reformas emergentes y poco de la mitad de los recursos públicos de la OCDE. Los estados han sido planteada para acuerdo. El incremento de la deuda de la Ciudad de México es un proceso de desarrollo de la OCDE. Los pronósticos de los trabajadores miembros de la población. Así siquiera en consecuencia para lograr cualquier área, pero no tienes que fomente el candidato de la sociedad, pero genera que quieren mejorar sus beneficios en la asignación de vida de los mexicanos, y ya se den partes de combatir la información de los ingresos de la sociedad de la deuda soberana de 137 repercuten en el país. La reforma educativa ha sido en el que se han llevado a cabo durante el sector informal y de 7.0 por ciento, pero en 2006 la productividad se ha perdido reclamos de obtener los beneficios de los trabajadores miembros de los estudiantes. El incremento de la deuda se dará de los resultados de la presidencia de la población ocupada de la OCDE. En este sentido, se veía recursos de acuerdo a validar las importaciones de finales de 2014 marcó ocho años de deuda y de datos; 100 años atrapó los cuales se van girando en consecuencia, seguido de 45.1 millones de mexicanos salieron para darle cabida a 2014. \n",
      "\n",
      "La Secretaría de Hacienda se encuentra estancadas en el resto de la gasolina en el que se habrán hecho en el mercado de pensiones. Los ingresos de la OCDE, pero se trata de que el norte se encuentra dando de forma duros pero no debería de estar hablando de vista cómo se le han obligado a vernos en el espejo. Por el lado, se le había ido moviendo, en el análisis de producción de los sectores de inversión y generar reformas, el vaso Luis destruyó decir que suenan a distinguir y de familia y servicios para manualmente las empresas que se utilizan o a pesar de que los precios de la sociedad de la OCDE. No podemos saber que se han hecho en los últimos meses de forma de seguridad social que tiene que reconocer que se han hecho en repetidas ocasiones que se han hecho en el lugar 65 de 140 países y el segundo estado de inicio de los países de la OCDE –sólo rebasados por Chile–y \n",
      "Epoch 28/50\n",
      "4072/4072 [==============================] - 358s 88ms/step - loss: 2.8936\n",
      "Temp 0.2\n",
      "Dicen por ahí que prometer los impuestos mostraban un personaje global de octubre de este año, se le había hecho una mayor causa de forma defectuosa.\n",
      "\n",
      "El Norte. \n",
      "\n",
      "La Secretaría de Hacienda se vuelve fundamental. Y el país ha traído a los humanos. Los notarios 46.2 por ciento del PIB. El Presidente Peña ha vuelto prácticamente los países de residencia. \n",
      "\n",
      "Vázquez Mota propone darle 14 mil millones de pesos en el sector informal. Esa basta pensando en el sector informal ha sido suficiente para lograr una sociedad de Trump no sabe una enorme devaluación, México está completamente manipulados. El viernes de Carlos Salinas de alimentos de colores, mediático, pero es un tema importante. Los datos de la prueba PISA que ha tenido fluctuaciones. En la medida que se contaría, voluntariamente que no habrá hacerlo.| \n",
      "Epoch 29/50\n",
      "4072/4072 [==============================] - 359s 88ms/step - loss: 2.8120\n",
      "Temp 0.2\n",
      "En unos días de austeridad en 2015 y la producción mexicana y de 18 al gobierno histórico de la deuda que se han generado en el que se ha llevado a cabo de la OCDE. En el tiempo, México es aproximadamente casi 7.0 por ciento, mientras que el gasto es mayor de que le retiren voces que se han hecho en el país? entonces, que también opera un incremento de los mercados financieros que se han hecho en el país. Al parecer esto es un paso de productividad es un ejemplo de la deuda pública creció aproximadamente que el país no corresponde al país. Pocos ver que el tipo de cambio es un proxy del ingreso. No sé si sea un país petrolero, que puede ser un paso en el que se les abra. La corrupción detiene el inicio de la gasolina en el país, se encuentra en el lugar de apoyo de la población se encuentra en el país. Esto es que estemos buscando ilegal. El cambio tecnológico es que se ha visto en los últimos años.\n",
      "\n",
      " robando, no no ha logrado reflejar la diferencia de la economía de nuestro país. Increíble que la corrupción no es menor. Pero se trata de que el país se encuentra en el lugar de que le dan más de 124 mil millones de dólares, el incremento de alrededor de 0.3 por ciento del PIB. El dato de 2.0 por ciento en el tercer trimestre de 2015 y la depreciación de que el crecimiento económico no se ha hecho más de dos mil 200 millones de pesos y ya han sido correctamente importantes que se han desgastado prácticamente funcionarios y alimentos, estancias infantiles, desarrollo de explicar 11.6 por ciento más. En México Sedesol es el país de 1.9 por ciento, en el ámbito per cápita miembros de la población ocupada de 7.0 por ciento, mientras que el gasto del gobierno ha sido prácticamente 38 por ciento. El consumo es el déficit informal ha sido 3.2 por ciento. Si queremos ver el incremento de la deuda pública de 2015, se encuentra pobre. El último dato de apoyo de la población ocupada de la ciudad y la capacidad de producir de la economía pública ha disminuido en el sector exportador competitivo. La corrupción detiene el inicio de la gasolina en los últimos años de crecimiento de la población se encuentra en el lugar espectro de la economía de producción en todas los niveles. \n",
      "\n",
      "Las reglas de la OCDE –sólo rebasados por ciento, pero el segundo trimestre de este año se ha vuelto dos mil 200 millones de pesos en el país? Desde luego que ha tenido de prosperidad. La primera parte de la población está en pobreza. Y eso tendríamos que ser un proceso de que le hará un crecimiento económico sostenido para la que se ha visto incluso con los estados que tomamos en la agenda fiscal, no sólo claro cuál es el país que se incorpora al mercado laboral y que no podemos \n",
      "Epoch 30/50\n",
      "4072/4072 [==============================] - 359s 88ms/step - loss: 2.7400\n",
      "Temp 0.2\n",
      "Dicen por ahí que se le había asignado en la entrevista que correcta, de que se han usado de forma eficiente. Tiene una decisión de intentar restaurar la forma de producir y la productividad pública ha disminuido que se tomen distorsiones –y en redes. También tengo que estar \n",
      "\n",
      "Tendríamos que preocupa no veo una oportunidad de cambio. Pero también habla de preservar y fortalecer sus declaraciones de los funcionarios que tomamos en temas de que los resultados de la OCDE se vio afectada por ejemplo, que alguien integradas Salieron de la Auditoría Superior de la Federación y activa, y que aumente la corrupción está de los países de la presidencia de la deuda, López Obrador se encuentra pongan, pero sí importa no se queda más eficientes. La razón no afecta a tocar la calidad de vida de los recursos que se le da a los recursos que tomamos en gasto económicos. En términos generales, de duda creo que estén listos para obtenerlo. No tengo nada analizar los propios retos, años o mejor, no cambia nada de forma despectiva— y de acuerdo a la OCDE, pero no es suficiente para mantener la calidad de vida de los recursos que intentan enganchar pero que acaban listos para lograr una pausa que rebasa los resultados de la sociedad civil es poder cambiar las condiciones de vida de los mexicanos. No podremos ser mayor. No podremos cerrar los resultados de la presidencia de la población se vuelve un error pequeño. está concentrada en unos programas educativos de crear 10 mil millones de pesos en el sector –medida que no se había hecho en el sector público. Los resultados de la ENOE se aplica en el sector privado ha aumentado, sobre el mismo periodo de 2015 fue pobre. La forma en la que se produce en el momento, más porcentaje de los recursos que han sido lenta, el gobierno se refiere a la presidencia de los recursos que intentan enganchar pero que acaban siendo huecas. Maduro siendo el país y la gestación de ideas en Argentina de desarrollo de la economía mexicana para mejorar la calidad de la educación pública y solidaria que se ha abierto a la Universidad de Harvard llevó a cabo un billón de noviembre de este año el desarrollo del país se encuentra en el sector informal. En este Proyecto de Gini de 0.334, No se había hecho que se trata de poner un sistema paralelo de matriculación y perdedores. Ganarán aquellos que pasa en otros argumentos. \n",
      "\n",
      "El partido rosa para poder contrastar un permiso de bienestar de la población. \n",
      "\n",
      "Esto aplica en el momento, el FMI busca dando recaudar obtener los recursos, se presentan el 75 por ciento del PIB, se encuentra estancadas en el porcentaje de la gasolina en México en el que se dio un crecimiento de género en el sector informal. En 2010 se encuentra Nuevo León. \n",
      "\n",
      "En este sentido, se encuentra inmerso en un ritmo positivo de recursos, pero la capacidad productiva del país, el Inegi \n",
      "Epoch 31/50\n",
      "4072/4072 [==============================] - 297s 73ms/step - loss: 2.6665\n",
      "Temp 0.2\n",
      "Dicen por ahí que prometer no empobrece. Difiero de la sabiduría popular. Prometer es un trinche. Sin embargo, no habrá un país que sea de forma equitativa. En las últimas cifras, la información es más complejo. Se ve únicamente a los estados y la tecnología laboral ha sido destinados a la seguridad social. A él, se encuentra dentro de los casos de vivienda y carencia alimentaria). El último dato de ocupación de 64 mil millones de pesos en el contexto de trabajo. Los datos de la OCDE la ambigüedad de la educación mexicana en diferentes casos, perdidos de los mismos. Es decir, la corrupción es relevante para poder acceder a mejores oportunidades de los países miembros de los migrantes de crecimiento económico de Estados Unidos de 2.6. Creceremos mayor el experimento de habitantes. Es decir, Chiapas vivió el momento. El año anterior es necesario mejor que la gente nos permitió aumento, la forma productiva del país. En términos generales, el gobierno ha sido leve. \n",
      "\n",
      "El gobierno chino ha ido permitiendo más de seis mil 724.60 mmp. Esos pensando que básicamente solo un paso en las que se quitan impuestos y de forma sostenida que paga alrededor de dilucidar el siguiente trimestre de este año se vuelve un gasto educativo global adverso. Coincido en los tres, y productos, de ellas, habrá un entorno fiscal sostenido que se tendría información que cambia el país de forma sostenida y colectivo en ella.| \n",
      "Epoch 32/50\n",
      "4072/4072 [==============================] - 347s 85ms/step - loss: 2.6014\n",
      "Temp 0.2\n",
      "Dicen por ahí que prometer los datos ahí están. \n",
      "\n",
      "Casi mismo que la corrupción está consciente de los esfuerzos para combatir la corrupción, mejorar la calidad de vida de los mexicanos. Una vez que se tradujo en un aumento en el que llevan un crecimiento de seguridad de la deuda emitida en enfoques parte de la economía financiera y de la economía mexicana en el que se ha incrementado. Con Argentina, en 2009 era 2.1 por ciento de la población ocupada de la economía que representaba de crecimiento económico en Estados Unidos en el país. Incluso tal vez más carencias y el crecimiento de los recursos de la OCDE, pero en el lugar de ánimo, el gobierno se refiere a la formalización de informalidad en el que se ha incrementado en el mercado humano ha estado aislada de los cuales vendrán los formales. Entre luego que han sido respetados por el Coneval. En 2017 el gasto público ha sido homogéneo, ha habido picos y el sector privado ha forjado a los consumidores están El Presupuesto de Egresos de la población ocupada de la ciudad que necesita una deuda mexicana la deuda se desarrolle. Los hallazgos Yemen, Chad por ciento, mientras que los jóvenes que hacen los problemas que intentan solucionar, sino que generarían más. La forma final del país chino. En términos generales, estamos pronto en este futuro mismo de la ciudad afectada por ellos se comerciales y de reformas, la deuda es profundamente ineficiente. Sin embargo, no es suficiente para lograr una idea de crear un sistema fiscal complicado en el que se ha hecho sustancialmente más de acuerdo a los mercados financieros que ha sido prácticamente el pago de una cadena de producción de salud en el país. Esto es que salimos haciendo quizás no perdamos de forma sociales muestran que el gasto es obeso y superfluo. \n",
      "\n",
      "En el caso de indicadores de consumo de alto nivel. Se parece anunció. Iría porque se ha hablado de la ciudad de bienes de otro, tanto se presentan un paso de riesgo de este año, pero sí ha sido siempre, un mayor desempeño económico en Tailandia de CLSA —una candidato de infraestructura, de la mano herramientas de política social y de crecimiento económico sostenido de la economía automotriz aumenta el costo financiero de la deuda soberana de 2.5 por ciento en términos reales. Sin embargo, el gasto ha sido radical. El Financial Guzmán en Banco de México ha insistido en la magnitud de la deuda de la OCDE alcanza excelencia a los estados y de entrada de 64 millones de personas. \n",
      "\n",
      "Guerrero, el año de la Ciudad de México y en ese sentido, gastó 28 por ciento más de lo que se había estimado, en afiliación Los resultados de la OCDE, pero el crecimiento promedio de la deuda se valida. En términos reales, es decir, no se han hecho en el lugar 65 de 140 países y familiar sean Eslovenia, Suiza y aspirar con la cuchara “Yo haber dado su propio \n",
      "Epoch 33/50\n",
      "4072/4072 [==============================] - 351s 86ms/step - loss: 2.5386\n",
      "Temp 0.2\n",
      "Dicen por ahí que prometer en este año, le daría una primera azúcar y a partir de ahí, en el país que se ha anunciado en el lugar de seguridad social que tendría que generar 166 mil 646, En Estados Unidos es 45.1 por ciento en relación al año anterior. \n",
      "\n",
      "En los últimos diez años, se encuentran en el lugar de pensiones y el pago de automatización de los países miembros de la población. Malawi está en lugar de acabarse, no sólo se vive más eficientes. La reforma fiscal actual Trump no se fueron descuidando en el tema, seguramente la semana pasada, la creación de empleo formal (el país. El gobierno, haya de responder a la gente había sido decisiones de 100 años (de los logros miembros de la población ocupada de Estados Unidos de 2.6. Creceremos falta por ciento. Este año hay enormes letras chiquitas que hay que poner orden y apellido a darse nuevas tecnologías. Hoy así, que quieren estudiar perder de miles de puestos de distancia que se le había asignado inicialmente sin duda pagar un par de medidas mayores cápita de 52 por ciento. El consumo es el Colegio de transformar las etapas de la deuda de los mexicanos. En este sentido, se veía poca vez que se han movido reclamos de servicio de transferencias y servicios locales en el mercado laboral. Pero no quiere decir cuál es el argumento de la deuda soberana de recibir un sistema superfluo. En este país acostumbrado a la educación de la sociedad civil, dará envuelto y 433 Suiza es decir, que usamos casi orden en las finanzas públicas que se lleven a cabo. Y no perdamos de vista de la mitad de las instituciones del país ha sido planteada para crecimiento. Es un pequeño paso hacia delante es el sector público. No se sabe una decisión de la reforma educativa progresiva. El gobierno se ha llevado a cabo de la OCDE. No podemos pensar que alguien siempre.\n",
      "\n",
      " El país en el que se ha hecho que se han hecho en el lugar de residencia. Usando los 20, la inversión pública requiere en la forma de producir de los bienes de ambos años.\n",
      "\n",
      "Son épocas extrañas. Tal vez en repetidas ocasiones la diversidad inicialmente. Se han gastado en temas económicos. En 2012 se encuentra entre otros. Es decir, el gobierno ha sido 3.2 por ciento. Como coinciden es de un total de 7.1 mil millones de pesos en el contexto de trabajo. Una vez que se encuentra en el lugar 95 de 137 parecidos. Ojalá que haya aumentos sin hoy, serían Hong expansivas. El optimismo de gasolina. ¿No es un hecho que puede, después de los mayores problemas que aquejan a los encuestados podemos lograr una universidad emergente para corregir los discursos de la presidencia de la deuda soberana de estable la industria económica de cualquier economía mexicana en México alcanzaron un sistema de producción nacionales más bien comprender el fin de la educación actual de las economías emergentes, son incrementos \n",
      "Epoch 34/50\n",
      "4072/4072 [==============================] - 363s 89ms/step - loss: 2.4704\n",
      "Temp 0.2\n",
      "Dicen por ahí que prometer no empobrece. Nunca más evidente que se le pide a la presidencia de vida de los sectores básicos del país. El crecimiento de la Casa Blanca fue de porcentaje de la gasolina y la relevancia de los recursos públicos (eufemismo y quienes se presenta en el lugar mencionado que se plantean ver a quienes puedan haberse frase, no sólo sé. \n",
      "\n",
      "El tema republicano grita más hipócrita. ¿Y la propuesta de vida de los recursos públicos y completa, el gobierno se distribuye de forma multidimensional. \n",
      "\n",
      "En este sentido, hay ventajas de cerdo, más de 3.10 millones de pesos en el sector público, la deuda ha sido planteada y el momento. El desafío En 2015 se encuentra en el lugar de producción y de los hogares, y en algunos casos, superficiales y en el país se dio en pobreza y en algunos casos, desde ellas, están en Morena. Si el deseo de transformar la economía de desarrollar más detalles de la gente. \n",
      "\n",
      "México es poder saber que no es necesario cuál es el progreso de la tierra de recursos públicos y que haya tenido en los últimos años. El gasto público aumenta. Un programa de bienes podrá cambiar el Estado de derecho y fiscal.\n",
      "\n",
      "Ninguno de los mexicanos. La economía emergente, ha sido normalizada.\n",
      "\n",
      "La única forma de ley vieron seguros en economías laborales, estamos altamente gratis en innumerables días y en 2004 de los organismos pueden beneficiar a 15 por ciento. Hoy hay enormes noticias incluyendo las diferencias en la prueba PISA. En México sirve el país dio más de 65 mil millones de pesos en el contexto de bienestar superior. De acuerdo al mismo informe, un año gastó 125 por ciento de la población ocupada de la economía en México es uno de los ciudadanos, financieros y de Trump en este país. \n",
      "\n",
      "Los recortes no son así. Con los datos de la prueba PISA que han permitido en repetidas ocasiones que se le daría cabida. Se han ido Aquí el discurso de ánimo, el país se ha gastado en lo menos en los últimos años de crecimiento de los trabajadores que crecen todos los niños se vislumbran en Estados Unidos en 1947 y a pregunta expresa de Héctor Martínez, Hoy a cargo cercano por paridad del precio de la gasolina ocupada que había preocupación mucho en algunos sectores de slogans \n",
      "\n",
      "Un sistema educativo que enfrentará de cuentas de acuerdo. \n",
      "\n",
      "Para un país acostumbrado a la corrupción, de la sociedad civil y de clínicas, billones de pesos. De éstos, 1.476 bdp son recursos de la ciudad alcanza la inflación, el crédito otorgado que busca porque no se atreve a Hacienda. También es posible otorgar lo que pasa en el país. \n",
      "\n",
      "Por ejemplo, lo que está dispuesto a ceder de forma de seguridad social que tiene hoy no estoy más.| \n",
      "Epoch 35/50\n",
      "4072/4072 [==============================] - 363s 89ms/step - loss: 2.4112\n",
      "Temp 0.2\n",
      "Dicen por ahí que prometer no empobrece. Nunca más evidente que la corrupción está consciente de los partidos en las que viven los últimos años. El sector privado subinvierte por embargo, hay estados que se han cuidado en el mercado laboral ha permitido más de lo que se le había asignado más importante en los que se han hecho directamente de los consumidores de forma sostenida de economías emergentes. No creo que sea el país debería ser ser electrónicos para la mente de los votantes que crecen a los niños independientes \n",
      "Epoch 36/50\n",
      "4072/4072 [==============================] - 363s 89ms/step - loss: 2.3580\n",
      "Temp 0.2\n",
      "Dicen por ahí que prometer siquiera el país que le Ese aún se inauguró.\n",
      "\n",
      "La carretera que se utilizan porque no cuestionaba con la pena preguntarse, ¿fue los avances que crecen a los candidatos independientes \n",
      "Epoch 37/50\n",
      "4072/4072 [==============================] - 364s 89ms/step - loss: 2.3124\n",
      "Temp 0.2\n",
      "Dicen por ahí que prometer no empobrece. Difiero de la sabiduría popular. Prometer y se crean a los que tenemos que pagar y sea más difícil 300 millones de pesos en el New York Times (1) incluye dos mil 700 millones de pesos en el gasto de formalidad nacional ha crecido en los que se han incrementado en el sector informal. \n",
      "\n",
      "Hay más avances en el país, los salarios que se han incrementado para impulsar la desigualdad, Milán con la noche a los votantes y de los mercados laborales. dependen de dónde llega a los candidatos que presumen los servidores públicos de entrada, se pueden usar referencia a los salarios, de 19 años que sólo no saben leer, frente a los sectores que equivalía a 33 por ciento del PIB. El año pasado, hay que poner mejores variables económicas que han ido expulsando en las finanzas públicas, que he sido en el lugar 71. Lo que preocupa es que haya tenido más recursos que consumen. Es curioso mismo aún más, conforme en algún momento hubiéramos ofensivo. ¿qué está demasiado dispuestos a cambiar.| \n",
      "Epoch 38/50\n",
      "4072/4072 [==============================] - 351s 86ms/step - loss: 2.2617\n",
      "Temp 0.2\n",
      "Dicen por ahí que prometer en 15 años de 15 millones de pesos que saca de quienes se perciben a la pobreza está de recortes en este contexto de acuerdo a los sectores de pobreza y servicios de suma cosas, que empezará los tiempos regulatorios que están haciendo un verdadero ámbito, me atrevo a arrepentir.| por ciento de los mexicanos mexicanos obtuvieron de otra manera. Sin embargo, el gasto ejercido que ha hecho en repetidas ocasiones es más detalle las cosas que se generan abismos.| \n",
      "Epoch 39/50\n",
      "4072/4072 [==============================] - 361s 89ms/step - loss: 2.1995\n",
      "Temp 0.2\n",
      "Dicen por ahí que prometer no empobrece. Nunca más evidente que se le juzgara que nos encamine a ver lo que pasa en otras capas de la República frente a la Gran Depresión de vida.\n",
      "\n",
      "En Unidos —Google, Apple, Microsoft, Amazon y Facebook— están enfocadas en nuevas tecnologías, en innovación, con algunos números, Brasil nos cuesta trabajo nombrar, dentro de la población no es de sorprender es que podría darse una reforma económica. Los datos de la OCDE, la forma de producir de los mexicanos. Hoy hay otros aspirantes la atención de radio que dado que estemos Este país está completamente manipulados. Los resultados de los funcionarios de la OCDE, y de 7.0 por ciento, pero en 2006 la deuda era 46.1 por ciento de la población, de los mexicanos que reciben los vuelos de la economía mexicana. Los resultados de la OCDE, de nivel socioeconómico pero no llamar al voto. Habrá que decidir si hay que hacer una potencia que tendría que dedicar haciendo bien empezando por lo que dice Gerardo Esquivel es increíble que ellas decidan si quieren estudiar ingeniería o nutrición; que ellas decidan si quieren estudiar ingeniería o nutrición; que ellas decidan si quieren estudiar ingeniería o nutrición; que ellas decidan si quieren estudiar ingeniería o nutrición; que ellas decidan si quieren estudiar ingeniería o nutrición; que ellas decidan si quieren estudiar ingeniería o nutrición; que ellas decidan si quieren estudiar ingeniería o nutrición; que ellas decidan si quieren estudiar ingeniería o nutrición; que ellas decidan si quieren estudiar ingeniería o nutrición; que ellas decidan si quieren estudiar ingeniería o nutrición; que ellas decidan si quieren estudiar ingeniería o nutrición; que ellas decidan si quieren estudiar ingeniería o nutrición; que ellas decidan si quieren estudiar ingeniería o nutrición; que ellas decidan si quieren estudiar ingeniería o nutrición; que ellas decidan si quieren estudiar ingeniería o nutrición; que ellas decidan si quieren estudiar ingeniería o nutrición; que ellas decidan si quieren estudiar ingeniería o nutrición; que ellas decidan si quieren estudiar ingeniería o nutrición; que ellas decidan si quieren estudiar ingeniería o nutrición; que ellas decidan si quieren estudiar ingeniería o nutrición; que ellas decidan si quieren estudiar ingeniería o nutrición; que ellas decidan si quieren estudiar ingeniería o nutrición; que ellas decidan si quieren estudiar ingeniería o nutrición; que ellas decidan si quieren estudiar ingeniería o nutrición; que ellas decidan si quieren estudiar ingeniería o nutrición; que ellas decidan si quieren estudiar ingeniería o nutrición; que ellas decidan si quieren estudiar ingeniería o nutrición; que ellas decidan si quieren estudiar ingeniería o nutrición; que ellas decidan si quieren estudiar ingeniería o nutrición; que ellas decidan si quieren estudiar ingeniería o nutrición; que ellas decidan si quieren estudiar ingeniería o nutrición; que ellas decidan si quieren estudiar ingeniería o nutrición; que ellas decidan si quieren estudiar ingeniería o nutrición; que ellas decidan si quieren estudiar ingeniería y nutrición; que ellas decidan si quieren estudiar ingeniería o nutrición; que ellas decidan si quieren estudiar ingeniería o nutrición; que ellas \n",
      "Epoch 40/50\n",
      "4072/4072 [==============================] - 362s 89ms/step - loss: 2.1715\n",
      "Temp 0.2\n",
      "Dicen por ahí que prometer no empobrece. Difiero de la sabiduría popular. Prometer y no habrá ninguna intención de estar La idea tras que no estamos listos para hacerle frente.\n",
      "\n",
      "Hace diferentes años, el cambio de crecimiento económico durante el país. \n",
      "\n",
      "México empezó en serio la unidad económica que se aplica viven el país. \n",
      "\n",
      "El modelo educativo es difícil complejo. Ojalá que sea un índice de flexibilización del precio de la gasolina y la capacidad de hacer democracia que este candidato se dio en niveles de transferencias, pero habría duda vemos con México. El sector privado universal creció 7.9 por ciento en términos nominales, en el año anterior, 22 por ciento. Parecería que la liberalización del precio de la gasolina ocupada de la ciudad se ha vuelto un espectáculo de la salud y la falta de interés de 64 por ciento en relación al mismo trimestre de 2016 es pobre. El porcentaje de México es pobre. En México se anunció el SPI 8 por ciento en términos de desarrollo de cuatro bienes y servicios de este 2017. El Inegi dio el porcentaje de la gasolina es pobre de otros dígitos durante los últimos diez años y los salarios de consumo de los funcionarios públicos de la OCDE. No es testigo de que termine el beneficio de recursos públicos y de permanecer en el país. Ese me parece que los padres que van a los migrantes de crecimiento de la población y de la mente a los mercados financieros reaccionan y matemáticas donde se han anunciado en el lugar 123 el Día de que se discuten toda la brecha de un país —quizá con un incremento de educación de cuatro mil temas, pero hay más formas de pobreza, seamos consistentes y no sentimos nada de alguna etapa de corrupción, coladeras, escoger acuerdos Nacional coyunturales de la población ocupada que trabaja para la escuela y el salario fiscal. Quizás se enfoca en el desempeño de la población se requiere completamente desbordadas, se suele hacer los pasos que se habían desgastado el uso de la gasolina que consumimos, para una corrección de que los recursos que tomamos en el ámbito internacional. Sin embargo, hay muchos recursos de forma individual.\n",
      "\n",
      " Sostienen en la exposición de Necesidades de julio de este año en el manejo de la basura. Ya se define?, haber mencionado al voto en el gasto público y social y para mejorar la calidad de los recursos públicos estadounidenses y se hicieron como de los países que se han hecho en el sector público, pero también ha mostrado más allá de la población que consumimos, para poder mantener el precio de la gasolina lo que está pasando en el país. Al insultar o denigrar, han hecho guiños a nivel nacional y extranjero, en el sector automotriz, faltan ingresos sociales también. Y en ese entorno de ductos de interés. Es importante y servicios. Austeridad que lograr un plan de bienestar duplicando la confianza de la deuda. Ahí existe el momento de McKinsey es optimista. Sugiere \n",
      "Epoch 41/50\n",
      "4072/4072 [==============================] - 346s 85ms/step - loss: 2.1187\n",
      "Temp 0.2\n",
      "Dicen por ahí que prometer no empobrece. Difiero de la sabiduría popular. Prometer y no ponderamos adecuadamente lo que leen. No hay que caer en la que —ciencias, Carlos ¿Por Unidos y en ese momento y de acuerdo con los sectores que aquejan al país. Las mujeres que han mostrado el peso de los estados que se han desgastado en Suiza en México es en México confluyen seis años en cuanto al número de notarías social, los salarios obtiene y los datos importados de la Ciudad de México, Coahuila y Nayarit regresaron. La mayoría en el que 2000 en el país? La proporción de recursos creció 1.5 por ciento respecto al año anterior. De acuerdo a la Ley de Ingresos de la Federación y el Proyecto de Presupuesto de Egresos (PPEF). A partir de este año se empezará una foto de transición de la economía estadounidense y Canadá en el país. Tiene mucho más de cinco mil 300 millones de pesos en año. El año de retraso, el doble del precio de los recursos públicos de 15 por ciento. \n",
      "\n",
      "La tasa de desempleo en el sector informal. En 2010 se ha incrementado en el lugar 65 de 140 Se ha costado enormes costos que presenta. Si usamos 20 mil millones de pesos en valor presente. Otro escenario y el crecimiento económico sostenido. Sin embargo, en el lugar 31 de este máximo de 239.7 mmp. El ritmo de este año, el déficit primario que se ha hecho en el país, pero no es un enorme paso de la competencia, herramientas aceleró el Circuito Exterior Mexiquense, el Viaducto Bicentenario y la autopista Atizapán-Atlacomulco que se trata de Donald Trump son que la cuarta mayoría de los mexicanos tienen un costo importante de la economía mexicana que detonarían eventualmente un mayor impacto económico de la economía estadounidense. \n",
      "\n",
      "Tampoco sea imposible atraer las cosas correspondientes, haciendo trampa. Lo ha sido testigos de muestras infinitas de solidaridad, de julio y de estrategia, fiscales, algunos de las reformas y la integración de los casos de forma de ciudadanos y la cobertura desleal, ha vez el impacto de la economía global.\n",
      "\n",
      "Ha sido 2.5 por ciento en el tercer trimestre de 2015 y la pobreza rebasa un total de ocupación en el que se ha incrementado en el sector público, el gasto programable que ha tenido un mayor impacto económico de la economía mexicana en los que aquí se han hablado de crecimiento. \n",
      "\n",
      "No tengo pensar en los años de consumo de la economía mexicana que funciona a descalificar las necesidades necesarias para poder impedir cómo revienten. En una economía de la reforma educativa tiene un enorme desdén con una corrupción, que se han movido a la forma de producir en el que se ha incrementado en los últimos años. El índice es 70 por ciento de los estudiantes que han alcanzado la pobreza económica de 2008, la canasta básica alimentaria.\n",
      "\n",
      "¿Qué debería de ser vista con el mensaje de productividad que se le da a los países que \n",
      "Epoch 42/50\n",
      "4072/4072 [==============================] - 339s 83ms/step - loss: 2.0772\n",
      "Temp 0.2\n",
      "Dicen por ahí que prometer no empobrece. Difiero de la sabiduría popular. Prometer y en sus casas.\n",
      "\n",
      "Las Rodríguez son catalizadores del embrollo es un problema laboral y la solución privada y la Ciudad de México tendría que ser alrededor de 150 mil millones de pesos, pero no pasa nada, porque no están listos para evitar una potencia mundial, pero fundamental para poder competir en algunos indicadores de impunidad y el reto de este país. Es una reforma educativa, la de telecomunicaciones nuevo sector público que dio los resultados de la población y de los mercados financieros ha provocado a estas prácticas corruptas han aumentado significativamente más de la mitad de la población se moverá bajo el cálculo de la deuda se está moviendo. No a la primera duda tendrá que ser oportuna. \n",
      "\n",
      "Si no se ha llevado a cabo una negociación que comprende un recurso “Entonces inicialmente minuto al costo de la deuda se come voces que desvió el tono de piel y de la deuda de Felipe Calderón.\n",
      "\n",
      "La obra, que el término representa el primer reto que queda en Venezuela. Pero no eran pedir perdón, ni escribir, llaman al mandato pero que, si no esperamos que estemos estamos curiosamente, está si no podemos creer que resolviendo una. De acuerdo a la necesidad de poner un mayor que no es una buena noticia. El peso alcanza los recursos de la presidencia de la población ocupada de la economía que desee de la corrupción. Hoy hablamos de 50 mil millones de pesos en “programas y acciones federales para el desarrollo de la OCDE. No es menor. No sé un tema de corrupción, sino deberíamos de ser más allá de alcanzar un ingreso que mandarán en la Organización Mundial de hacer un giro positivo de 2005 y de la economía mexicana para exigir, un informe de ánimo que complica su análisis. Tiene un ánimo de los consumidores. \n",
      "\n",
      "Se ve rígido y perderán además de descubrir fertilizantes gubernamentales o el caso de Mara Mena Argentina de elección popular— sencillas en el país. Una vez que ciertas autoridades chinas querían mover los resultados de la población ocupada de que se pueden reutilizar ni siquiera se dan una premisa de más de un país que crezca, en que se pueda llevar a una crisis.| \n",
      "Epoch 43/50\n",
      "4072/4072 [==============================] - 348s 86ms/step - loss: 2.0346\n",
      "Temp 0.2\n",
      "La semana pasada el presidente Peña Nieto recibió en el país, se disputan los países miembros de la agenda mediática. Ni el mexican secretarios de reservas de explicar los beneficios de la OCDE, México es un paso importante en la economía. El Inegi busca está concentrada en 2017, una idea de crear los bienes formales de Estados Unidos que hubiera tenido adeudos a los ciudadanos. \n",
      "\n",
      "También en el sentido son la solución económica en México disminuyó 1.2 por ciento en relación al mismo trimestre del año anterior, una disminución que representaba igual a casi cinco años. Todavía esto sitúa a 30 mil 500 millones de pesos, pero no lo han sido suficiente para obtener las condiciones de vida de los mexicanos. Veamos algunas instalaciones ya tendríamos que darse lo que me cuesta al país ni en los siguientes lugares comunes están ¿Créditos gratis desde cuanto derecho a los inversionistas mexicanos porque vino de aritmética básica, sino siquiera demasiado teniendo acceso sus bolsas. \n",
      "\n",
      "Habría que este país no espera. El cambio tecnológico es que se prevé que señalan que el que estaba en los próximos años. \n",
      "\n",
      "La reforma energética ya se trata de que impedir que el país podría ser cuestionado. \n",
      "\n",
      "La fuga, no les dará las actitudes de Donald Trump son menores programas de transferencias, sino siquiera que están proponiendo cambiar variables primario, no sólo en la agenda de la sociedad de que sí entienda no se produce en temas recientes. Mantener un superávit primario, estabilidad de las empresas que están marcando una pauta en los que aquí se recaudaron vergonzosos.\n",
      "\n",
      "La muerte de una escasez de los recursos que se le asignan, como no podemos saber es más importante que nos damos cuenta de alcanzar el libre comercio. La regulación inicial de estos problemas que se han visto en sus palabras, un sistema educativo —incluyendo nuevos recientes.\n",
      "\n",
      "Estos los últimos años. La tasa de desempleo en prácticamente los niveles electorales. Me gusta el dato de crecimiento económico sostenido y de largo plazo. \n",
      "\n",
      "No es imposible la estabilidad financiera de Banco de México aumentaron en consecuencia y en educación. Ha vez en diferentes temas, así menos excepciones, es interesante. es fundamental, es necesario analizar el centro de vida de los recursos que tomamos durante los que aquí los ciudadanos se renovaron los resultados de los candidatos que están proponiendo hemos dejado escalar o todavía como un juicio pero lamentablemente el doble del precio de la gasolina ocupada del país. En los últimos cinco años se encuentran por el momento, pero hay que fijarse una rebaja en la calificación de los recursos de la OCDE. \n",
      "\n",
      "Habrá que estar atentos al potencial de la deuda que le impedía al Tratado de Libre Comercio (TLC) en el mundo, pero el énfasis es el descaro. Como sin duda, nunca de acuerdo a los sectores que pudieran tomar un escenario que compete principalmente por la gasolinera. \n",
      "\n",
      "La escolaridad de un país que se le dedicaron en el ausencia Central programable de la ciudad de bienes ha servido \n",
      "Epoch 44/50\n",
      "4072/4072 [==============================] - 353s 87ms/step - loss: 1.9887\n",
      "Temp 0.2\n",
      "Dicen por ahí que prometer no empobrece. Difiero de la sabiduría popular. Prometer y no pudieron moverse por ciento. Un mercado de copias de credenciales que se tradujo en un lugar de subestimar de los productos públicos y viables para lograr los problemas que vale la pena ver qué sólo en los últimos años. Al parecer creo que sí se instituciones han ZEE son ser Kong, Quintana Loret de millones de pesos en valor de 2016. \n",
      "\n",
      "Al mismo tiempo, la historia es 46.1 por ciento de los hombres y 36 por ciento de los estudiantes de los países de los bienes se han incrementado y el dólar 103 de 175. Se ha escrito dos firmas “buenas in mil 400 millones de pesos en el monto de la deuda en conjunto y (aunque en muchos países en materia económica y el crecimiento promedio de la OCDE. Ya me refiero a la situación económica del país se ha incrementado en el país. Una persona puede dividirse en serio los recursos de dedicina, el experimento de talentos me parece que la gente no aumente el referéndum también. \n",
      "\n",
      "La reforma fiscal es de menor que lo que está pasando en los proyectos de consumo que hace cuidado los ciudadanos y los jóvenes de forma completa y exitosa. Me parece más de lo que se han hecho en su lugar de trabajo. No me gusta más difícil y de forma ordenada.\n",
      "\n",
      "No conozco las redes de la sociedad o pobreza, a forma automática, y sí son atractivas, y entre las cuales no se cerrarán simplemente pero no están en campaña. A los países que se utilizan en el proyecto, lo que pasa en el país. Sin embargo, da el Inegi lleva presupuestados programas sociales (ya no es un índice de competitividad actual, pero el gobierno está creciendo, que no tengan nada que desaparezcan pero se tomen pésimas recursos en serio el acuerdo a los mercados públicos en el país. \n",
      "\n",
      "Los cargos se han deteriorado en los últimos años. El crecimiento económico es un buen reto fue de los candidatos que vienen —los recursos públicos. Los partidos que los estudiantes políticos pueden ser un cambio tecnológico y social sustentable”. pobreza, mucho. La forma es distinta. Ojalá que esperar estamos en campaña, quizás realmente saber cómo tendríamos que poner exitosas. Pero lo sigamos dispuestos a ver indicios de que eso se hace a 88.4 mil millones. Es decir, los precios de origen de los niños que trabajan de acuerdo. Los resultados de pobreza y electrónicas y sostenidas hacia los datos, ¿haremos algunas de dos años son acceso a bienes producidos en ese momento. El año pasado o creó una candidatura de Hollande, quien la innovación seguirá inversiones, quizás el único camino para atender la forma en la que se produce en el hogar. Tal vez considere que el referéndum pero sí es un hecho que nos parece que la percepción de que nos ve una contrapropuesta particularmente hacia hace claridad sobre el tipo de cambio de consumo de \n",
      "Epoch 45/50\n",
      "4072/4072 [==============================] - 358s 88ms/step - loss: 1.9623\n",
      "Temp 0.2\n",
      "Dicen por ahí que prometer no empobrece. Nunca más evidente que se le había dedicado controlar incluso más de nada en otras industrias dando Londres, en asuntos Macron, pero de nuevo, analizar bienes de acción y de desprecio las cosas entre Francia y Luxemburgo la presión de los países posteriores a las economías nacionales. Los datos de la prueba PISA que se habían agravado a través de una línea de corto plazo es difícil de 20 millones de personas y de 15 mil millones de pesos en el contexto de Veracruz extrema. Es decir, de acuerdo a esta variedad de vista, se irá haciendo de avance que quiera avanzar puede cambiar cómo pasará nada, de las campañas públicas y toda la política percibida de la economía, pero sin duda creo que se usarán aplica en primer lugar, deja un problema fiscal y comercial, pero hoy no necesariamente nada, porque no estamos proponiendo esto es donde lo que leen. Los esquemas que quieren Macri tiene que analizar las cosas que crecen en la necesidad de analizar si la capacidad productiva del país y fundamentalmente que sea los precios podrían tener un espacio claro no sólo en los próximos años que quieren ser más? Tal vez que se perciba el gasto de reconstrucción Humanos, el Día del Dr. House de principios de 2016. La deuda actual empezó a empresas que se encuentra ligeramente no, en Estados Unidos. Los estudiantes están determinadas y que se les facilite el regreso a México y Oaxaca y aproximadamente ligeramente mejor de lo aprobado, 3.134 creciendo entre los años y incluso a capital que se habían agravado en diferentes y el presidente Peña habló de los fundadores de la sociedad civil como la pobreza es una de las soluciones propuestas y la carrera adecuada. Si lo mismo de los logros que se destinan a la formalización de informalidad que nos permita ver más de nueve pasos que requieren tomado conscientemente.| \n",
      "Epoch 46/50\n",
      "4072/4072 [==============================] - 335s 82ms/step - loss: 1.9162\n",
      "Temp 0.2\n",
      "Dicen por ahí que prometer no empobrece. Difiero de la sabiduría popular. Prometer y no cumplir lo prometido, desde el discurso de la administración. Lo que es un tema que consiste en la economía mexicana en los que podrían tener acceso a bienes en el combate a la corrupción. Al parecer, los resultados de los que sea de la OCDE. \n",
      "\n",
      "Hay muchas áreas de oportunidad.\n",
      "\n",
      "La mil cuernos y las represalias comerciales que han tenido de forma importante que tiene una visión de bienestar laboral de 2008-2009. \n",
      "\n",
      "El módulo realizado a la gente agravará el mercado laboral que se pudieron ajustar billones de pesos, pero la corrupción ocupa el lugar 86 de los diez primeros tercios de la universidad, en la Secretaría de Desarrollo Social establece que el resto del precio de la gasolina lo hace en la cultura de la educación pública en los niveles de consumo de los funcionarios públicos que se han generado en el sector público, proporcionando quizá ser la fuga de mejorar la calidad de vida de la gasolina lo que ha ido continuamente en 2012 y 2014 regresaron. A mi forma, el FMI estima que la gente disminuyó30 por ciento no tenía aranceles entre esa relación con México es el vecino y principal socio comercial.\n",
      "\n",
      "Trump tuiteó que la gente es un pequeño ejemplo. Así único que estaba dispuestos a ceder ni que debemos hacer mandar un sistema educativo que vemos incrementar su complejidad para darle pequeños que permitirá poquito porque se desperdicia el precio de la jornada electoral, el presidente es una “síntesis de aspiraciones”. \n",
      "\n",
      "Algunas se dio en el lugar 95 de 137 países que crecen peligrosamente. Conocer el destino de los hijos que tenemos más allá de los pendientes de su administración. Al ser el beneficio de la deuda de los ciudadanos. Hay que las medidas de desarrollo de la población. Pero también todavía para eso puedan tener un ingreso fiscal laboral que acaba terminar políticas públicas que permitieran no sólo el precio de los recursos que sean usados no habrá un mejor desempeño económico que se mantiene el proceso, pasado, más de seis en el gasto público, en gasto de primera etapa de bienestar que se acerca a un observador en el Sistema Nacional Anticorrupción se creó un índice de percepción de corrupción de Transparencia Internacional, posterior a la liberalización del precio de la gasolina ocupada de 7.0 por ciento, ninguna de las campañas más importantes que se perciba a todos los indocumentados, pero sí es muy larga. Hay quien dice que no es un problema que se está dispuesto a ceder de cambio de ciertos logros. \n",
      "\n",
      "Esto aplica en los próximos meses hemos vez a los candidatos que se han llevado a cabo de cambio de las economías emergentes en Estados Unidos y otros– era hubiera crecer a evaluar.| \n",
      "Epoch 47/50\n",
      "4072/4072 [==============================] - 345s 85ms/step - loss: 1.8935\n",
      "Temp 0.2\n",
      "Dicen por ahí que prometer no empobrece. Difiero de la sabiduría popular. Prometer y en los que pagamos mucho décadas y las condiciones de interés que se han hecho de millones de mexicanos salieron de nuestro país (también plagado de corrupción). Cada alcanzado otra sido Querétaro, Aguascalientes, Two Mexicos: and prosperity in a two speed economy’. \n",
      "\n",
      "En este programa, McKinsey es responsable de los recursos públicos de interés a la economía mexicana. Este tema ha sido considerado un éxito hacia delante y de 1,151 al sector automotriz, faltan ingresos públicos. Estamos creciendo a esas prácticas corruptas y sus allegados. De los 12 mil 579 millones de dólares en contratos ilegales, pero todavía más difícil crecer. \n",
      "\n",
      "Si no se trata de haber sido Migran pero poco por hacer. Salomón parece que no se hace de una universidad que se aplica en un índice de inflación meramente extractivas, como la voluntad de ingresos que tiene una empresa micro (22 al mes, sin ningún tiempo, se laboral, en el mercado laboral. Ahí empezó a algún otro nivel de seguridad social dual que tenemos menos de lo largo de los intereses a votar en el país. Hoy hablamos de mujeres han dicho por décadas. Hoy quizá gasta cuánto es suficiente para obtener una ciudad de 2008-2009, el presidente electo y mueve a comprar pero es interesante. Incluso ya hay experimentos que se han hecho en el país. \n",
      "\n",
      "En esta medida que tenemos que reconocer que no es clara que está trabajando para nosotros”. \n",
      "\n",
      "Entiendo la utilidad y la Secretaría de Economía. No me gusta como una obviedad innecesaria. Es una única declaración que tienen que estar buscando mejoras para los que nosotros existían cosas que se tomen cada vez más complicada. De acuerdo con la misma OCDE, más grande de la OCDE. En los últimos cinco mil millones, los nutrientes empezaban en nacimiento, seguido de ser un crecimiento determinado de la economía de controversias, por inflaciones bajas. Entiendo la importancia de la inseguridad y la corrupción, disminución de la formalización de empleo de vida de la nula de la Secretaría de Hacienda, encontramos mayor de 50 mil millones de pesos y el comercio en términos de 7.0 por cientode la pobreza alcanzó casi un recurso de 1.9 millones de personas en el país. Sin embargo, pero el porcentaje de mercado ha tratado más baja acuerdos y compromisos de 44.7 a subir equivalente a año menores cinco millones de desocupados en el sector informal es una economía emergente para él, se encuentra bajándole el cálculo de ingresos y, de nuevo, otras. Noruega y Suecia y paz que se le había costado enormes beneficios. Uno dos trabajadores han sido exitosas. Y también está claro cómo se puede hacer. \n",
      "\n",
      "Para que estos bonos trabajo de ellas, mismos los precandidatos ni y a los resultados de la basura. No es fácil impositivas.\n",
      "\n",
      "Surge más.| a los recursos públicos de la población sino de los mercados financieros —que no vivir en economías de la corrupción que nos confronta.| \n",
      "Epoch 48/50\n",
      "4072/4072 [==============================] - 354s 87ms/step - loss: 1.8464\n",
      "Temp 0.2\n",
      "Dicen por ahí que prometer no empobrece. Nunca más evidente que no es seguro discrepar con toda a los niños que entreguen podemos capturar medidas que, de acuerdo a la OCDE, una disminución de los países miembros de los mismos. Sin embargo, no es necesario que existan más trenes, pero perderíamos del elección de seguridad social dual que tenemos menos que la productividad podría ser 1.4 de ciento anual. Los países impulsaron los ingresos de la mentira se destina a la gente que se le iba a hacer una potencia que les gustaría creer que la salida de la deuda se vuelve completamente normal. Se tiene certeza y de que se le da a los puntos de seguridad social. Pero no son capaces de dar un ingreso menor y nos llenamos de datos, leyes y cuya magnitud correspondiente al gasto del Obrador. Sus asesores será fundamental que queremos evaluar el precio de los inmuebles que han tenido en los últimos años. \n",
      "\n",
      "Las reformas estructurales siguen ahí. De entrada, dado que éste es un tema de género se observará en un sistema de pensiones. Son reformas propone el centro económico que se acercan. Tendrán un sistema educativo distinto. petrolizadas— los datos oficiales de vista si el gasto no programable. Si queremos saber qué haya logrado una reforma educativa tendría que estar atentos y remotamente a los municipios que están en todos los niños y jóvenes de control de los trabajadores perdería gobernar el uso de la gasolina en el país. El cambio del crecimiento económico en la economía informal. Se da un índice de producción que se da en los discursos y foros y sustituirlos por este número de Canadá y de porcentaje de los estudiantes de la OCDE. No es menor. Se tendrá que lograr un “profesional distinguido en fechas que, pero en día creo que la producción se ven de acuerdo al perfil de valor social desde periodos productiva. Por ejemplo, sirve que hubiera sido distintas por debajo de la población, México es pobre para detonar Veracruz insuficiente para mejorar la calidad de los recursos que se acercan.\n",
      "\n",
      "Parecería que la liberalización del precio de la gasolina se encuentra en un lejano lugar 92, de 113. Colombia, pero se ha ido descubriendo más de texto y de duda sirve la única forma de producir que quiere crecer. Los recortes que crecen comparten los que tenemos que analizar y la reforma educativa empezará al gasto público y incluso para corregir su causa. Al parecer, sea donde el país podría dividirse en este país. Seis de este año, el gasto en publicidad creció un buen ejemplo. Esta semana ha mejorado el gasto de innovación regando el valor de los mexicanos. No sorprende, entonces, que el potencial de una ciudad era profundamente ineficiente. Vive en serio la siguiente. Tal vez eso tiene que reconocer que no es necesario que se desea automáticamente se dan un error. Se necesitaban hacer ajustes; desde hacía ya mismo. Lo es. \n",
      "\n",
      "Pero verdaderamente nos queda claro más de \n",
      "Epoch 49/50\n",
      "4072/4072 [==============================] - 358s 88ms/step - loss: 1.8257\n",
      "Temp 0.2\n",
      "Dicen por ahí que prometer no empobrece. Difiero de la sabiduría popular. Prometer y no han sido eficaces para mejorar la distribución del ingreso. Pero no es un tema que se ha hecho que nos serviría de cambio. Pero también será donde la historia no es de extrañar que no se trata de que aquí el país se está quedando construir algo serias y de preferencia con ella.| \n",
      "Epoch 50/50\n",
      "4072/4072 [==============================] - 349s 86ms/step - loss: 1.7725\n",
      "Temp 0.2\n",
      "Dicen por ahí que prometer no empobrece. Difiero de la sabiduría popular. Prometer y no cumplir lo prometido, sin duda empobrece las distorsiones en el tiempo. Al hablar de corrupción importada por debajo del promedio de los mexicanos. La educación actual es llena de Uruguay, en el lugar 73. Con el caso extremo de el gasto público estaba presente y se manifiestan, con producción. China, los datos de la OCDE la evasión y presentan servicios educativas al comercio o a los migrantes que sea tan arraigada en el entorno de precios de la economía mexicana en los que están incurriendo.\n",
      "\n",
      "En los estados que los políticos hicieron los resultados de la población y seguramente se Algo ha cambiado la forma en la que se produce han manifestado un aumento en la disminución de la desigualdad. Sin embargo, esto Evalúa tendrá que enfrentar Canadá, de él, el país? Si tenemos el Reino Unido y la inflación, aunque existe más de nuestros aristas hasta los que nos quejamos nunca son novedad. Pero también nos cuesta al borde del colapso; el PIB tiene que los sistemas de apoyo —que los precios de origen tendrá que generar dos recursos que inciden entre las remesas y el reclamo de las reformas del país. Si bien estamos dispuestos a renegociarlo. Quiere poner aranceles punitivos al comercio que harán su posibilidad de vista social, en el país. Desde luego, en 2015 se encuentra en un entorno de estudiantes ha crecido aproximadamente por el mismo 37 de habitantes. En el mismo López Obrador dio el Acuerdo en el último objetivo estimado de 2.5 por ciento, pero el país detuvo el color de piel es tan rápido un crecimiento de 2.3 por ciento, mientras que ese 7.0 por ciento del PIB fue 4.3 por ciento respecto a la población ocupada que trabaja para la economía en América de crecimiento, de acuerdo a otros 200 mil millones de dólares para incluir en la extracción de complejidades de la economía mexicana en México (que es imposible analizar los resultados fiscales, más de que los servidores públicos. El presidente se refiere —ONG o think ofreció dos mil 300 millones de pesos en 28 países. En ese sentido, se trata de violencia sexual el sector informal ha sido en el país. Sin embargo, esto ha tenido un estudio que lleva publicándose por debajo del PIB y de nivel socioeconómico de forma tibia en este sentido, se encuentra en un lejano lugar mundial.\n",
      "\n",
      "Estados qué incluir la discusión que se usa información en la forma de producir económico, decreció igual con otros programas de ayudas educativo, pero no es un solo sentido económico que se mantiene el informe de crecimiento económico sostenido y el crecimiento es alarmante y da de construir de Morena. No podemos esperar más. Si queremos crecer a tasas mayores, que es menos productivo. \n",
      "\n",
      "Se ha visto directamente beneficiados por los políticos que tienen la inversión pública. Pero se acaben los excesos, pero no se produce en el metro. “Yo es un problema \n"
     ]
    }
   ],
   "source": [
    "def on_epoch_end(epoch, logs):\n",
    "    seed_text = \"\"\n",
    "    gen_words = 500\n",
    "\n",
    "    print('Temp 0.2')\n",
    "    print (generate_text(seed_text, gen_words, model, seq_length, temp = 0.2))\n",
    "    #print('Temp 0.33')\n",
    "    #print (generate_text(seed_text, gen_words, model, seq_length, temp = 0.33))\n",
    "    #print('Temp 0.5')\n",
    "    #print (generate_text(seed_text, gen_words, model, seq_length, temp = 0.5))\n",
    "    #print('Temp 1.0')\n",
    "    #print (generate_text(seed_text, gen_words, model, seq_length, temp = 1))\n",
    "\n",
    "    \n",
    "    \n",
    "if train_model:\n",
    "    epochs = 50\n",
    "    batch_size = 32\n",
    "    num_batches = int(len(X) / batch_size)\n",
    "    callback = LambdaCallback(on_epoch_end=on_epoch_end)\n",
    "    model.fit(X, y, epochs=epochs, batch_size=batch_size, callbacks = [callback], shuffle = True)\n",
    "\n",
    "\n"
   ]
  },
  {
   "cell_type": "code",
   "execution_count": null,
   "metadata": {
    "id": "ZZdUfet2arQw"
   },
   "outputs": [],
   "source": [
    "model.summary()"
   ]
  },
  {
   "cell_type": "code",
   "execution_count": 64,
   "metadata": {
    "colab": {
     "base_uri": "https://localhost:8080/"
    },
    "id": "zKZs5vQParQy",
    "outputId": "0577c773-d3fc-48a2-ff4e-5bc7b5895eb2"
   },
   "outputs": [
    {
     "name": "stderr",
     "output_type": "stream",
     "text": [
      "/usr/local/lib/python3.7/dist-packages/ipykernel_launcher.py:4: RuntimeWarning: divide by zero encountered in log\n",
      "  after removing the cwd from sys.path.\n"
     ]
    },
    {
     "name": "stdout",
     "output_type": "stream",
     "text": [
      "El secretario de Hacienda afirmó que el presidente de Estados Unidos era el segundo de días de Egresos . La desaceleración de México es enorme . La productividad es la demanda de la economía mexicana –y en consecuencia , de las mujeres , en algunos casos , de fomentar la industria de servicios que requieren servicios públicos –se roba la luz , no tengo ninguna circunstancia podemos esperar . Una vez que alguien logra la excepción es sólo más allá de la reforma energética . La inflación tiene varios indicadores : el trabajo de negociación de política social de haber sido destinados a infraestructura , de construir impacto inflacionario por poder crecer . El tema económico de la corrupción es un problema que hacen de los logros de la prueba PISA , de la intención de almacenamiento , se expropiaron las promesas , pero probablemente se han llevado a cabo algunas propuestas , tanto que se le notó sobre ensayada . Jaime Rodríguez se mostró que pensar que algunas cosas se logran así . \n"
     ]
    }
   ],
   "source": [
    "seed_text = \"El secretario de Hacienda afirmó \"\n",
    "gen_words = 500\n",
    "temp = 0.2\n",
    "\n",
    "print (generate_text(seed_text, gen_words, model, seq_length, temp))"
   ]
  },
  {
   "cell_type": "code",
   "execution_count": null,
   "metadata": {
    "id": "NIwpPNArarQz"
   },
   "outputs": [],
   "source": [
    "def generate_human_led_text(model, max_sequence_len):\n",
    "    \n",
    "    output_text = ''\n",
    "    seed_text = start_story\n",
    "    \n",
    "    while 1:\n",
    "        token_list = tokenizer.texts_to_sequences([seed_text])[0]\n",
    "        token_list = token_list[-max_sequence_len:]\n",
    "        token_list = np.reshape(token_list, (1, max_sequence_len))\n",
    "        \n",
    "        probs = model.predict(token_list, verbose=0)[0]\n",
    "\n",
    "        top_10_idx = np.flip(np.argsort(probs)[-10:])\n",
    "        top_10_probs = [probs[x] for x in top_10_idx]\n",
    "        top_10_words = tokenizer.sequences_to_texts([[x] for x in top_10_idx])\n",
    "        \n",
    "        for prob, word in zip(top_10_probs, top_10_words):\n",
    "            print('{:<6.1%} : {}'.format(prob, word))\n",
    "\n",
    "        chosen_word = input()\n",
    "                \n",
    "        if chosen_word == '|':\n",
    "            break\n",
    "            \n",
    "        \n",
    "        seed_text += chosen_word + ' '\n",
    "        output_text += chosen_word + ' '\n",
    "        \n",
    "        clear_output()\n",
    "\n",
    "        print (output_text)\n",
    "            \n",
    "    \n",
    "    "
   ]
  },
  {
   "cell_type": "code",
   "execution_count": null,
   "metadata": {
    "colab": {
     "base_uri": "https://localhost:8080/",
     "height": 715
    },
    "collapsed": true,
    "id": "2T73Vs9TarQ1",
    "outputId": "c576272b-62da-4d89-d229-78067698bebd"
   },
   "outputs": [
    {
     "name": "stdout",
     "output_type": "stream",
     "text": [
      "washed teeth crisis event teach own hide spectators dine sharp backed mortified blood lion heaven length timid woodman east revive elephant speed rows holes \n",
      "0.0%   : last\n",
      "0.0%   : holes\n",
      "0.0%   : weeping\n",
      "0.0%   : struggle\n",
      "0.0%   : years\n",
      "0.0%   : earthenware\n",
      "0.0%   : swam\n",
      "0.0%   : rest\n",
      "0.0%   : attacks\n",
      "0.0%   : procurable\n"
     ]
    },
    {
     "ename": "KeyboardInterrupt",
     "evalue": "ignored",
     "output_type": "error",
     "traceback": [
      "\u001b[0;31m---------------------------------------------------------------------------\u001b[0m",
      "\u001b[0;31mKeyboardInterrupt\u001b[0m                         Traceback (most recent call last)",
      "\u001b[0;32m/usr/local/lib/python3.7/dist-packages/ipykernel/kernelbase.py\u001b[0m in \u001b[0;36m_input_request\u001b[0;34m(self, prompt, ident, parent, password)\u001b[0m\n\u001b[1;32m    728\u001b[0m             \u001b[0;32mtry\u001b[0m\u001b[0;34m:\u001b[0m\u001b[0;34m\u001b[0m\u001b[0;34m\u001b[0m\u001b[0m\n\u001b[0;32m--> 729\u001b[0;31m                 \u001b[0mident\u001b[0m\u001b[0;34m,\u001b[0m \u001b[0mreply\u001b[0m \u001b[0;34m=\u001b[0m \u001b[0mself\u001b[0m\u001b[0;34m.\u001b[0m\u001b[0msession\u001b[0m\u001b[0;34m.\u001b[0m\u001b[0mrecv\u001b[0m\u001b[0;34m(\u001b[0m\u001b[0mself\u001b[0m\u001b[0;34m.\u001b[0m\u001b[0mstdin_socket\u001b[0m\u001b[0;34m,\u001b[0m \u001b[0;36m0\u001b[0m\u001b[0;34m)\u001b[0m\u001b[0;34m\u001b[0m\u001b[0;34m\u001b[0m\u001b[0m\n\u001b[0m\u001b[1;32m    730\u001b[0m             \u001b[0;32mexcept\u001b[0m \u001b[0mException\u001b[0m\u001b[0;34m:\u001b[0m\u001b[0;34m\u001b[0m\u001b[0;34m\u001b[0m\u001b[0m\n",
      "\u001b[0;32m/usr/local/lib/python3.7/dist-packages/jupyter_client/session.py\u001b[0m in \u001b[0;36mrecv\u001b[0;34m(self, socket, mode, content, copy)\u001b[0m\n\u001b[1;32m    802\u001b[0m         \u001b[0;32mtry\u001b[0m\u001b[0;34m:\u001b[0m\u001b[0;34m\u001b[0m\u001b[0;34m\u001b[0m\u001b[0m\n\u001b[0;32m--> 803\u001b[0;31m             \u001b[0mmsg_list\u001b[0m \u001b[0;34m=\u001b[0m \u001b[0msocket\u001b[0m\u001b[0;34m.\u001b[0m\u001b[0mrecv_multipart\u001b[0m\u001b[0;34m(\u001b[0m\u001b[0mmode\u001b[0m\u001b[0;34m,\u001b[0m \u001b[0mcopy\u001b[0m\u001b[0;34m=\u001b[0m\u001b[0mcopy\u001b[0m\u001b[0;34m)\u001b[0m\u001b[0;34m\u001b[0m\u001b[0;34m\u001b[0m\u001b[0m\n\u001b[0m\u001b[1;32m    804\u001b[0m         \u001b[0;32mexcept\u001b[0m \u001b[0mzmq\u001b[0m\u001b[0;34m.\u001b[0m\u001b[0mZMQError\u001b[0m \u001b[0;32mas\u001b[0m \u001b[0me\u001b[0m\u001b[0;34m:\u001b[0m\u001b[0;34m\u001b[0m\u001b[0;34m\u001b[0m\u001b[0m\n",
      "\u001b[0;32m/usr/local/lib/python3.7/dist-packages/zmq/sugar/socket.py\u001b[0m in \u001b[0;36mrecv_multipart\u001b[0;34m(self, flags, copy, track)\u001b[0m\n\u001b[1;32m    582\u001b[0m         \"\"\"\n\u001b[0;32m--> 583\u001b[0;31m         \u001b[0mparts\u001b[0m \u001b[0;34m=\u001b[0m \u001b[0;34m[\u001b[0m\u001b[0mself\u001b[0m\u001b[0;34m.\u001b[0m\u001b[0mrecv\u001b[0m\u001b[0;34m(\u001b[0m\u001b[0mflags\u001b[0m\u001b[0;34m,\u001b[0m \u001b[0mcopy\u001b[0m\u001b[0;34m=\u001b[0m\u001b[0mcopy\u001b[0m\u001b[0;34m,\u001b[0m \u001b[0mtrack\u001b[0m\u001b[0;34m=\u001b[0m\u001b[0mtrack\u001b[0m\u001b[0;34m)\u001b[0m\u001b[0;34m]\u001b[0m\u001b[0;34m\u001b[0m\u001b[0;34m\u001b[0m\u001b[0m\n\u001b[0m\u001b[1;32m    584\u001b[0m         \u001b[0;31m# have first part already, only loop while more to receive\u001b[0m\u001b[0;34m\u001b[0m\u001b[0;34m\u001b[0m\u001b[0;34m\u001b[0m\u001b[0m\n",
      "\u001b[0;32mzmq/backend/cython/socket.pyx\u001b[0m in \u001b[0;36mzmq.backend.cython.socket.Socket.recv\u001b[0;34m()\u001b[0m\n",
      "\u001b[0;32mzmq/backend/cython/socket.pyx\u001b[0m in \u001b[0;36mzmq.backend.cython.socket.Socket.recv\u001b[0;34m()\u001b[0m\n",
      "\u001b[0;32mzmq/backend/cython/socket.pyx\u001b[0m in \u001b[0;36mzmq.backend.cython.socket._recv_copy\u001b[0;34m()\u001b[0m\n",
      "\u001b[0;32m/usr/local/lib/python3.7/dist-packages/zmq/backend/cython/checkrc.pxd\u001b[0m in \u001b[0;36mzmq.backend.cython.checkrc._check_rc\u001b[0;34m()\u001b[0m\n",
      "\u001b[0;31mKeyboardInterrupt\u001b[0m: ",
      "\nDuring handling of the above exception, another exception occurred:\n",
      "\u001b[0;31mKeyboardInterrupt\u001b[0m                         Traceback (most recent call last)",
      "\u001b[0;32m<ipython-input-33-c243fba3c910>\u001b[0m in \u001b[0;36m<module>\u001b[0;34m()\u001b[0m\n\u001b[0;32m----> 1\u001b[0;31m \u001b[0mgenerate_human_led_text\u001b[0m\u001b[0;34m(\u001b[0m\u001b[0mmodel\u001b[0m\u001b[0;34m,\u001b[0m \u001b[0;36m20\u001b[0m\u001b[0;34m)\u001b[0m\u001b[0;34m\u001b[0m\u001b[0;34m\u001b[0m\u001b[0m\n\u001b[0m",
      "\u001b[0;32m<ipython-input-32-92727b966077>\u001b[0m in \u001b[0;36mgenerate_human_led_text\u001b[0;34m(model, max_sequence_len)\u001b[0m\n\u001b[1;32m     18\u001b[0m             \u001b[0mprint\u001b[0m\u001b[0;34m(\u001b[0m\u001b[0;34m'{:<6.1%} : {}'\u001b[0m\u001b[0;34m.\u001b[0m\u001b[0mformat\u001b[0m\u001b[0;34m(\u001b[0m\u001b[0mprob\u001b[0m\u001b[0;34m,\u001b[0m \u001b[0mword\u001b[0m\u001b[0;34m)\u001b[0m\u001b[0;34m)\u001b[0m\u001b[0;34m\u001b[0m\u001b[0;34m\u001b[0m\u001b[0m\n\u001b[1;32m     19\u001b[0m \u001b[0;34m\u001b[0m\u001b[0m\n\u001b[0;32m---> 20\u001b[0;31m         \u001b[0mchosen_word\u001b[0m \u001b[0;34m=\u001b[0m \u001b[0minput\u001b[0m\u001b[0;34m(\u001b[0m\u001b[0;34m)\u001b[0m\u001b[0;34m\u001b[0m\u001b[0;34m\u001b[0m\u001b[0m\n\u001b[0m\u001b[1;32m     21\u001b[0m \u001b[0;34m\u001b[0m\u001b[0m\n\u001b[1;32m     22\u001b[0m         \u001b[0;32mif\u001b[0m \u001b[0mchosen_word\u001b[0m \u001b[0;34m==\u001b[0m \u001b[0;34m'|'\u001b[0m\u001b[0;34m:\u001b[0m\u001b[0;34m\u001b[0m\u001b[0;34m\u001b[0m\u001b[0m\n",
      "\u001b[0;32m/usr/local/lib/python3.7/dist-packages/ipykernel/kernelbase.py\u001b[0m in \u001b[0;36mraw_input\u001b[0;34m(self, prompt)\u001b[0m\n\u001b[1;32m    702\u001b[0m             \u001b[0mself\u001b[0m\u001b[0;34m.\u001b[0m\u001b[0m_parent_ident\u001b[0m\u001b[0;34m,\u001b[0m\u001b[0;34m\u001b[0m\u001b[0;34m\u001b[0m\u001b[0m\n\u001b[1;32m    703\u001b[0m             \u001b[0mself\u001b[0m\u001b[0;34m.\u001b[0m\u001b[0m_parent_header\u001b[0m\u001b[0;34m,\u001b[0m\u001b[0;34m\u001b[0m\u001b[0;34m\u001b[0m\u001b[0m\n\u001b[0;32m--> 704\u001b[0;31m             \u001b[0mpassword\u001b[0m\u001b[0;34m=\u001b[0m\u001b[0;32mFalse\u001b[0m\u001b[0;34m,\u001b[0m\u001b[0;34m\u001b[0m\u001b[0;34m\u001b[0m\u001b[0m\n\u001b[0m\u001b[1;32m    705\u001b[0m         )\n\u001b[1;32m    706\u001b[0m \u001b[0;34m\u001b[0m\u001b[0m\n",
      "\u001b[0;32m/usr/local/lib/python3.7/dist-packages/ipykernel/kernelbase.py\u001b[0m in \u001b[0;36m_input_request\u001b[0;34m(self, prompt, ident, parent, password)\u001b[0m\n\u001b[1;32m    732\u001b[0m             \u001b[0;32mexcept\u001b[0m \u001b[0mKeyboardInterrupt\u001b[0m\u001b[0;34m:\u001b[0m\u001b[0;34m\u001b[0m\u001b[0;34m\u001b[0m\u001b[0m\n\u001b[1;32m    733\u001b[0m                 \u001b[0;31m# re-raise KeyboardInterrupt, to truncate traceback\u001b[0m\u001b[0;34m\u001b[0m\u001b[0;34m\u001b[0m\u001b[0;34m\u001b[0m\u001b[0m\n\u001b[0;32m--> 734\u001b[0;31m                 \u001b[0;32mraise\u001b[0m \u001b[0mKeyboardInterrupt\u001b[0m\u001b[0;34m\u001b[0m\u001b[0;34m\u001b[0m\u001b[0m\n\u001b[0m\u001b[1;32m    735\u001b[0m             \u001b[0;32melse\u001b[0m\u001b[0;34m:\u001b[0m\u001b[0;34m\u001b[0m\u001b[0;34m\u001b[0m\u001b[0m\n\u001b[1;32m    736\u001b[0m                 \u001b[0;32mbreak\u001b[0m\u001b[0;34m\u001b[0m\u001b[0;34m\u001b[0m\u001b[0m\n",
      "\u001b[0;31mKeyboardInterrupt\u001b[0m: "
     ]
    }
   ],
   "source": [
    "\n",
    "generate_human_led_text(model, 20)"
   ]
  },
  {
   "cell_type": "code",
   "execution_count": 16,
   "metadata": {
    "id": "ulXCc27rarQ3"
   },
   "outputs": [],
   "source": [
    "model.save('./saved_models/three_lstm_adam_wordtoken.h5')"
   ]
  }
 ],
 "metadata": {
  "accelerator": "GPU",
  "colab": {
   "collapsed_sections": [],
   "machine_shape": "hm",
   "name": "lstm_text_train_adam_wordtoken.ipynb",
   "provenance": []
  },
  "kernelspec": {
   "display_name": "Python 3",
   "language": "python",
   "name": "python3"
  },
  "language_info": {
   "codemirror_mode": {
    "name": "ipython",
    "version": 3
   },
   "file_extension": ".py",
   "mimetype": "text/x-python",
   "name": "python",
   "nbconvert_exporter": "python",
   "pygments_lexer": "ipython3",
   "version": "3.7.6"
  },
  "toc": {
   "base_numbering": 1,
   "nav_menu": {},
   "number_sections": true,
   "sideBar": true,
   "skip_h1_title": false,
   "title_cell": "Table of Contents",
   "title_sidebar": "Contents",
   "toc_cell": false,
   "toc_position": {},
   "toc_section_display": true,
   "toc_window_display": false
  },
  "varInspector": {
   "cols": {
    "lenName": 16,
    "lenType": 16,
    "lenVar": 40
   },
   "kernels_config": {
    "python": {
     "delete_cmd_postfix": "",
     "delete_cmd_prefix": "del ",
     "library": "var_list.py",
     "varRefreshCmd": "print(var_dic_list())"
    },
    "r": {
     "delete_cmd_postfix": ") ",
     "delete_cmd_prefix": "rm(",
     "library": "var_list.r",
     "varRefreshCmd": "cat(var_dic_list()) "
    }
   },
   "types_to_exclude": [
    "module",
    "function",
    "builtin_function_or_method",
    "instance",
    "_Feature"
   ],
   "window_display": false
  }
 },
 "nbformat": 4,
 "nbformat_minor": 1
}
