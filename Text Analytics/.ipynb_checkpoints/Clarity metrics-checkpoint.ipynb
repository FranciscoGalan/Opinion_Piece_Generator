{
 "cells": [
  {
   "cell_type": "markdown",
   "id": "muslim-highlight",
   "metadata": {},
   "source": [
    "# Clarity metrics\n",
    "Included in this notebook:\n",
    "- Average sentence length (by number of words)\n",
    "- Average word length (by number of syllables)\n",
    "- Readability index Szigriszt-Pazos\n",
    "- Usage of common words\n",
    "- Lexical diversity\n",
    " \n",
    "\n",
    "- Análisis Jonathan Haidt para juicios tajantes. \n",
    "\n",
    "https://colab.research.google.com/drive/1jMVh_pXs8-9tIzMBKK11VRu31jn947xk"
   ]
  },
  {
   "cell_type": "code",
   "execution_count": 135,
   "id": "defensive-dubai",
   "metadata": {},
   "outputs": [],
   "source": [
    "import pandas as pd\n",
    "import numpy as np\n",
    "import re\n",
    "\n",
    "from wordfreq import word_frequency # Documentation: https://github.com/LuminosoInsight/wordfreq/\n",
    "import textstat # Documentation: https://github.com/shivam5992/textstat\n",
    "from textstat import szigriszt_pazos\n",
    "textstat.set_lang('es')"
   ]
  },
  {
   "cell_type": "code",
   "execution_count": 2,
   "id": "certified-polish",
   "metadata": {},
   "outputs": [],
   "source": [
    "# Load articles of authors\n",
    "data = pd.read_csv('../Data/Data_clean_csv/clean_dataframe.csv')\n",
    "\n",
    "with open('../Data/Data_clean_txt/Denisse Dresser.txt', 'r', encoding='utf8') as f:\n",
    "    dresser_content = f.read()\n",
    "    \n",
    "with open('../Data/Data_clean_txt/Enrique Krauze.txt', 'r', encoding='utf8') as f:\n",
    "    krauze_content = f.read()\n",
    "    \n",
    "with open('../Data/Data_clean_txt/John Ackerman.txt', 'r', encoding='utf8') as f:\n",
    "    ackerman_content = f.read()\n",
    "    \n",
    "with open('../Data/Data_clean_txt/Ricardo Raphael.txt', 'r', encoding='utf8') as f:\n",
    "    raphael_content = f.read()\n",
    "    \n",
    "with open('../Data/Data_clean_txt/Valeria Moy.txt', 'r', encoding='utf8') as f:\n",
    "    moy_content = f.read()"
   ]
  },
  {
   "cell_type": "markdown",
   "id": "handed-norwegian",
   "metadata": {},
   "source": [
    "## Average sentence length (by number of words)"
   ]
  },
  {
   "cell_type": "code",
   "execution_count": 55,
   "id": "three-columbia",
   "metadata": {},
   "outputs": [],
   "source": [
    "def html_cleaner(text):\n",
    "    \"\"\" Removes html expressions and line breaks\"\"\"\n",
    "    \n",
    "    text = re.sub(r'(\\n|\\r)', '', text)\n",
    "    \n",
    "    # Remove italics\n",
    "    text = re.sub(r'<i>', '', text)\n",
    "    text = re.sub(r'<\\\\i>', '', text)\n",
    "    \n",
    "    # Remove bold\n",
    "    text = re.sub(r'<b>', '', text)\n",
    "    text = re.sub(r'<\\\\b>', '', text)\n",
    "    \n",
    "    #Remove multiple spaces\n",
    "    text = re.sub(r'\\s{2,}', ' ', text)\n",
    "    text = re.sub(r'\\s,\\s', ', ', text)\n",
    "        \n",
    "    return text"
   ]
  },
  {
   "cell_type": "code",
   "execution_count": 122,
   "id": "inside-anthony",
   "metadata": {},
   "outputs": [],
   "source": [
    "def words_per_sentence(text):\n",
    "    \"\"\"Returns average words per sentence of a text\"\"\"\n",
    "    \n",
    "    # Clean html expressions and line breaks\n",
    "    text = html_cleaner(text)\n",
    "    \n",
    "    #Split into sentences\n",
    "    sentence_regex = re.compile('[\\.|\\?\\s?|!]\\s')\n",
    "    sentences = sentence_regex.split(text)\n",
    "    \n",
    "    #Remove empty sentences\n",
    "    for sentence in sentences:\n",
    "        if not sentence:\n",
    "            sentences.remove(sentence)\n",
    "    \n",
    "    #Count words in each string\n",
    "    words_per_sentence = [len(re.findall(r'\\w+', sentence)) for sentence in sentences]\n",
    "        \n",
    "    #Get average words per sentence\n",
    "    avg_words_per_sentence = sum(words_per_sentence) / len(words_per_sentence)\n",
    "        \n",
    "    return avg_words_per_sentence"
   ]
  },
  {
   "cell_type": "markdown",
   "id": "variable-harris",
   "metadata": {},
   "source": [
    "## Average word length (by number of syllables)"
   ]
  },
  {
   "cell_type": "code",
   "execution_count": 106,
   "id": "golden-patient",
   "metadata": {},
   "outputs": [],
   "source": [
    "def punctuation_cleaner(text):\n",
    "    \"\"\"Removes all punctuation and special characters from a text\"\"\"\n",
    "    \n",
    "    text = re.sub(r'[^A-Za-z\\sáéíóúñ]+', '', text)\n",
    "    \n",
    "    return text"
   ]
  },
  {
   "cell_type": "code",
   "execution_count": 127,
   "id": "pursuant-square",
   "metadata": {},
   "outputs": [],
   "source": [
    "def syllables_per_word(text):\n",
    "    \"\"\"Returns average syllables per word of a text\"\"\"\n",
    "    \n",
    "    # Clean html expressions, line breaks, and punctuation\n",
    "    text = html_cleaner(text)\n",
    "    text = punctuation_cleaner(text)\n",
    "    \n",
    "    #Remove initialisms and acronyms\n",
    "    text = re.sub(r'\\b[A-ZÑ]{2,}\\b', '', text)\n",
    "    \n",
    "    #Remove multiple spaces\n",
    "    text = re.sub(r'\\s{2,}', ' ', text)\n",
    "    text = re.sub(r'\\s,\\s', ', ', text)\n",
    "    text = re.sub(r'\\s+$', '', text)\n",
    "    \n",
    "    # Lowercase all words\n",
    "    text = text.lower()\n",
    "    \n",
    "    # Calculate average number of syllables per word\n",
    "    words = text.split()\n",
    "    syllables_per_word = [textstat.syllable_count(word) for word in words]\n",
    "    avg_syllables_per_word = sum(syllables_per_word) / len(words)\n",
    "    \n",
    "    return avg_syllables_per_word"
   ]
  },
  {
   "cell_type": "markdown",
   "id": "asian-kennedy",
   "metadata": {},
   "source": [
    "## Readability index Szigriszt-Pazos"
   ]
  },
  {
   "cell_type": "markdown",
   "id": "alert-thanks",
   "metadata": {},
   "source": [
    "This index is a Spanish adaptation of the Flesch readability-ease test, which considers average words per sentence and average syllables per word.\n",
    "\n",
    "See https://legible.es/blog/perspicuidad-szigriszt-pazos/"
   ]
  },
  {
   "cell_type": "markdown",
   "id": "promotional-consent",
   "metadata": {},
   "source": [
    "| Score | Difficulty | Education level |\n",
    "| ----- | ---------- | --------------- |\n",
    "|0-15| Very hard|University graduates\n",
    "|16-35| Hard| University graduates\n",
    "|36-50| Somewhat hard| College\n",
    "|51-65| Normal| 13 to 15-year-old students\n",
    "|66-75| Somewhat easy| 12 year-old students\n",
    "|76-85| Easy| 11 year-old students\n",
    "|86-100| Very easy| 6 to 10 year-olds"
   ]
  },
  {
   "cell_type": "code",
   "execution_count": 136,
   "id": "inner-opinion",
   "metadata": {},
   "outputs": [],
   "source": [
    "def average_szigriszt_pazos(author):\n",
    "    \"\"\"Returns average Szigriszt-Pazos index of the articles of an author:\n",
    "    - author: write the whole name (e.g., 'Denisse Dresser', Enrique Krauze')\n",
    "    \"\"\"\n",
    "    \n",
    "    szigriszt_pazos_scores = data.loc[data['author'] == author, 'body'].apply(szigriszt_pazos)\n",
    "    avg_szigriszt_pazos = szigriszt_pazos_scores.mean()\n",
    "    \n",
    "    return avg_szigriszt_pazos"
   ]
  },
  {
   "cell_type": "code",
   "execution_count": 141,
   "id": "nutritional-lindsay",
   "metadata": {},
   "outputs": [
    {
     "name": "stdout",
     "output_type": "stream",
     "text": [
      "44.84963963963964\n",
      "50.79950171821305\n",
      "11.723434343434345\n",
      "57.3544827586207\n"
     ]
    }
   ],
   "source": [
    "print(average_szigriszt_pazos('Denisse Dresser'))\n",
    "print(average_szigriszt_pazos('Enrique Krauze'))\n",
    "print(average_szigriszt_pazos('Ricardo Raphael'))\n",
    "print(average_szigriszt_pazos('Valeria Moy'))"
   ]
  },
  {
   "cell_type": "code",
   "execution_count": 199,
   "id": "certain-vienna",
   "metadata": {},
   "outputs": [
    {
     "data": {
      "text/plain": [
       "author                                        John Ackerman\n",
       "title                   Un voto razonado para Mario Delgado\n",
       "date                                             2020/10/05\n",
       "body                                                    NaN\n",
       "source                                           La Jornada\n",
       "link      https://johnackerman.mx/un-voto-razonado-para-...\n",
       "Name: 1216, dtype: object"
      ]
     },
     "execution_count": 199,
     "metadata": {},
     "output_type": "execute_result"
    }
   ],
   "source": [
    "data.iloc[1216]"
   ]
  },
  {
   "cell_type": "code",
   "execution_count": 196,
   "id": "bronze-religious",
   "metadata": {},
   "outputs": [
    {
     "data": {
      "text/plain": [
       "1216    True\n",
       "Name: body, dtype: bool"
      ]
     },
     "execution_count": 196,
     "metadata": {},
     "output_type": "execute_result"
    }
   ],
   "source": [
    "a = data.loc[data['author'] == 'John Ackerman', 'body'].apply(type) == float\n",
    "a[a == True]"
   ]
  },
  {
   "cell_type": "markdown",
   "id": "fossil-being",
   "metadata": {},
   "source": [
    "## Usage of common words"
   ]
  },
  {
   "cell_type": "code",
   "execution_count": 133,
   "id": "social-mercury",
   "metadata": {},
   "outputs": [],
   "source": [
    "test1 = \"La casa del gato\"\n",
    "test2 = 'La Filosofía del agnósticismo'"
   ]
  },
  {
   "cell_type": "code",
   "execution_count": null,
   "id": "rolled-patient",
   "metadata": {},
   "outputs": [],
   "source": [
    "def score(text):\n",
    "    \n",
    "    # Remove stopwords\n",
    "    "
   ]
  },
  {
   "cell_type": "code",
   "execution_count": 32,
   "id": "swedish-invention",
   "metadata": {},
   "outputs": [
    {
     "data": {
      "text/plain": [
       "'Martha creció con su numerosa familia en una colonia popular de la Ciudad de México. Tiene dos hijos: Michelle, de 17, y Josef, de 11. Trabaja de cocinera en una casa particular. Desde hace algunos años había vivido separada de Rubén, su marido, un hombre de cuarenta y dos años que se ganaba la vida como taxista. \\r\\n\\r\\n Al inicio de la pandemia, Martha comenzó a recibir noticias alarmantes de su colonia. Mucha gente conocida se estaba muriendo. Su tía Esperanza, de cerca de 74 años, enfermó. Había llegado de Acapulco a la casa de varios pisos donde viven generaciones de familiares suyos y algunos inquilinos. Murió cuando iban a llevarla al hospital. El acta de defunción registró \"complicaciones respiratorias\". Les dieron la caja con sus cenizas. Cuatro de sus hijos y varios nietos se hicieron la prueba de Covid y salieron positivos. Los vecinos quisieron quemar la casa. \\r\\n\\r\\n Otra tía, Irma, murió el 17 de enero. Tenía 78 años. Sus hijos se reunieron con ella en su casa del Estado de México para pasar la Navidad. Eran unas siete personas. Enfermaron ella y su hijo, de aproximadamente 48 años. Los dos fueron hospitalizados y el diagnóstico en ambos casos fue Covid. Murieron con un día de diferencia. Fueron incinerados. En las actas de defunción se asentó que Irma murió por derrame y su hijo por Covid. Otra hija se enfermó también, pero afortunadamente se salvó. \\r\\n\\r\\n Por esas fechas, Martha recibió la noticia de que Rubén había contraído Covid y estaba verdaderamente grave. El médico de la familia dijo que era neumonía. Lo aislaron, una hermana enfermera pidió licencia en su trabajo para cuidarlo. Rubén tenía problemas crónicos en los pulmones. La hermana quiso llevarlo inmediatamente a la clínica donde trabaja para intubarlo, pero no pudo tomar esa decisión porque sus padres -acabados de llegar de su pueblo, en el Estado de México- tenían dudas. Era ya muy noche. Martha y sus hijos se fueron a dormir en la mayor zozobra. \\r\\n\\r\\n Al día siguiente, muy temprano en la mañana, Martha trasmitió a sus allegados la noticia: \"En la madrugada falleció el papá de mis hijos, no pudieron despedirse siquiera de él\". Días más tarde, detalló las circunstancias de esa muerte. Los padres se negaron finalmente a que fuera a un hospital o al Seguro Social. \"Sabemos que, si se lo llevan, no lo volveremos a ver\". Se referían a ver a su hijo vivo pero también a verlo muerto, porque conocían de muchos casos en que los seres queridos regresan solo en una urna de cenizas. \"Es mejor que se quede acá con nosotros\". \\r\\n\\r\\n Rubén murió junto a ellos, pero no paró ahí el calvario. Para llevar el cuerpo a su pueblo y darle sepultura, la familia esperaba conseguir un certificado de defunción que dijera simplemente la verdad: \"murió por Covid\". No solo era necesario para ese efecto. También era imprescindible para asegurar las becas que el gobierno ha prometido a los huérfanos del Covid. Ese dinero sería la única herencia de Rubén a sus hijos, pero una herencia invaluable, la esperanza de un futuro. \\r\\n\\r\\n Por desgracia, en la funeraria tenían una orden distinta. Si la familia quería que el cuerpo les fuese entregado, el certificado no podía decir \"muerte por Covid\" sino \"muerte por paro cardíaco\". De otra suerte, los trámites se alargarían, quizá no podrían entregar el cuerpo. Los padres no tuvieron más opción que aceptar. Ahora ambos, que padecen presión alta, están enfermos de Covid y \"entubados\", lo mismo que una de sus hijas, hermana de Rubén. \\r\\n\\r\\n Los chicos se quedaron sin padre y sin el legado que el gobierno prometió. En sus chats con amigos de la escuela, Michelle comparte sus penas y escucha historias similares. Casi nadie se ha salvado de la peste, muchos han decidido dejar de estudiar. Josef, aún muy pequeño, parece tranquilo y riega su pequeña huerta. Michelle teme la llegada de la noche, cuando los enfermos mueren. ¿Qué ocurrirá con sus abuelitos y su tía? \\r\\n\\r\\n \"Los muertos -dice Martha- son muchos más de los que se reportan. Hay decenas en cada calle, en cada manzana. Multitudes de personas hacen largas colas para recibir vales de becas y ayudas, e ir a los bancos, con riesgo para su salud. No se encuentran medicinas ni tanques de oxígeno. Ya nadie quiere ir a los hospitales\". \\r\\n\\r\\n Martha no ve las noticias. Muchos que pusieron su esperanza en el gobierno \"ahora se sienten defraudados\". Ella pone su fe en el Creador. No tiene tiempo de llorar. Es una madre mexicana. \\r\\n\\r\\n <i> '"
      ]
     },
     "execution_count": 32,
     "metadata": {},
     "output_type": "execute_result"
    }
   ],
   "source": [
    "data.loc[data['author'] == 'Enrique Krauze', 'body'][2]"
   ]
  },
  {
   "cell_type": "code",
   "execution_count": 84,
   "id": "engaged-sessions",
   "metadata": {},
   "outputs": [
    {
     "data": {
      "text/plain": [
       "2      74.51\n",
       "19     73.37\n",
       "83     70.70\n",
       "116    72.83\n",
       "125    72.83\n",
       "289    76.36\n",
       "Name: body, dtype: float64"
      ]
     },
     "execution_count": 84,
     "metadata": {},
     "output_type": "execute_result"
    }
   ],
   "source": [
    "scores[scores > 70]"
   ]
  },
  {
   "cell_type": "code",
   "execution_count": 59,
   "id": "regulated-guide",
   "metadata": {},
   "outputs": [
    {
     "ename": "KeyError",
     "evalue": "False",
     "output_type": "error",
     "traceback": [
      "\u001b[1;31m---------------------------------------------------------------------------\u001b[0m",
      "\u001b[1;31mKeyError\u001b[0m                                  Traceback (most recent call last)",
      "\u001b[1;32m~\\anaconda3\\lib\\site-packages\\pandas\\core\\indexes\\base.py\u001b[0m in \u001b[0;36mget_loc\u001b[1;34m(self, key, method, tolerance)\u001b[0m\n\u001b[0;32m   2645\u001b[0m             \u001b[1;32mtry\u001b[0m\u001b[1;33m:\u001b[0m\u001b[1;33m\u001b[0m\u001b[1;33m\u001b[0m\u001b[0m\n\u001b[1;32m-> 2646\u001b[1;33m                 \u001b[1;32mreturn\u001b[0m \u001b[0mself\u001b[0m\u001b[1;33m.\u001b[0m\u001b[0m_engine\u001b[0m\u001b[1;33m.\u001b[0m\u001b[0mget_loc\u001b[0m\u001b[1;33m(\u001b[0m\u001b[0mkey\u001b[0m\u001b[1;33m)\u001b[0m\u001b[1;33m\u001b[0m\u001b[1;33m\u001b[0m\u001b[0m\n\u001b[0m\u001b[0;32m   2647\u001b[0m             \u001b[1;32mexcept\u001b[0m \u001b[0mKeyError\u001b[0m\u001b[1;33m:\u001b[0m\u001b[1;33m\u001b[0m\u001b[1;33m\u001b[0m\u001b[0m\n",
      "\u001b[1;32mpandas\\_libs\\index.pyx\u001b[0m in \u001b[0;36mpandas._libs.index.IndexEngine.get_loc\u001b[1;34m()\u001b[0m\n",
      "\u001b[1;32mpandas\\_libs\\index.pyx\u001b[0m in \u001b[0;36mpandas._libs.index.IndexEngine.get_loc\u001b[1;34m()\u001b[0m\n",
      "\u001b[1;32mpandas\\_libs\\hashtable_class_helper.pxi\u001b[0m in \u001b[0;36mpandas._libs.hashtable.PyObjectHashTable.get_item\u001b[1;34m()\u001b[0m\n",
      "\u001b[1;32mpandas\\_libs\\hashtable_class_helper.pxi\u001b[0m in \u001b[0;36mpandas._libs.hashtable.PyObjectHashTable.get_item\u001b[1;34m()\u001b[0m\n",
      "\u001b[1;31mKeyError\u001b[0m: False",
      "\nDuring handling of the above exception, another exception occurred:\n",
      "\u001b[1;31mKeyError\u001b[0m                                  Traceback (most recent call last)",
      "\u001b[1;32m<ipython-input-59-93095b2a8832>\u001b[0m in \u001b[0;36m<module>\u001b[1;34m\u001b[0m\n\u001b[1;32m----> 1\u001b[1;33m \u001b[0mdata\u001b[0m\u001b[1;33m[\u001b[0m\u001b[1;34m'author'\u001b[0m \u001b[1;33m==\u001b[0m \u001b[1;34m'Enrique Krauze'\u001b[0m\u001b[1;33m]\u001b[0m\u001b[1;33m\u001b[0m\u001b[1;33m\u001b[0m\u001b[0m\n\u001b[0m",
      "\u001b[1;32m~\\anaconda3\\lib\\site-packages\\pandas\\core\\frame.py\u001b[0m in \u001b[0;36m__getitem__\u001b[1;34m(self, key)\u001b[0m\n\u001b[0;32m   2798\u001b[0m             \u001b[1;32mif\u001b[0m \u001b[0mself\u001b[0m\u001b[1;33m.\u001b[0m\u001b[0mcolumns\u001b[0m\u001b[1;33m.\u001b[0m\u001b[0mnlevels\u001b[0m \u001b[1;33m>\u001b[0m \u001b[1;36m1\u001b[0m\u001b[1;33m:\u001b[0m\u001b[1;33m\u001b[0m\u001b[1;33m\u001b[0m\u001b[0m\n\u001b[0;32m   2799\u001b[0m                 \u001b[1;32mreturn\u001b[0m \u001b[0mself\u001b[0m\u001b[1;33m.\u001b[0m\u001b[0m_getitem_multilevel\u001b[0m\u001b[1;33m(\u001b[0m\u001b[0mkey\u001b[0m\u001b[1;33m)\u001b[0m\u001b[1;33m\u001b[0m\u001b[1;33m\u001b[0m\u001b[0m\n\u001b[1;32m-> 2800\u001b[1;33m             \u001b[0mindexer\u001b[0m \u001b[1;33m=\u001b[0m \u001b[0mself\u001b[0m\u001b[1;33m.\u001b[0m\u001b[0mcolumns\u001b[0m\u001b[1;33m.\u001b[0m\u001b[0mget_loc\u001b[0m\u001b[1;33m(\u001b[0m\u001b[0mkey\u001b[0m\u001b[1;33m)\u001b[0m\u001b[1;33m\u001b[0m\u001b[1;33m\u001b[0m\u001b[0m\n\u001b[0m\u001b[0;32m   2801\u001b[0m             \u001b[1;32mif\u001b[0m \u001b[0mis_integer\u001b[0m\u001b[1;33m(\u001b[0m\u001b[0mindexer\u001b[0m\u001b[1;33m)\u001b[0m\u001b[1;33m:\u001b[0m\u001b[1;33m\u001b[0m\u001b[1;33m\u001b[0m\u001b[0m\n\u001b[0;32m   2802\u001b[0m                 \u001b[0mindexer\u001b[0m \u001b[1;33m=\u001b[0m \u001b[1;33m[\u001b[0m\u001b[0mindexer\u001b[0m\u001b[1;33m]\u001b[0m\u001b[1;33m\u001b[0m\u001b[1;33m\u001b[0m\u001b[0m\n",
      "\u001b[1;32m~\\anaconda3\\lib\\site-packages\\pandas\\core\\indexes\\base.py\u001b[0m in \u001b[0;36mget_loc\u001b[1;34m(self, key, method, tolerance)\u001b[0m\n\u001b[0;32m   2646\u001b[0m                 \u001b[1;32mreturn\u001b[0m \u001b[0mself\u001b[0m\u001b[1;33m.\u001b[0m\u001b[0m_engine\u001b[0m\u001b[1;33m.\u001b[0m\u001b[0mget_loc\u001b[0m\u001b[1;33m(\u001b[0m\u001b[0mkey\u001b[0m\u001b[1;33m)\u001b[0m\u001b[1;33m\u001b[0m\u001b[1;33m\u001b[0m\u001b[0m\n\u001b[0;32m   2647\u001b[0m             \u001b[1;32mexcept\u001b[0m \u001b[0mKeyError\u001b[0m\u001b[1;33m:\u001b[0m\u001b[1;33m\u001b[0m\u001b[1;33m\u001b[0m\u001b[0m\n\u001b[1;32m-> 2648\u001b[1;33m                 \u001b[1;32mreturn\u001b[0m \u001b[0mself\u001b[0m\u001b[1;33m.\u001b[0m\u001b[0m_engine\u001b[0m\u001b[1;33m.\u001b[0m\u001b[0mget_loc\u001b[0m\u001b[1;33m(\u001b[0m\u001b[0mself\u001b[0m\u001b[1;33m.\u001b[0m\u001b[0m_maybe_cast_indexer\u001b[0m\u001b[1;33m(\u001b[0m\u001b[0mkey\u001b[0m\u001b[1;33m)\u001b[0m\u001b[1;33m)\u001b[0m\u001b[1;33m\u001b[0m\u001b[1;33m\u001b[0m\u001b[0m\n\u001b[0m\u001b[0;32m   2649\u001b[0m         \u001b[0mindexer\u001b[0m \u001b[1;33m=\u001b[0m \u001b[0mself\u001b[0m\u001b[1;33m.\u001b[0m\u001b[0mget_indexer\u001b[0m\u001b[1;33m(\u001b[0m\u001b[1;33m[\u001b[0m\u001b[0mkey\u001b[0m\u001b[1;33m]\u001b[0m\u001b[1;33m,\u001b[0m \u001b[0mmethod\u001b[0m\u001b[1;33m=\u001b[0m\u001b[0mmethod\u001b[0m\u001b[1;33m,\u001b[0m \u001b[0mtolerance\u001b[0m\u001b[1;33m=\u001b[0m\u001b[0mtolerance\u001b[0m\u001b[1;33m)\u001b[0m\u001b[1;33m\u001b[0m\u001b[1;33m\u001b[0m\u001b[0m\n\u001b[0;32m   2650\u001b[0m         \u001b[1;32mif\u001b[0m \u001b[0mindexer\u001b[0m\u001b[1;33m.\u001b[0m\u001b[0mndim\u001b[0m \u001b[1;33m>\u001b[0m \u001b[1;36m1\u001b[0m \u001b[1;32mor\u001b[0m \u001b[0mindexer\u001b[0m\u001b[1;33m.\u001b[0m\u001b[0msize\u001b[0m \u001b[1;33m>\u001b[0m \u001b[1;36m1\u001b[0m\u001b[1;33m:\u001b[0m\u001b[1;33m\u001b[0m\u001b[1;33m\u001b[0m\u001b[0m\n",
      "\u001b[1;32mpandas\\_libs\\index.pyx\u001b[0m in \u001b[0;36mpandas._libs.index.IndexEngine.get_loc\u001b[1;34m()\u001b[0m\n",
      "\u001b[1;32mpandas\\_libs\\index.pyx\u001b[0m in \u001b[0;36mpandas._libs.index.IndexEngine.get_loc\u001b[1;34m()\u001b[0m\n",
      "\u001b[1;32mpandas\\_libs\\hashtable_class_helper.pxi\u001b[0m in \u001b[0;36mpandas._libs.hashtable.PyObjectHashTable.get_item\u001b[1;34m()\u001b[0m\n",
      "\u001b[1;32mpandas\\_libs\\hashtable_class_helper.pxi\u001b[0m in \u001b[0;36mpandas._libs.hashtable.PyObjectHashTable.get_item\u001b[1;34m()\u001b[0m\n",
      "\u001b[1;31mKeyError\u001b[0m: False"
     ]
    }
   ],
   "source": [
    "data['author' == 'Enrique Krauze']"
   ]
  },
  {
   "cell_type": "code",
   "execution_count": null,
   "id": "pursuant-handling",
   "metadata": {},
   "outputs": [],
   "source": [
    "def average_szigriszt_pazos(author):\n",
    "    "
   ]
  },
  {
   "cell_type": "code",
   "execution_count": 57,
   "id": "impaired-envelope",
   "metadata": {},
   "outputs": [
    {
     "name": "stdout",
     "output_type": "stream",
     "text": [
      "Dresser: 53.11\n",
      "Krauze:  49.59\n",
      "Ackerman:  39.49\n",
      "Raphael:  11.5\n",
      "Moy:  55.46\n"
     ]
    }
   ],
   "source": [
    "print('Dresser:', szigriszt_pazos(dresser_content))\n",
    "print('Krauze: ', szigriszt_pazos(krauze_content))\n",
    "print('Ackerman: ', szigriszt_pazos(ackerman_content))\n",
    "print('Raphael: ', szigriszt_pazos(raphael_content))\n",
    "print('Moy: ', szigriszt_pazos(moy_content))"
   ]
  },
  {
   "cell_type": "code",
   "execution_count": 50,
   "id": "interested-board",
   "metadata": {},
   "outputs": [],
   "source": [
    "test = data['body'][0]\n",
    "test_2 = 'Manotazoazo'"
   ]
  },
  {
   "cell_type": "code",
   "execution_count": 27,
   "id": "transparent-rouge",
   "metadata": {},
   "outputs": [
    {
     "data": {
      "text/plain": [
       "757"
      ]
     },
     "execution_count": 27,
     "metadata": {},
     "output_type": "execute_result"
    }
   ],
   "source": [
    "textstat.lexicon_count(test, removepunct=True)"
   ]
  },
  {
   "cell_type": "code",
   "execution_count": 41,
   "id": "raising-morrison",
   "metadata": {},
   "outputs": [
    {
     "data": {
      "text/plain": [
       "62.6"
      ]
     },
     "execution_count": 41,
     "metadata": {},
     "output_type": "execute_result"
    }
   ],
   "source": [
    "textstat.flesch_reading_ease(test)"
   ]
  },
  {
   "cell_type": "code",
   "execution_count": null,
   "id": "black-apartment",
   "metadata": {},
   "outputs": [],
   "source": []
  },
  {
   "cell_type": "code",
   "execution_count": null,
   "id": "gentle-ferry",
   "metadata": {},
   "outputs": [],
   "source": []
  },
  {
   "cell_type": "code",
   "execution_count": 37,
   "id": "found-fight",
   "metadata": {},
   "outputs": [],
   "source": []
  },
  {
   "cell_type": "code",
   "execution_count": null,
   "id": "large-indiana",
   "metadata": {},
   "outputs": [],
   "source": []
  },
  {
   "cell_type": "markdown",
   "id": "collective-macedonia",
   "metadata": {},
   "source": [
    "## Lexical diversity"
   ]
  },
  {
   "cell_type": "code",
   "execution_count": null,
   "id": "legislative-projector",
   "metadata": {},
   "outputs": [],
   "source": []
  },
  {
   "cell_type": "markdown",
   "id": "extreme-improvement",
   "metadata": {},
   "source": [
    "# Clarity metrics of all authors"
   ]
  },
  {
   "cell_type": "code",
   "execution_count": null,
   "id": "ultimate-implementation",
   "metadata": {},
   "outputs": [],
   "source": []
  },
  {
   "cell_type": "markdown",
   "id": "assisted-concern",
   "metadata": {},
   "source": [
    "# Export database"
   ]
  },
  {
   "cell_type": "code",
   "execution_count": null,
   "id": "composed-potential",
   "metadata": {},
   "outputs": [],
   "source": []
  }
 ],
 "metadata": {
  "kernelspec": {
   "display_name": "Python 3",
   "language": "python",
   "name": "python3"
  },
  "language_info": {
   "codemirror_mode": {
    "name": "ipython",
    "version": 3
   },
   "file_extension": ".py",
   "mimetype": "text/x-python",
   "name": "python",
   "nbconvert_exporter": "python",
   "pygments_lexer": "ipython3",
   "version": "3.7.9"
  }
 },
 "nbformat": 4,
 "nbformat_minor": 5
}
