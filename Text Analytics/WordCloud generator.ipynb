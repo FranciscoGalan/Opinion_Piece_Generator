{
 "cells": [
  {
   "cell_type": "code",
   "execution_count": 79,
   "id": "stuck-aluminum",
   "metadata": {},
   "outputs": [],
   "source": [
    "import pandas as pd\n",
    "import numpy as np\n",
    "import matplotlib.pyplot as plt\n",
    "%matplotlib inline\n",
    "\n",
    "from wordcloud import WordCloud, STOPWORDS, ImageColorGenerator # Link to documentation http://amueller.github.io/word_cloud/\n",
    "from PIL import Image\n",
    "from nltk.corpus import stopwords\n",
    "from nltk import download\n",
    "#nltk.download('stopwords')\n",
    "import imageio"
   ]
  },
  {
   "cell_type": "code",
   "execution_count": 80,
   "id": "patient-paris",
   "metadata": {},
   "outputs": [],
   "source": [
    "# Load articles of authors\n",
    "data = pd.read_csv('../Data/Data_clean_csv/clean_dataframe.csv')\n",
    "\n",
    "with open('../Data/Data_clean_txt/Denisse Dresser.txt', 'r', encoding='utf8') as f:\n",
    "    dresser_content = f.read()\n",
    "    \n",
    "with open('../Data/Data_clean_txt/Enrique Krauze.txt', 'r', encoding='utf8') as f:\n",
    "    krauze_content = f.read()\n",
    "    \n",
    "with open('../Data/Data_clean_txt/John Ackerman.txt', 'r', encoding='utf8') as f:\n",
    "    ackerman_content = f.read()\n",
    "    \n",
    "with open('../Data/Data_clean_txt/Ricardo Raphael.txt', 'r', encoding='utf8') as f:\n",
    "    raphael_content = f.read()\n",
    "    \n",
    "with open('../Data/Data_clean_txt/Valeria Moy.txt', 'r', encoding='utf8') as f:\n",
    "    moy_content = f.read()"
   ]
  },
  {
   "cell_type": "code",
   "execution_count": 98,
   "id": "christian-terror",
   "metadata": {},
   "outputs": [],
   "source": [
    "# Update stopwords in Spanish\n",
    "spanish_stopwords = stopwords.words('spanish')\n",
    "\n",
    "additional_words = ['si', 'así', 'sólo', 'tras', 'cómo', 'ello', 'cada', 'ser', 'solo', 'tan' ,'sino', 'b', 'ricardoraphael', 'ciento']\n",
    "\n",
    "for word in additional_words:\n",
    "    if word not in spanish_stopwords:\n",
    "        spanish_stopwords.append(word)\n",
    "        \n",
    "STOPWORDS.update(spanish_stopwords)"
   ]
  },
  {
   "cell_type": "markdown",
   "id": "referenced-transportation",
   "metadata": {},
   "source": [
    "# Word cloud"
   ]
  },
  {
   "cell_type": "code",
   "execution_count": 99,
   "id": "chubby-diploma",
   "metadata": {},
   "outputs": [],
   "source": [
    "def create_wordcloud(author, path_png_image, colormap='default'):\n",
    "    \n",
    "    \"\"\"\n",
    "    Creates a WordCloud based on the articles of an author:\n",
    "    - author: accepts \"dresser\", \"krauze\", \"ackerman\", \"raphael\", or \"moy\"\n",
    "    - png_image: uses the contour of the image of the author\n",
    "    - image_colors: 'default' for image colors or use matplotlib colormap: https://matplotlib.org/stable/gallery/color/colormap_reference.html\n",
    "    \"\"\"\n",
    "    \n",
    "    # Get author data\n",
    "    if author == 'dresser':\n",
    "        author_data = dresser_content\n",
    "    elif author == 'krauze':\n",
    "        author_data = krauze_content\n",
    "    elif author == 'ackerman':\n",
    "        author_data = ackerman_content\n",
    "    elif author == 'raphael':\n",
    "        author_data = raphael_content\n",
    "    elif author == 'moy':\n",
    "        author_data = moy_content\n",
    "    else:\n",
    "        print('Please write the name of a valid author')\n",
    "        return\n",
    "    \n",
    "    # Import image of mask on RGB format\n",
    "    mask = np.array(imageio.imread(f'PNG Images/{path_png_image}', pilmode='RGBA'))\n",
    "    \n",
    "    # Change white background (0's) to black (255's).\n",
    "    transformed_mask = np.where(mask==0, 255, mask)\n",
    "    \n",
    "    # Create and generate WordCloud\n",
    "    if colormap == 'default':\n",
    "        color_map = 'viridis'\n",
    "    \n",
    "    wordcloud = WordCloud(width = 3000, height = 2000, random_state=1,\n",
    "                      contour_width=3, contour_color='grey',\n",
    "                      background_color='white', colormap=color_map,\n",
    "                      collocations=False, stopwords = STOPWORDS, mask=transformed_mask)\n",
    "    \n",
    "    wordcloud.generate(author_data)\n",
    "    \n",
    "    # Display WordCloud\n",
    "    plt.figure(figsize=(20, 20))\n",
    "    \n",
    "    ### Create coloring from image\n",
    "    if colormap == 'default':\n",
    "        mask_rgba = imageio.imread(f'PNG Images/{path_png_image}', pilmode='RGBA')\n",
    "        image_colors = ImageColorGenerator(mask_rgba)\n",
    "        wordcloud.recolor(color_func=image_colors)\n",
    "        plt.imshow(wordcloud.recolor(color_func=image_colors), interpolation=\"bilinear\")\n",
    "        \n",
    "    else:\n",
    "        plt.imshow(wordcloud ,interpolation=\"bilinear\")\n",
    "      \n",
    "    plt.axis(\"off\")\n",
    "    plt.show()"
   ]
  },
  {
   "cell_type": "markdown",
   "id": "looking-flood",
   "metadata": {},
   "source": [
    "# Examples"
   ]
  },
  {
   "cell_type": "code",
   "execution_count": null,
   "id": "synthetic-upset",
   "metadata": {},
   "outputs": [],
   "source": [
    "create_wordcloud('dresser', 'dresser.png', colormap='default')"
   ]
  },
  {
   "cell_type": "code",
   "execution_count": null,
   "id": "married-accuracy",
   "metadata": {},
   "outputs": [],
   "source": [
    "create_wordcloud('krauze', 'krauze.png', colormap='default')"
   ]
  },
  {
   "cell_type": "code",
   "execution_count": null,
   "id": "incorporate-amazon",
   "metadata": {},
   "outputs": [],
   "source": [
    "create_wordcloud('ackerman', 'ackerman.png', colormap='default')"
   ]
  },
  {
   "cell_type": "code",
   "execution_count": null,
   "id": "respective-commitment",
   "metadata": {},
   "outputs": [],
   "source": [
    "create_wordcloud('raphael', 'raphael.png', colormap='default')"
   ]
  },
  {
   "cell_type": "code",
   "execution_count": null,
   "id": "completed-abortion",
   "metadata": {},
   "outputs": [],
   "source": [
    "create_wordcloud('moy', 'moy.png', colormap='default')"
   ]
  },
  {
   "cell_type": "code",
   "execution_count": null,
   "id": "medical-silver",
   "metadata": {},
   "outputs": [],
   "source": []
  },
  {
   "cell_type": "code",
   "execution_count": null,
   "id": "killing-panic",
   "metadata": {},
   "outputs": [],
   "source": []
  },
  {
   "cell_type": "code",
   "execution_count": null,
   "id": "early-westminster",
   "metadata": {},
   "outputs": [],
   "source": []
  },
  {
   "cell_type": "code",
   "execution_count": null,
   "id": "available-cannon",
   "metadata": {},
   "outputs": [],
   "source": []
  },
  {
   "cell_type": "code",
   "execution_count": null,
   "id": "desperate-termination",
   "metadata": {},
   "outputs": [],
   "source": []
  }
 ],
 "metadata": {
  "kernelspec": {
   "display_name": "Python 3",
   "language": "python",
   "name": "python3"
  },
  "language_info": {
   "codemirror_mode": {
    "name": "ipython",
    "version": 3
   },
   "file_extension": ".py",
   "mimetype": "text/x-python",
   "name": "python",
   "nbconvert_exporter": "python",
   "pygments_lexer": "ipython3",
   "version": "3.7.9"
  }
 },
 "nbformat": 4,
 "nbformat_minor": 5
}
