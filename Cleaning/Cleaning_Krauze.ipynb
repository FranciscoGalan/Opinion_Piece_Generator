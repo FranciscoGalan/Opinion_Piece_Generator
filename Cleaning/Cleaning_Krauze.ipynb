{
 "cells": [
  {
   "cell_type": "code",
   "execution_count": 1,
   "id": "honey-prerequisite",
   "metadata": {},
   "outputs": [],
   "source": [
    "import re\n",
    "import pandas as pd\n",
    "import numpy as np"
   ]
  },
  {
   "cell_type": "code",
   "execution_count": 2,
   "id": "lucky-bidding",
   "metadata": {},
   "outputs": [],
   "source": [
    "data = pd.read_csv('../Data/data_Enrique_Krauze')"
   ]
  },
  {
   "cell_type": "code",
   "execution_count": 209,
   "id": "outside-holly",
   "metadata": {},
   "outputs": [],
   "source": [
    "def krauze_clean(text):\n",
    "    \n",
    "    #Clean large quotes\n",
    "    text = text.replace('</p>, <p><!-- /wp:paragraph --></p>, <p><!-- wp:quote --></p>, <p>', '<\\n\\n> \"')\n",
    "    text = text.replace('</p>, <p><!-- /wp:quote --></p>, <p><!-- wp:paragraph --></p>, <p>', '\"<\\n\\n> ')\n",
    "        \n",
    "    # Standarize paragraph division\n",
    "    text = text.replace('[<p><!-- wp:paragraph --></p>, <p>', '')\n",
    "    text = text.replace('</p>, <p><!-- /wp:paragraph --></p>, <p><!-- wp:paragraph --></p>, <p>', '<\\n\\n> ')\n",
    "    text = text.replace('</p>, <p><!-- /wp:paragraph --></p>, <p><!-- wp:paragraph {\"align\":\"left\"} --></p>, <p class=\"has-text-align-left\">', '<\\n\\n> ')\n",
    "    text = text.replace('<\\n\\n> <!-- /wp:paragraph --></p>, <p><!-- wp:paragraph {\"align\":\"right\"} --></p>, <p class=\"has-text-align-right\">', '<\\n\\n> ')\n",
    "    text = text.replace('</p>, <p><!-- /wp:paragraph --></p>, <p><!-- wp:paragraph {\"align\":\"right\"} --></p>, <p class=\"has-text-align-right\">', '<\\n\\n> ')\n",
    "    text = text.replace('</p>, <p><!-- /wp:paragraph --></p>, <p><!-- wp:paragraph {\"align\":\"right\"} --></p>, <p class=\"has-text-align-right\">', '<\\n\\n> ')\n",
    "    text = text.replace('[<p><!-- wp:paragraph {\"align\":\"right\"} --></p>, <p class=\"has-text-align-right\"><sup>', '')  \n",
    "    text = text.replace('</p>, <p>', '<\\n\\n> ')\n",
    "    text = text.replace('[<p>', '')\n",
    "    text = text.replace('<br/>\\r\\n', '')\n",
    "    \n",
    "    ### Delete expression\n",
    "    patterns = [r'\\[<p.+?(?=>)>', r'</?span.+?(?=>)>']\n",
    "    for pattern in patterns:\n",
    "        matches = re.findall(pattern, text)\n",
    "        if matches:\n",
    "            for match in matches:\n",
    "                text = text.replace(match, '')\n",
    "    text = text.replace('</span>', ' ')\n",
    "    \n",
    "    ### Sustitute expression with parragraph\n",
    "    patterns = ['</p>, <p.+?(?=>)>', ', <p.+?(?=>)>']\n",
    "    for pattern in patterns:\n",
    "        matches = re.findall(pattern, text)\n",
    "        if matches:\n",
    "            for match in matches:\n",
    "                text = text.replace(match, '<\\n\\n> ')\n",
    "    \n",
    "    # Remove hyperlinks\n",
    "    pattern = '</?a.*?(?=>)>'\n",
    "    matches = re.findall(pattern, text)\n",
    "    if matches:\n",
    "        for match in matches:\n",
    "            text = text.replace(match, ' ')\n",
    "    \n",
    "    # Replace html spaces\n",
    "    text = text.replace('\\xa0', ' ')\n",
    "     \n",
    "    # Replace bold\n",
    "    text = text.replace('<strong>', '<b>').replace('</strong>', '<\\b>')\n",
    "    \n",
    "    # Replace italics\n",
    "    text = text.replace('<em>', ' <i>').replace('</em>', '<\\i> ')\n",
    "        \n",
    "    #Remove publisher of article\n",
    "    patterns = ['<\\n\\n> Publicado en[\\w\\W]*$', '<\\n\\n> Una versión de este[\\w\\W]*$', '<br/>Publicado en[\\w\\W]*$', '<\\n\\n>  <i>Publicado en[\\w\\W]*$', '<\\n\\n> [\\(]?Publicado previamente[\\w\\W]*$', '<\\n\\n> Artículo publicado[\\w\\W]*$' ,'<\\n\\n> Texto publicado[\\w\\W]*$', '<\\n\\n> [\\s]?<i>Reforma[\\w\\W]*$', '<\\n\\n>  <i>Proceso[\\w\\W]*$']\n",
    "    for pattern in patterns:\n",
    "        footer = re.findall(pattern, text)\n",
    "        if footer:\n",
    "            text = text.replace(footer[0], '')\n",
    "    \n",
    "    # Remove remaining noise\n",
    "    text = text.replace('<\\n\\n> \\r\\n', '')\n",
    "    \n",
    "    return text"
   ]
  },
  {
   "cell_type": "code",
   "execution_count": 211,
   "id": "level-pharmacology",
   "metadata": {},
   "outputs": [
    {
     "name": "stdout",
     "output_type": "stream",
     "text": [
      "https://enriquekrauze.com.mx/anteojeras-ideologicas/\n"
     ]
    },
    {
     "data": {
      "text/plain": [
       "'La izquierda no deja de ser izquierda si es moderna: allí está el caso español. La izquierda no deja de ser izquierda si es liberal: allí está el caso chileno. Una izquierda semejante tendría la legitimidad para convencer a las corporaciones sindicales y burocráticas y a la opinión pública sobre la necesidad de llevar a cabo las reformas que el país requiere para crecer. Una izquierda así podría persuadir a los grupos empresariales para que -en un marco de estricto apego al Estado de Derecho- contribuyan a paliar los inmensos rezagos sociales. Alrededor de estos temas cruciales, una izquierda moderna y liberal podría contar con una mayoría de votos en el Congreso. Por desgracia, esa izquierda moderna y liberal no aparece en el horizonte de México. La razón principal es clara: como la derecha doctrinal (su gemela enemiga) nuestra izquierda mira la realidad con anteojeras ideológicas.<\\n\\n> La izquierda mexicana, que nació con la crítica a una burguesía inconsciente del modo en que su posición material determinaba sus ideas, ha sido a su vez inconsciente del modo en que su propia posición material (alejada de la producción efectiva de riqueza, dependiente de los mil tentáculos del Estado) se proyecta en su visión de mundo, hasta imaginar que esa posición particular es generalizable. Esta condición la lleva a esperar demasiado del Estado. Nadie en su sano juicio (salvo los \"neoconservadores\", que no están en su sano juicio) pone en duda la necesidad de que el Estado atienda la educación, la salud, la vivienda, etc... Tampoco está a discusión la rectoría del Estado en materia de generación de energía. No es pues la existencia de ese Estado proveedor ni su papel rector lo que está en juego cuando se crítica a la izquierda. Lo criticable es la anacrónica persistencia de una mentalidad que no ve la necesidad de someter esa oferta y esa rectoría del Estado a las pruebas elementales de eficacia, productividad y transparencia. La fe ciega en la vocación proveedora y rectora del Estado (como si fuese un ente suprahistórico que se justifica a sí mismo por encima de los tiempos y las circunstancias) está en el fondo de muchas de nuestras confusiones. En pocas palabras: la izquierda no ve la necesidad de llamar a cuentas al Estado y, por si fuera poco, desdeña otras tareas aún más esenciales que le corresponden, como son las de velar por la seguridad de los individuos y las propiedades, y asegurar el cumplimiento de la ley.<\\n\\n> A la idealización del Estado corresponde la denigración del mercado. Felipe González ha dicho innumerables veces que nuestros países necesitan alentar la creación de todo tipo de empresarios y Gabriel Zaid ha insistido sobre la necesidad de \"crear empresarios creadores de empresarios\", pero en nuestros ámbitos de izquierda la sola palabra \"empresario\" tiene mala prensa. Con estas anteojeras ideológicas, la izquierda se encierra en sus viejos prejuicios de marxismo residual y bloquea su imaginación económica en un mundo que requiere respuestas prontas y efectivas para competir y sobrevivir.<\\n\\n> La izquierda mexicana (como buena parte de la latinoamericana) no se ha quitado sus anteojeras ideológicas entre otras cosas porque apenas ejerció la autocrítica. Cuando la Historia rebatió y cambió a los sistemas autoritarios y las sociedades cerradas (la liberación de Europa del Este, la desaparición de la Unión Soviética) y determinó el ascenso, no menos sorprendente, de la economía liberal del mercado en China, nuestra izquierda se rehusó a estudiar y debatir a fondo la enorme significación de esos hechos. Si estas tres mutaciones casi cósmicas -que, junto con la emergencia de la India, han redibujado el mapa económico del siglo XXI- no modificaron sus ideas, parecería que nada, nunca, las hará cambiar. Como ocurre con el pensamiento religioso en su vertiente dogmática, el problema central de ese tipo de ideología es su carácter irreductible. Ningún dato contrario la perturba, porque para probar sus asertos recurre siempre al territorio irrefutable del futuro: si no funcionó en otras partes, entre nosotros sí funcionará.<\\n\\n> Otro rasgo lamentable en nuestra izquierda es su fidelidad ideológica a Castro. En abierta contradicción con los valores democráticos que predican y hasta ahora asumen para México, muchos de los voceros intelectuales, periodísticos, académicos, políticos de la izquierda (salvo excepciones honrosas) siguen apoyando a un régimen que ha confiscado desde hace casi medio siglo todas las libertades en la isla. Esta idolatría por Castro se acompaña siempre por una deturpación sin matices a los Estados Unidos (no sólo a Bush) como si no fuesen un país complejo y plural, sino un bloque (de nuevo) suprahistórico, que encarna todo el mal acumulado de la historia. Curiosamente, quienes practican esta visión maniquea de la geopolítica suelen ser, en la práctica, grandes \"fans\" de la cultura y la vida estadounidenses.<\\n\\n> La proclividad ideológica (eco remoto de la enseñanza escolástica, para la cual las opiniones contrarias eran delitos intolerables) conduce al dogmatismo. En círculos radicales de izquierda, se ejerce el imperativo de la \"Tolerancia Cero\" con las posiciones divergentes. La \"corrección política\" -ese narcisista enamoramiento de las opiniones propias- es su código moral. Nimbada de sacralidad, impermeable a la crítica, la palabra \"lucha\" aparece en casi todas las conversaciones, declaraciones y discursos. En el fondo de su corazón, un sector radical de la izquierda sigue creyendo en la revolución social (aunque sea chiquita, con minúscula, en su versión blanda, suave, de baja intensidad) como palanca de la historia.<\\n\\n> La izquierda mexicana cometió hace mucho el error de apartarse de los valores liberales. Si los redescubriera, entendería las transiciones modernizadoras de España y Chile y aprovecharía sus lecciones. Pero para ello tendría que ver la realidad de México y del mundo con objetividad, tal como es, sin anteojeras ideológicas.'"
      ]
     },
     "execution_count": 211,
     "metadata": {},
     "output_type": "execute_result"
    }
   ],
   "source": [
    "number = 350\n",
    "print(data.link[number])\n",
    "krauze_clean(data.body[number])"
   ]
  },
  {
   "cell_type": "code",
   "execution_count": 189,
   "id": "yellow-savings",
   "metadata": {},
   "outputs": [
    {
     "data": {
      "text/plain": [
       "'[<p style=\"text-align: left;\">La Suprema Corte de Justicia de la Nación ha atraído un caso de relevancia para el futuro de la libertad de expresión en México. Se trata de un conflicto entre el periódico <i>La Jornada</i>, dirigido por Carmen Lira, y la revista que dirijo, <i>Letras Libres.</i> La materia del litigio (que ha llevado más de siete años en los tribunales) es un artículo titulado \"Cómplices del terror\", publicado en <i>Letras Libres</i> (marzo 2004) y escrito por el entonces subdirector Fernando García Ramírez. El texto denunciaba el tratamiento de<i> La Jornada</i> en torno a la organización terrorista ETA.</p>, <p style=\"text-align: left;\">Estos son sus antecedentes. El 30 de enero de ese año, el juez de la Audiencia Nacional Española, Baltasar Garzón, se había presentado en el Reclusorio Norte de la Ciudad de México para asistir a la ampliación de la declaración en el proceso de extradición de seis detenidos vascos, acusados de pertenecer a ETA. Ante la cobertura de esos hechos por parte de <i>La Jornada,</i> Garzón publicó una carta en la que acusaba al diario \"de manipulación informativa\" y comentaba:</p>, <p style=\"padding-left: 30px; text-align: left;\">\"me preocupa que presenten como paladín de la libertad y de la dignidad restaurada a una organización terrorista que tantas muertes ha causado y que tanto dolor ha llevado y lleva a muchos hogares españoles y de otras nacionalidades\".</p>, <p style=\"text-align: left;\">El señalamiento del juez Baltasar Garzón fue muy claro: la dignidad de una sociedad se alcanza cumpliendo la ley \"y no mintiéndole al pueblo como ustedes han hecho\" (<i>La Jornada</i>, 31 de enero de 2004).</p>, <p style=\"text-align: left;\">Siete años atrás, el filósofo Fernando Savater se había quejado en términos similares de un reportaje sobre ETA publicado en <i>La Jornada</i>:</p>, <p style=\"padding-left: 30px; text-align: left;\">\"Es difícil encontrar una celebración más partidista y mendaz de un País Vasco afortunadamente imaginario y de un terrorismo desgraciadamente real que la realizada en estas páginas\".</p>, <p style=\"text-align: left;\">Savater encontraba que en ese reportaje</p>, <p style=\"padding-left: 30px; text-align: left;\">\"se vierten impunemente absurdas vilezas contra al menos dos de los asesinados por ETA, repitiendo los criterios de quienes instigaron tales crímenes como si tuvieran la mínima verosimilitud o legitimidad moral\" (<i>La Jornada Semanal</i>, 13 de junio de 1997).</p>, <p style=\"text-align: left;\">Además de estos hechos, a García Ramírez le llamó la atención la noticia aparecida en el diario español <i>La Insignia</i> (5 noviembre de 2002) en el sentido de que el diario <i>Gara</i> -cercano a la organización Batasuna, brazo político de ETA- había firmado un acuerdo de colaboración con <i>La Jornada</i>. Se preguntó por qué, si <i>La Jornada</i> había dado a conocer los acuerdos firmados con <i>The Independent</i> y <i>Le Monde</i>, optó en cambio por no hacer público su convenio con Gara. Esos y otros elementos (como el hecho público de que Josetxo Zaldúa, Coordinador General de Información de <i>La Jornada</i>, tuviese dos procesos abiertos por terrorismo en España) le parecieron suficientes para escribir su artículo. El texto puede verse en el sitio de <i>Letras Libres</i> (www.letraslibres.com) y directamente en <a href=\"http://www.letraslibres.com/\">http://www.letraslibres.com/</a></p>, <p style=\"text-align: left;\">Considerándose agraviada por el señalamiento de complicidad con ETA, en agosto de 2004 <i>La Jornada</i> presentó una demanda penal por calumnia en contra de Fernando García Ramírez, y otra demanda civil por daño moral en contra de la casa editora de la revista <i>Letras Libres</i>. A partir de entonces, un grueso expediente se fue integrando con las sucesivas sentencias y amparos en cada una de las instancias judiciales. En enero de 2011 la Suprema Corte de Justicia decidió atraer el caso.</p>, <p style=\"text-align: left;\">En los últimos años, la Corte ha tenido la última palabra en varios conflictos sobre libertad de expresión, querellas entre particulares, entre autoridades y particulares, y entre medios y autoridades. En todos ellos ha protegido la libertad de expresión. Ahora, con el caso de <i>La Jornada</i> contra <i>Letras Libres</i>, la Corte atrae por primera vez un conflicto entre dos medios de comunicación. En última instancia, <i>La Jornada</i> ha esgrimido el sorprendente argumento de que la Ley de Imprenta vigente le parece insuficientemente restrictiva con respecto a la libertad de expresión. Sin embargo, en un litigio reciente con el Colegio <i>Green Hills, La Jornada</i> fundamentó su defensa en la misma ley que ahora quisiera limitar o poner en entredicho, y con ello logró el fallo positivo de la Suprema Corte. La contradicción es evidente: <i>La Jornada</i> no está dispuesta a conceder a otros medios la libertad que ella misma reclama y que ostensiblemente se toma.</p>, <p style=\"text-align: left;\">Como puede comprobarse en Internet (por ejemplo a través de <i>Google</i>, con las tres palabras Cómplice <i>La Jornada</i>), ese diario se ha referido infinidad de ocasiones a personas físicas y morales, directa o indirectamente, con el cargo de \"Cómplice\". Y debo agregar con pena que, en mi caso, la libertad de que hace uso <i>La Jornada</i> ha llegado al extremo de insultarme repetidamente con alusiones antisemitas que no se veían en México -menos aún en órganos de izquierda- desde tiempos de los panfletos filonazis.</p>, <p style=\"text-align: left;\">El conflicto entre <i>Letras Libres</i> y<i> La Jornada</i> no sólo atañe a la libertad de expresión sino, de manera específica, a otro tema central para la democracia en México: el tema de la transparencia. La prensa ha sido llamada un cuarto poder desde el siglo XVIII, y en el siglo XX aumentó la conciencia de que debe ser -como los otros tres poderes- un poder responsable y transparente. Dejando a un lado la cuestión de si es legal o debe serlo publicar contenidos que simpatizan con los de una banda terrorista, lo menos que se puede exigir a un medio es transparencia: una cosa es publicar esos contenidos, y otra ocultar su origen y editorializarlos como afirmaciones del periódico.</p>, <p style=\"text-align: left;\">En <i>Letras Libres</i> tenemos la convicción de que los periodistas y los medios de comunicación (impresos, en este caso) juegan un papel central en la construcción de la democracia y para ello deben gozar de la más amplia libertad de expresión, incluso si esta se usa por uno para criticar al otro o para pedirle transparencia.</p>, <p style=\"text-align: left;\">Cualquiera que sea el desenlace de este largo y penoso conflicto, sobra decir que la revista <i>Letras Libres</i> se allanará a la sentencia. Si gana, tenderá la mano a <i>La Jornada</i> para convivir en el espacio público en un marco de pluralidad y respeto. Si pierde, espera que <i>La Jornada</i> actúe en el mismo sentido.</p>, <p style=\"text-align: right;\"><i>Reforma</i></p>]'"
      ]
     },
     "execution_count": 189,
     "metadata": {},
     "output_type": "execute_result"
    }
   ],
   "source": [
    "data.body[number]"
   ]
  },
  {
   "cell_type": "code",
   "execution_count": null,
   "id": "seventh-toddler",
   "metadata": {},
   "outputs": [],
   "source": []
  }
 ],
 "metadata": {
  "kernelspec": {
   "display_name": "Python 3",
   "language": "python",
   "name": "python3"
  },
  "language_info": {
   "codemirror_mode": {
    "name": "ipython",
    "version": 3
   },
   "file_extension": ".py",
   "mimetype": "text/x-python",
   "name": "python",
   "nbconvert_exporter": "python",
   "pygments_lexer": "ipython3",
   "version": "3.7.9"
  }
 },
 "nbformat": 4,
 "nbformat_minor": 5
}
