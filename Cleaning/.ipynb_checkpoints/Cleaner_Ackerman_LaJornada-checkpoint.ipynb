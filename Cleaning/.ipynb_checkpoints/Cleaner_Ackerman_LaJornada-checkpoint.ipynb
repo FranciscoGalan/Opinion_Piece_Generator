{
 "cells": [
  {
   "cell_type": "code",
   "execution_count": 2,
   "metadata": {},
   "outputs": [],
   "source": [
    "import re\n",
    "import pandas as pd\n",
    "import numpy as np"
   ]
  },
  {
   "cell_type": "code",
   "execution_count": 3,
   "metadata": {},
   "outputs": [],
   "source": [
    "data = pd.read_csv('../Data/data_Ackerman_LaJornada')"
   ]
  },
  {
   "cell_type": "code",
   "execution_count": 51,
   "metadata": {},
   "outputs": [],
   "source": [
    "def html_cleaner(text):\n",
    "    \n",
    "    \"\"\"Replaces or eliminates generic html expressions\"\"\"\n",
    "    \n",
    "    # Replace bold\n",
    "    text = text.replace('<strong>', '<b>').replace('</strong>', '<\\\\b>')\n",
    "    text = re.sub('<b>\\s[\\w\\W]{3}>', '', text)\n",
    "    \n",
    "    # Replace italics\n",
    "    text = text.replace('</em></em>', '</em>')\n",
    "    text = re.sub(r'<em[\\s\\w\\d\":/{}=;\\.!-]*>', '<i>', text)\n",
    "    text = text.replace('</em>', '<\\i> ')\n",
    "    \n",
    "    # Remove hyperlinks\n",
    "    text = re.sub(r'</?a.*?(?=>)>', ' ', text)\n",
    "            \n",
    "    # Replace html spaces\n",
    "    text = text.replace('\\xa0', ' ')\n",
    "    \n",
    "    # Replace line breaks\n",
    "    text = re.sub(r'<br/>', '<\\n> ', text)\n",
    "    text = re.sub(r'<\\n>\\s<\\n>\\s', '<\\n\\n> ', text)  \n",
    "            \n",
    "    return text"
   ]
  },
  {
   "cell_type": "code",
   "execution_count": 52,
   "metadata": {},
   "outputs": [],
   "source": [
    "def ackerman_LaJornada_cleaner(text):\n",
    "    \n",
    "    \"\"\"Cleans text of John Ackerman's articles\"\"\"\n",
    "    \n",
    "    text = html_cleaner(text)\n",
    "    \n",
    "    # Remove brackets\n",
    "    text = re.sub('^\\[', '', text)\n",
    "    text = re.sub('\\]$', '', text)\n",
    "    \n",
    "    # Remove paragraph format \n",
    "    #text = re.sub(r'<p><[!--\\s\\w:/{}]*></p>,?', '', text)\n",
    "    text = re.sub(r'<p[\\s\\w=\"-:;]*?>', '', text)\n",
    "    text = re.sub(r'</?span[!--\\s\\w:/{}=;\\.]*>', '', text)\n",
    "    \n",
    "    #Remove multiple spaces\n",
    "    text = re.sub(r'\\s{2,}', ' ', text)\n",
    "    text = re.sub(r'\\s,\\s', ', ', text)\n",
    "    \n",
    "    #Mark new paragraph\n",
    "    text = re.sub(r'</p>,?[\\s+]?', '<\\n\\n> ', text)\n",
    "    \n",
    "    # Remove new lines or spaces at beginning of text\n",
    "    text = re.sub('^\\s+', '', text)\n",
    "    \n",
    "    # Remove random html\n",
    "    text = re.sub(r'<!--[\\w\\W]+-->', '', text)\n",
    "    \n",
    "    # Remove new lines at end of text\n",
    "    text = re.sub(r'<\\n\\n>\\s+\\*?\\s?$', '', text)\n",
    "    text = re.sub(r'<\\n\\n>\\s+(<\\n\\n>)?\\s?(<\\n>)?\\s?$', '', text)\n",
    "    text = re.sub(r'<br/>\\s*$', '', text)\n",
    "    \n",
    "    return text"
   ]
  },
  {
   "cell_type": "markdown",
   "metadata": {},
   "source": [
    "# Testing"
   ]
  },
  {
   "cell_type": "code",
   "execution_count": 57,
   "metadata": {},
   "outputs": [],
   "source": [
    "patterns = ['<p>', '<\\p>', '<!--', '<br/>', '\\r\\n', '<strong>', '<span', '<b> <\\\\b>']\n",
    "for pattern in patterns:\n",
    "    for i in range(len(data.body)):\n",
    "        if pattern in ackerman_LaJornada_cleaner(data.body[i]):\n",
    "            print(f'Article num: {i} | Pattern: {pattern}')"
   ]
  },
  {
   "cell_type": "code",
   "execution_count": 58,
   "metadata": {},
   "outputs": [],
   "source": [
    "for i in range(len(data.body)):\n",
    "    x = re.findall(r'[\\w\\W]{5}PATTERN[\\w\\W]{15}', ackerman_LaJornada_cleaner(data.body[i]))\n",
    "    if x:\n",
    "        print(f'{i}: {x}')"
   ]
  },
  {
   "cell_type": "code",
   "execution_count": null,
   "metadata": {},
   "outputs": [],
   "source": [
    "number = 4\n",
    "print(data.link[number])\n",
    "ackerman_LaJornada_cleaner(data.body[number])"
   ]
  }
 ],
 "metadata": {
  "kernelspec": {
   "display_name": "Python 3",
   "language": "python",
   "name": "python3"
  },
  "language_info": {
   "codemirror_mode": {
    "name": "ipython",
    "version": 3
   },
   "file_extension": ".py",
   "mimetype": "text/x-python",
   "name": "python",
   "nbconvert_exporter": "python",
   "pygments_lexer": "ipython3",
   "version": "3.8.3"
  }
 },
 "nbformat": 4,
 "nbformat_minor": 5
}
