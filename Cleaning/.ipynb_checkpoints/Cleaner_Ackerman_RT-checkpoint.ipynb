{
 "cells": [
  {
   "cell_type": "code",
   "execution_count": 1,
   "metadata": {
    "ExecuteTime": {
     "end_time": "2021-03-10T17:59:01.091294Z",
     "start_time": "2021-03-10T17:59:01.088302Z"
    }
   },
   "outputs": [],
   "source": [
    "from IPython.core.interactiveshell import InteractiveShell\n",
    "InteractiveShell.ast_node_interactivity = 'all'"
   ]
  },
  {
   "cell_type": "code",
   "execution_count": 2,
   "metadata": {
    "ExecuteTime": {
     "end_time": "2021-03-10T17:59:20.269952Z",
     "start_time": "2021-03-10T17:59:19.798211Z"
    }
   },
   "outputs": [],
   "source": [
    "import re\n",
    "import numpy as np\n",
    "import pandas as pd"
   ]
  },
  {
   "cell_type": "code",
   "execution_count": 11,
   "metadata": {
    "ExecuteTime": {
     "end_time": "2021-03-16T02:14:46.851358Z",
     "start_time": "2021-03-16T02:14:46.790509Z"
    }
   },
   "outputs": [
    {
     "data": {
      "text/html": [
       "<div>\n",
       "<style scoped>\n",
       "    .dataframe tbody tr th:only-of-type {\n",
       "        vertical-align: middle;\n",
       "    }\n",
       "\n",
       "    .dataframe tbody tr th {\n",
       "        vertical-align: top;\n",
       "    }\n",
       "\n",
       "    .dataframe thead th {\n",
       "        text-align: right;\n",
       "    }\n",
       "</style>\n",
       "<table border=\"1\" class=\"dataframe\">\n",
       "  <thead>\n",
       "    <tr style=\"text-align: right;\">\n",
       "      <th></th>\n",
       "      <th>title</th>\n",
       "      <th>link</th>\n",
       "      <th>date</th>\n",
       "      <th>body</th>\n",
       "      <th>source</th>\n",
       "      <th>author</th>\n",
       "    </tr>\n",
       "  </thead>\n",
       "  <tbody>\n",
       "    <tr>\n",
       "      <th>0</th>\n",
       "      <td>¿La llegada de Joseph Biden a la Casa Blanca e...</td>\n",
       "      <td>https://actualidad.rt.com/opinion/john-ackerma...</td>\n",
       "      <td>23-12-2020</td>\n",
       "      <td>Pocos extrañarán a Donald Trump, pero hay bast...</td>\n",
       "      <td>RT</td>\n",
       "      <td>John Ackerman</td>\n",
       "    </tr>\n",
       "    <tr>\n",
       "      <th>1</th>\n",
       "      <td>La oposición en México, con aires golpistas, q...</td>\n",
       "      <td>https://actualidad.rt.com/opinion/john-ackerma...</td>\n",
       "      <td>18-10-2020</td>\n",
       "      <td>Fracasaron los golpistas.\\r\\nQuisieron utiliza...</td>\n",
       "      <td>RT</td>\n",
       "      <td>John Ackerman</td>\n",
       "    </tr>\n",
       "    <tr>\n",
       "      <th>2</th>\n",
       "      <td>Las confesiones de Emilio Lozoya confirman una...</td>\n",
       "      <td>https://actualidad.rt.com/opinion/john-ackerma...</td>\n",
       "      <td>31-08-2020</td>\n",
       "      <td>Enrique Peña Nieto fue un presidente espurio.\\...</td>\n",
       "      <td>RT</td>\n",
       "      <td>John Ackerman</td>\n",
       "    </tr>\n",
       "    <tr>\n",
       "      <th>3</th>\n",
       "      <td>La crisis sanitaria en México ha traído olas d...</td>\n",
       "      <td>https://actualidad.rt.com/opinion/john-ackerma...</td>\n",
       "      <td>08-04-2020</td>\n",
       "      <td>En México, ¡ni la crisis sanitaria logra frena...</td>\n",
       "      <td>RT</td>\n",
       "      <td>John Ackerman</td>\n",
       "    </tr>\n",
       "    <tr>\n",
       "      <th>4</th>\n",
       "      <td>La Cuarta Transformación será feminista o no será</td>\n",
       "      <td>https://actualidad.rt.com/opinion/john-ackerma...</td>\n",
       "      <td>28-02-2020</td>\n",
       "      <td>Es inaceptable el uso político de la digna cau...</td>\n",
       "      <td>RT</td>\n",
       "      <td>John Ackerman</td>\n",
       "    </tr>\n",
       "  </tbody>\n",
       "</table>\n",
       "</div>"
      ],
      "text/plain": [
       "                                               title  \\\n",
       "0  ¿La llegada de Joseph Biden a la Casa Blanca e...   \n",
       "1  La oposición en México, con aires golpistas, q...   \n",
       "2  Las confesiones de Emilio Lozoya confirman una...   \n",
       "3  La crisis sanitaria en México ha traído olas d...   \n",
       "4  La Cuarta Transformación será feminista o no será   \n",
       "\n",
       "                                                link        date  \\\n",
       "0  https://actualidad.rt.com/opinion/john-ackerma...  23-12-2020   \n",
       "1  https://actualidad.rt.com/opinion/john-ackerma...  18-10-2020   \n",
       "2  https://actualidad.rt.com/opinion/john-ackerma...  31-08-2020   \n",
       "3  https://actualidad.rt.com/opinion/john-ackerma...  08-04-2020   \n",
       "4  https://actualidad.rt.com/opinion/john-ackerma...  28-02-2020   \n",
       "\n",
       "                                                body source         author  \n",
       "0  Pocos extrañarán a Donald Trump, pero hay bast...     RT  John Ackerman  \n",
       "1  Fracasaron los golpistas.\\r\\nQuisieron utiliza...     RT  John Ackerman  \n",
       "2  Enrique Peña Nieto fue un presidente espurio.\\...     RT  John Ackerman  \n",
       "3  En México, ¡ni la crisis sanitaria logra frena...     RT  John Ackerman  \n",
       "4  Es inaceptable el uso político de la digna cau...     RT  John Ackerman  "
      ]
     },
     "execution_count": 11,
     "metadata": {},
     "output_type": "execute_result"
    }
   ],
   "source": [
    "df_rt = pd.read_csv('..\\\\Data\\\\RT_Ackerman_20210306.csv')\n",
    "df_rt.head()"
   ]
  },
  {
   "cell_type": "code",
   "execution_count": 12,
   "metadata": {
    "ExecuteTime": {
     "end_time": "2021-03-16T02:14:47.930876Z",
     "start_time": "2021-03-16T02:14:47.923899Z"
    }
   },
   "outputs": [
    {
     "data": {
      "text/plain": [
       "'Fracasaron los golpistas.\\r\\nQuisieron utilizar la pandemia para tumbar a Andrés Manuel López Obrador, pero les salió el tiro por la culata. La enorme popularidad del presidente se mantiene firme, su poder se consolida hoy más que nunca y, mientras, las tiendas de campaña de Frenaaa vuelan como papalotes.\\r\\nNingún líder político mundial ha salido ileso de esta terrible pandemia. Algunos incluso se han enfermado directamente del virus, como Donald Trump, Boris Johnson y Jair Bolsonaro. En el mundo ya hay casi 40 millones de personas infectadas y más de un millón de muertos. Se estima que la economía global perderá un 5 % de su valor en 2020.\\r\\nEn América Latina, la situación ha sido particularmente preocupante: 10 millones se han enfermado y 150.000 han muerto. La Cepal anticipa un decrecimiento del 9,1 % en la región para 2020 y México no es excepción a esta regla. Tenemos ya más de 80.000 muy lamentables muertos, la economía ha sufrido duramente, con la pérdida de más de un millón de empleos y se estima una contracción del PIB del 10 % para 2020.\\r\\nLa oposición golpista ha querido utilizar esta crisis sanitaria y económica para atacar y deslegitimar a López Obrador. Se ha lanzado con todo. Un grupo de exsecretarios de salud del viejo régimen anunciaron que ellos podrían haber resuelto fácilmente, en un par de meses, el problema de la pandemia.\\r\\nEl grupo Frenaaa ha organizado marchas constantes en contra del presidente y hoy ocupa el Zócalo con tiendas de campaña: algunas habitadas y muchas, simplemente, vacías.\\r\\nEl líder de Frenaaa, Gilberto Lozano, ha sido perfectamente claro con respecto a su estrategia. Buscan seguir explícitamente el ejemplo del golpe de Estado en contra de Evo Morales, de acuerdo con el guión de golpe blando redactado por Gene Sharp.\\r\\nLos oligarcas Claudio X. González y Gustavo de Hoyos han lanzado una Frenaaa 2, la iniciativa Sí por México: más perfumada que la de Lozano, pero con exactamente el mismo objetivo. Y el escritor Martín Moreno de plano ha hecho un llamado a quemar militantes de izquierda, como si estuviéramos en la época de la Inquisición.\\r\\nMientras, cada día se fortalece más el liderazgo de López Obrador. La tasa de aprobación para el presidente se mantiene en un firme 60 % de la población, con muy poca variación desde que ganó las elecciones hace dos años. El nivel de opiniones favorables para López Obrador se encuentra mucho más arriba de otros líderes mundiales, como Angela Merkel, Justin Trudeau, Jair Bolsonaro o Donald Trump.\\r\\nMéxico cada vez se afianza más como un líder mundial en materia política. Y no solamente hay transformaciones en el Poder Ejecutivo, también en las otras instituciones del Estado mexicano. La Suprema Corte ha aprobado la realización de una consulta popular sobre los crímenes y la corrupción de los expresidentes.\\r\\nEl Instituto Nacional Electoral rechazó el registro del partido del expresidente Felipe Calderón y Margarita Zavala. Y la Cámara de Diputados ha aprobado la eliminación de los fideicomisos en toda la Administración pública federal.\\r\\nEstas transformaciones no implican la subordinación de otros poderes a la voluntad del presidente o la llegada de un dictador, como denuncian medios mal informados como el Financial Times e intelectuales como Héctor Aguilar Camín, Denise Dresser y Jorge Castañeda.\\r\\nCon el paso del tiempo, el liderazgo de López Obrador está generando un nuevo contexto político, más democrático y con más oxígeno ciudadano, que permite que las instituciones públicas vayan fortaleciendo su autonomía respectiva y desarrollando \\'anticuerpos\\' frente a los poderes fácticos y las redes de complicidad del viejo régimen.\\r\\nLa subordinación de otros poderes al presidente fue la realidad del pasado. Hoy, tenemos la construcción colectiva de un nuevo compromiso con el interés público de parte del Estado mexicano en su conjunto.\\r\\n¿O qué opinas tú? ¿México va a la deriva bajo el liderazgo de \"un dictador populista\" o empieza a abrir nuevos horizontes de esperanza?\\r\\nCompártenos tus opiniones aquí, en las redes sociales. El debate y la discusión auténticas nos harán libres.'"
      ]
     },
     "execution_count": 12,
     "metadata": {},
     "output_type": "execute_result"
    }
   ],
   "source": [
    "df_rt.iloc[1]['body']"
   ]
  },
  {
   "cell_type": "code",
   "execution_count": 13,
   "metadata": {
    "ExecuteTime": {
     "end_time": "2021-03-16T02:14:48.642119Z",
     "start_time": "2021-03-16T02:14:48.632141Z"
    }
   },
   "outputs": [
    {
     "data": {
      "text/html": [
       "<div>\n",
       "<style scoped>\n",
       "    .dataframe tbody tr th:only-of-type {\n",
       "        vertical-align: middle;\n",
       "    }\n",
       "\n",
       "    .dataframe tbody tr th {\n",
       "        vertical-align: top;\n",
       "    }\n",
       "\n",
       "    .dataframe thead th {\n",
       "        text-align: right;\n",
       "    }\n",
       "</style>\n",
       "<table border=\"1\" class=\"dataframe\">\n",
       "  <thead>\n",
       "    <tr style=\"text-align: right;\">\n",
       "      <th></th>\n",
       "      <th>title</th>\n",
       "      <th>link</th>\n",
       "      <th>date</th>\n",
       "      <th>body</th>\n",
       "      <th>source</th>\n",
       "      <th>author</th>\n",
       "    </tr>\n",
       "  </thead>\n",
       "  <tbody>\n",
       "    <tr>\n",
       "      <th>0</th>\n",
       "      <td>¿La llegada de Joseph Biden a la Casa Blanca e...</td>\n",
       "      <td>https://actualidad.rt.com/opinion/john-ackerma...</td>\n",
       "      <td>23-12-2020</td>\n",
       "      <td>Pocos extrañarán a Donald Trump, pero hay bast...</td>\n",
       "      <td>RT</td>\n",
       "      <td>John Ackerman</td>\n",
       "    </tr>\n",
       "    <tr>\n",
       "      <th>1</th>\n",
       "      <td>La oposición en México, con aires golpistas, q...</td>\n",
       "      <td>https://actualidad.rt.com/opinion/john-ackerma...</td>\n",
       "      <td>18-10-2020</td>\n",
       "      <td>Fracasaron los golpistas.\\n\\n\\nQuisieron utili...</td>\n",
       "      <td>RT</td>\n",
       "      <td>John Ackerman</td>\n",
       "    </tr>\n",
       "    <tr>\n",
       "      <th>2</th>\n",
       "      <td>Las confesiones de Emilio Lozoya confirman una...</td>\n",
       "      <td>https://actualidad.rt.com/opinion/john-ackerma...</td>\n",
       "      <td>31-08-2020</td>\n",
       "      <td>Enrique Peña Nieto fue un presidente espurio.\\...</td>\n",
       "      <td>RT</td>\n",
       "      <td>John Ackerman</td>\n",
       "    </tr>\n",
       "    <tr>\n",
       "      <th>3</th>\n",
       "      <td>La crisis sanitaria en México ha traído olas d...</td>\n",
       "      <td>https://actualidad.rt.com/opinion/john-ackerma...</td>\n",
       "      <td>08-04-2020</td>\n",
       "      <td>En México, ¡ni la crisis sanitaria logra frena...</td>\n",
       "      <td>RT</td>\n",
       "      <td>John Ackerman</td>\n",
       "    </tr>\n",
       "    <tr>\n",
       "      <th>4</th>\n",
       "      <td>La Cuarta Transformación será feminista o no será</td>\n",
       "      <td>https://actualidad.rt.com/opinion/john-ackerma...</td>\n",
       "      <td>28-02-2020</td>\n",
       "      <td>Es inaceptable el uso político de la digna cau...</td>\n",
       "      <td>RT</td>\n",
       "      <td>John Ackerman</td>\n",
       "    </tr>\n",
       "  </tbody>\n",
       "</table>\n",
       "</div>"
      ],
      "text/plain": [
       "                                               title  \\\n",
       "0  ¿La llegada de Joseph Biden a la Casa Blanca e...   \n",
       "1  La oposición en México, con aires golpistas, q...   \n",
       "2  Las confesiones de Emilio Lozoya confirman una...   \n",
       "3  La crisis sanitaria en México ha traído olas d...   \n",
       "4  La Cuarta Transformación será feminista o no será   \n",
       "\n",
       "                                                link        date  \\\n",
       "0  https://actualidad.rt.com/opinion/john-ackerma...  23-12-2020   \n",
       "1  https://actualidad.rt.com/opinion/john-ackerma...  18-10-2020   \n",
       "2  https://actualidad.rt.com/opinion/john-ackerma...  31-08-2020   \n",
       "3  https://actualidad.rt.com/opinion/john-ackerma...  08-04-2020   \n",
       "4  https://actualidad.rt.com/opinion/john-ackerma...  28-02-2020   \n",
       "\n",
       "                                                body source         author  \n",
       "0  Pocos extrañarán a Donald Trump, pero hay bast...     RT  John Ackerman  \n",
       "1  Fracasaron los golpistas.\\n\\n\\nQuisieron utili...     RT  John Ackerman  \n",
       "2  Enrique Peña Nieto fue un presidente espurio.\\...     RT  John Ackerman  \n",
       "3  En México, ¡ni la crisis sanitaria logra frena...     RT  John Ackerman  \n",
       "4  Es inaceptable el uso político de la digna cau...     RT  John Ackerman  "
      ]
     },
     "execution_count": 13,
     "metadata": {},
     "output_type": "execute_result"
    }
   ],
   "source": [
    "df_rt['body'] = df_rt['body'].apply(lambda x: x.replace('\\r\\n', '\\n\\n\\n'))\n",
    "df_rt.head()"
   ]
  },
  {
   "cell_type": "code",
   "execution_count": 14,
   "metadata": {
    "ExecuteTime": {
     "end_time": "2021-03-16T02:14:49.371851Z",
     "start_time": "2021-03-16T02:14:49.364828Z"
    }
   },
   "outputs": [
    {
     "data": {
      "text/plain": [
       "'Fracasaron los golpistas.\\n\\n\\nQuisieron utilizar la pandemia para tumbar a Andrés Manuel López Obrador, pero les salió el tiro por la culata. La enorme popularidad del presidente se mantiene firme, su poder se consolida hoy más que nunca y, mientras, las tiendas de campaña de Frenaaa vuelan como papalotes.\\n\\n\\nNingún líder político mundial ha salido ileso de esta terrible pandemia. Algunos incluso se han enfermado directamente del virus, como Donald Trump, Boris Johnson y Jair Bolsonaro. En el mundo ya hay casi 40 millones de personas infectadas y más de un millón de muertos. Se estima que la economía global perderá un 5 % de su valor en 2020.\\n\\n\\nEn América Latina, la situación ha sido particularmente preocupante: 10 millones se han enfermado y 150.000 han muerto. La Cepal anticipa un decrecimiento del 9,1 % en la región para 2020 y México no es excepción a esta regla. Tenemos ya más de 80.000 muy lamentables muertos, la economía ha sufrido duramente, con la pérdida de más de un millón de empleos y se estima una contracción del PIB del 10 % para 2020.\\n\\n\\nLa oposición golpista ha querido utilizar esta crisis sanitaria y económica para atacar y deslegitimar a López Obrador. Se ha lanzado con todo. Un grupo de exsecretarios de salud del viejo régimen anunciaron que ellos podrían haber resuelto fácilmente, en un par de meses, el problema de la pandemia.\\n\\n\\nEl grupo Frenaaa ha organizado marchas constantes en contra del presidente y hoy ocupa el Zócalo con tiendas de campaña: algunas habitadas y muchas, simplemente, vacías.\\n\\n\\nEl líder de Frenaaa, Gilberto Lozano, ha sido perfectamente claro con respecto a su estrategia. Buscan seguir explícitamente el ejemplo del golpe de Estado en contra de Evo Morales, de acuerdo con el guión de golpe blando redactado por Gene Sharp.\\n\\n\\nLos oligarcas Claudio X. González y Gustavo de Hoyos han lanzado una Frenaaa 2, la iniciativa Sí por México: más perfumada que la de Lozano, pero con exactamente el mismo objetivo. Y el escritor Martín Moreno de plano ha hecho un llamado a quemar militantes de izquierda, como si estuviéramos en la época de la Inquisición.\\n\\n\\nMientras, cada día se fortalece más el liderazgo de López Obrador. La tasa de aprobación para el presidente se mantiene en un firme 60 % de la población, con muy poca variación desde que ganó las elecciones hace dos años. El nivel de opiniones favorables para López Obrador se encuentra mucho más arriba de otros líderes mundiales, como Angela Merkel, Justin Trudeau, Jair Bolsonaro o Donald Trump.\\n\\n\\nMéxico cada vez se afianza más como un líder mundial en materia política. Y no solamente hay transformaciones en el Poder Ejecutivo, también en las otras instituciones del Estado mexicano. La Suprema Corte ha aprobado la realización de una consulta popular sobre los crímenes y la corrupción de los expresidentes.\\n\\n\\nEl Instituto Nacional Electoral rechazó el registro del partido del expresidente Felipe Calderón y Margarita Zavala. Y la Cámara de Diputados ha aprobado la eliminación de los fideicomisos en toda la Administración pública federal.\\n\\n\\nEstas transformaciones no implican la subordinación de otros poderes a la voluntad del presidente o la llegada de un dictador, como denuncian medios mal informados como el Financial Times e intelectuales como Héctor Aguilar Camín, Denise Dresser y Jorge Castañeda.\\n\\n\\nCon el paso del tiempo, el liderazgo de López Obrador está generando un nuevo contexto político, más democrático y con más oxígeno ciudadano, que permite que las instituciones públicas vayan fortaleciendo su autonomía respectiva y desarrollando \\'anticuerpos\\' frente a los poderes fácticos y las redes de complicidad del viejo régimen.\\n\\n\\nLa subordinación de otros poderes al presidente fue la realidad del pasado. Hoy, tenemos la construcción colectiva de un nuevo compromiso con el interés público de parte del Estado mexicano en su conjunto.\\n\\n\\n¿O qué opinas tú? ¿México va a la deriva bajo el liderazgo de \"un dictador populista\" o empieza a abrir nuevos horizontes de esperanza?\\n\\n\\nCompártenos tus opiniones aquí, en las redes sociales. El debate y la discusión auténticas nos harán libres.'"
      ]
     },
     "execution_count": 14,
     "metadata": {},
     "output_type": "execute_result"
    }
   ],
   "source": [
    "df_rt.iloc[1]['body']"
   ]
  },
  {
   "cell_type": "code",
   "execution_count": 15,
   "metadata": {
    "ExecuteTime": {
     "end_time": "2021-03-16T02:14:50.054451Z",
     "start_time": "2021-03-16T02:14:50.046508Z"
    }
   },
   "outputs": [
    {
     "data": {
      "text/plain": [
       "\"La oposición en México, con aires golpistas, quiere 'frenar' a AMLO\""
      ]
     },
     "execution_count": 15,
     "metadata": {},
     "output_type": "execute_result"
    }
   ],
   "source": [
    "df_rt.iloc[1]['title']"
   ]
  },
  {
   "cell_type": "code",
   "execution_count": 17,
   "metadata": {
    "ExecuteTime": {
     "end_time": "2021-03-16T02:19:49.544666Z",
     "start_time": "2021-03-16T02:19:49.517723Z"
    }
   },
   "outputs": [],
   "source": [
    "df_rt.to_csv('..\\\\Data\\\\RT_Ackerman_clean_20210315.csv')"
   ]
  },
  {
   "cell_type": "code",
   "execution_count": null,
   "metadata": {},
   "outputs": [],
   "source": []
  }
 ],
 "metadata": {
  "kernelspec": {
   "display_name": "Python 3",
   "language": "python",
   "name": "python3"
  },
  "language_info": {
   "codemirror_mode": {
    "name": "ipython",
    "version": 3
   },
   "file_extension": ".py",
   "mimetype": "text/x-python",
   "name": "python",
   "nbconvert_exporter": "python",
   "pygments_lexer": "ipython3",
   "version": "3.8.3"
  },
  "toc": {
   "base_numbering": 1,
   "nav_menu": {},
   "number_sections": true,
   "sideBar": true,
   "skip_h1_title": false,
   "title_cell": "Table of Contents",
   "title_sidebar": "Contents",
   "toc_cell": false,
   "toc_position": {},
   "toc_section_display": true,
   "toc_window_display": false
  },
  "varInspector": {
   "cols": {
    "lenName": 16,
    "lenType": 16,
    "lenVar": 40
   },
   "kernels_config": {
    "python": {
     "delete_cmd_postfix": "",
     "delete_cmd_prefix": "del ",
     "library": "var_list.py",
     "varRefreshCmd": "print(var_dic_list())"
    },
    "r": {
     "delete_cmd_postfix": ") ",
     "delete_cmd_prefix": "rm(",
     "library": "var_list.r",
     "varRefreshCmd": "cat(var_dic_list()) "
    }
   },
   "types_to_exclude": [
    "module",
    "function",
    "builtin_function_or_method",
    "instance",
    "_Feature"
   ],
   "window_display": false
  }
 },
 "nbformat": 4,
 "nbformat_minor": 5
}
