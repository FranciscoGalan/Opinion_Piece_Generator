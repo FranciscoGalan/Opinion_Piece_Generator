{
 "cells": [
  {
   "cell_type": "code",
   "execution_count": 49,
   "id": "silent-mistake",
   "metadata": {},
   "outputs": [],
   "source": [
    "import re\n",
    "import pandas as pd\n",
    "import numpy as np"
   ]
  },
  {
   "cell_type": "code",
   "execution_count": 50,
   "id": "explicit-polymer",
   "metadata": {},
   "outputs": [],
   "source": [
    "data = pd.read_csv('../Data/data_Denisse_Dresser')"
   ]
  },
  {
   "cell_type": "code",
   "execution_count": 82,
   "id": "backed-treasure",
   "metadata": {},
   "outputs": [],
   "source": [
    "def dresser_clean(text):\n",
    "    text = text.replace('</p>, <p>', '<\\n\\n> ')\n",
    "    text = text.replace('[<p>', '')\n",
    "    text = text.replace('</p>]', '')\n",
    "    text = text.replace('<\\n\\n> —<\\n\\n>', '<\\n\\n>')\n",
    "    \n",
    "    #Remove final footer\n",
    "    pattern = '<\\n\\n> Gracias por visitar[\\w\\W]*$'\n",
    "    saludo = re.findall(pattern, text)\n",
    "    if saludo:\n",
    "        text = text.replace(saludo[0], '')\n",
    "    \n",
    "    return text"
   ]
  },
  {
   "cell_type": "markdown",
   "id": "indirect-marsh",
   "metadata": {},
   "source": [
    "### Testing"
   ]
  },
  {
   "cell_type": "code",
   "execution_count": 88,
   "id": "practical-acceptance",
   "metadata": {},
   "outputs": [
    {
     "data": {
      "text/plain": [
       "'En el momento más álgido de la pandemia, el Presidente, sentado en un avión, muestra el Pico de Orizaba. En los tiempos más tristes para tantos, AMLO alardea los avances del Tren Maya. A pesar de estar presuntamente vacunado, no recorre hospitales, no se reúne con víctimas, no honra a los muertos, no reorienta recursos para salvar vidas, no cambia el guion.<\\n\\n> Anuncia que cerrará actividades en 2020 con una gira por colonias de la Ciudad de México, a pesar del recién declarado \"semáforo rojo\" debido al incremento dramático de los contagios por Covid-19. Nada lo detiene, nada lo lleva a reconsiderar, a modificar. Él se mantiene impasible. Él a lo suyo. Regodearse en la popularidad, impermeable e intacta a pesar de la mortandad; encerrarse en su visión de la \"Cuarta Transformación\", como si la realidad no exigiera repensarla. Parece ser de esos hombres que nunca se retractan de sus opiniones, porque se aman más a sí mismos que a la verdad.<\\n\\n> La verdad de los datos. La verdad de la evidencia. México es el país con en el cuarto nivel de defunciones confirmadas a nivel global. Con la cifra más alta de letalidad en el mundo y un exceso de mortalidad que triplica las cuentas oficiales. Con más trabajadores del sector salud fallecidos -más de 2,000 y contando- que en cualquier otra parte. Con uno de los niveles más bajos de pruebas, por lo que no podemos saber quién está contagiado y aislarlo. Con 280,000 muertes en exceso, diez millones de nuevos pobres, un millón de empresas cerradas, más lo que falta por venir. Al acabar 2020 superaremos el escenario doblemente catastrófico de 120 mil muertes confirmadas. Y enfrentaremos la peor contracción económica desde 1932.<\\n\\n> Entonces dejemos las comparaciones a conveniencia, la fe ciega, el legado tóxico del neoliberalismo, las comorbilidades preexistentes y la indisciplina ciudadana como coartadas políticamente convenientes, pero intelectualmente perezosas. Rechacemos los argumentos libertarios provenientes de personas y funcionarios que se dicen de izquierda. Sin duda hay irresponsabilidad individual ante la crisis del Covid-19. Pero el Estado existe para cuidar el interés público ante el egoísmo privado, y no lo está cuidando. Al no regular adecuadamente la actividad social y económica, al no apoyar a las empresas, y al no proveer recursos para que la gente pueda quedarse en su casa, el Estado falla. Al no reorientar el dinero destinado a obras cuya viabilidad ni siquiera está comprobada, y cuya urgencia palidece ante el imperativo de salvar vidas, AMLO falla. La obcecación y la obstinación que explican su triunfo político ahora prefiguran su fracaso social.<\\n\\n> Lo dice la CEPAL en su \"Observatorio COVID-19 en América Latina\", donde resalta que México desplegó menos acciones en educación, salud y seguridad social que otras naciones en el hemisferio. Lo constata el FMI, en una tabla comparativa de apoyo gubernamental directo a hogares, empresas y el sector sanitario en América Latina, donde México está en último lugar. Lo explica el CONEVAL, en un reporte reciente, señalando que 8 de los 17 programas sociales del lopezobradorismo tienen claridad en su población objetivo, pero no así en el problema que buscan resolver. La 4T no está protegiendo ni siquiera a los pobres como podría y debería. No puede haber economía sana sin pueblo sano. No puede haber recuperación económica si se rechaza proteger adecuadamente a la población y a las empresas - micro, pequeñas y medianas- que son su motor dinámico. A Pemex le acaban de dar miles de millones de pesos más, mientras el presupuesto del 2021 no contempla aumentos del gasto en salud, a pesar de la pandemia.<\\n\\n> Por más que se trate de ocultar y manipular, lo ocurrido en México es una desgracia. Y no afirmo esto para golpear al gobierno en turno; lo escribo para que corrija el rumbo. Para que actúe e impida la muerte innecesaria de miles. Para que gaste en cuidar vidas y no en construir refinerías. Para que instrumente una estrategia de vacunación transparente y bien planeada. Hace poco el rey de Suecia reconoció que su país había fallado en apostarle a la inmunidad de rebaño. Hace poco Angela Merkel dijo que cuando mueren al día 590 personas, algo se está haciendo mal. Entendieron, como lo señala Chesterton, que la humildad es la madre de gigantes. Y que la terquedad inapropiada ante condiciones cambiantes no es meritoria. Es trágica.'"
      ]
     },
     "execution_count": 88,
     "metadata": {},
     "output_type": "execute_result"
    }
   ],
   "source": [
    "dresser_clean(data.body[10])"
   ]
  },
  {
   "cell_type": "code",
   "execution_count": 90,
   "id": "excited-cabin",
   "metadata": {},
   "outputs": [
    {
     "data": {
      "text/plain": [
       "'Decía Paul Claudel que la verdad, como la cebolla, tiene diecisiete envolturas. Y poco a poco, una por una, van cayendo las que encubrieron el gobierno de Felipe Calderón. La guerra contra el narcotráfico mal planeada y mal ejecutada. La podredumbre de la PGR y del aparato judicial y policial. La escalada de homicidios y desapariciones y ejecuciones que su estrategia engendró.<\\n\\n> Todo lo que el expresidente ha ignorado o dice que no sabía, encapsulado en el arresto de quien fuera su mano derecha, Genaro García Luna. El que tantas veces torció la justicia, finalmente alcanzado por ella. El que tantas veces violó el debido proceso, finalmente sometido a sus reglas. El que fingió combatir el crimen, exhibido como su cómplice. Y su estrepitosa caída lleva a la pregunta inevitable: ¿Qué sabía Calderón y cuándo lo supo?<\\n\\n> Imposible concebir que desconociera lo que era obvio, lo que fue documentado, lo que fue denunciado sobre García Luna y su modus operandi. Cuando el montaje a modo tiñó de injusticia el caso de Florence Cassez. Cuando la demostración de fuerza del entonces secretario de Seguridad Pública pesó más que el respeto a la ley. Cuando la justicia se convirtió en una farsa impulsada por el propio Calderón al intervenir en la Suprema Corte y frenar su liberación. Torceduras reveladas en el libro de Emmanuelle Steels, El teatro del engaño, constatadas por Jorge Volpi en Una novela criminal, evidenciadas por periodistas y consignadas en reportajes a lo largo de los años. El montaje policiaco-judicial, del cual desciende el montaje mediático que a su vez produce más pruebas para el montaje judicial. García Luna intrínsecamente imbricado en un episodio que lo revela de cuerpo entero. Capaz de mentir y manipular; capaz de encubrir y escenificar; capaz de todo.<\\n\\n> A pesar de lo que públicamente se sabía en aquel momento, García Luna no fue procesado y castigado. Su carrera profesional despegó, su patrimonio personal aumentó, la impunidad que lo protegía prevaleció. Como lo subraya Steels en su impecable texto: \"García Luna se aferró durante seis años al puesto, burlando los reclamos por su ineficiencia en materia de seguridad, ignorando las sospechas de colusión con el crimen organizado que pesaban sobre él, y apartando del camino a sus críticos, como lo hizo con el excomisionado de la Policía Federal Javier Herrera Valles\". El guionista de la guerra calderonista multiplicó los montajes mediáticos con la intención de crear la ilusión de una lucha exitosa contra el narcotráfico. El modelo arrancó con Vicente Fox, se consolidó con Felipe Calderón y continuó con Peña Nieto. Y siempre ahí, sus artífices: García Luna, Luis Cárdenas Palomino, Humberto Castillejos, Eduardo Medina Mora, Alfredo Castillo, Luis Miranda Nava. Todos los hombres del Presidente en turno.<\\n\\n> Los responsables de diseñar e impulsar una guerra brutal, fútil, inacabable. El México belicista, a partir del cual las muertes sin sentido se volvieron insoportablemente repetitivas. La dupla Calderón-García Luna permitió el surgimiento de un andamiaje de políticos que protegen a narcotraficantes y narcotraficantes que financian a políticos; de criminales organizados que lavan dinero y funcionarios que los ayudan a hacerlo; de miembros del aparato de seguridad que se vuelven cómplices del crimen organizado y el crimen organizado que los soborna. La aprehensión de García Luna sólo revela lo que Calderón afirma desconocer: bajo su mando el Estado mexicano fue infiltrado por las fuerzas que decía combatir. Su gobierno reiteró que iba ganando la guerra contra los malos, cuando en realidad los albergaba.<\\n\\n> Hoja removida tras hoja removida de la cebolla calderonista deja poco lugar para el beneficio de la duda. Devela a un expresidente que sabía demasiado o no sabía lo suficiente. Exhibe a un gobernante criticado por complicidad o por incompetencia; por cerrar los ojos o por no abrirlos lo suficiente. Felipe Calderón difícilmente sobrevivirá la deshojada que AMLO -con la ayuda del gobierno estadounidense lleva a cabo para frenar su reinvención política. En el juicio de García Luna habrá más revelaciones y sin duda muchas de las cebollas deshojadas vía testigos y el propio ex secretario de Seguridad Pública harán patente lo ocultado por Los Pinos. Y ante la verdad largamente conocida y finalmente compartida, a Calderón no le quedará más remedio que llorar.'"
      ]
     },
     "execution_count": 90,
     "metadata": {},
     "output_type": "execute_result"
    }
   ],
   "source": [
    "dresser_clean(data.body[60])"
   ]
  },
  {
   "cell_type": "code",
   "execution_count": 91,
   "id": "major-northwest",
   "metadata": {},
   "outputs": [
    {
     "data": {
      "text/plain": [
       "'¡Bravo! ¡Hurrah! ¡Albricias! Finalmente los diputados hacen algo bueno al eliminar el fuero. Finalmente la clase política decide combatir la impunidad que le permite actuar como una mafia en el poder. Se acabará con casos como la Casa Blanca y Odebrecht y “La Estafa Maestra”, insisten.<\\n\\n> Habrá funcionarios imputados y juzgados y removidos del puesto, argumentan. Tiempo de celebrar un poco de rendición de cuentas, parecería. Pero no es así. Ciudadanos furibundos, cual tigres hambrientos, se lanzan con frenesí sobre la carne roja aventada al circo romano en el que se ha convertido la contienda presidencial. La opinión pública enojada ante los abusos aplaude una iniciativa mal articulada y mal diseñada que no servirá para lo anunciado pero sí podría acarrear efectos contraproducentes. Porque la ley propuesta no quita el fuero, sólo lo remodela como apunta José Roldán Xopa.<\\n\\n> Antes de brincar de felicidad, hay que mirar la letra chiquita. Lo que no es obvio ni evidente. Lo que el populismo legislativo de todos los partidos ante la elección de 2018 esconde. Lo que el PRI y José Antonio Meade presumen como su gran logro, apoyados por la oposición que no se atreve a disentir porque sabe cuán popular es la propuesta que no han leído.<\\n\\n> Tanto para quienes lleguen a la Presidencia como para quienes sean sus opositores, la eliminación del fuero -tal y como está planteada- podría entrañar su destrucción. Unos y otros, vulnerables al uso político de un fuero reeditado de manera torpe, sólo para ganar puntos electorales y no para resolver problemas fundamentales. La Cámara de Diputados parece no haberse dado cuenta de lo que aprobó con tanto bombo y platillo. Los legisladores improvisan, pensando en el corto plazo y no en las implicaciones para el futuro, para la democracia que dicen apoyar.<\\n\\n> AMLO, de ganar la Presidencia, se volvería vulnerable a la posibilidad de un juicio político, cuyas razones no están claramente tipificadas. Podría procederse en su contra por razones tan ambiguas como “actuar en perjuicio de los intereses públicos” o “de su buen despacho”. Javier Corral, como gobernador de oposición si no ganara Ricardo Anaya, podría ser víctima de medidas cautelares impuestas por un juez si lo considera “sospechoso”, incluyendo “el sometimiento o cuidado de una institución o una persona”; la “prohibición de concurrir a determinadas reuniones o acercarse a ciertos lugares”; “la colocación de localizadores electrónicos”.<\\n\\n> Cualquier legislador de oposición si triunfara el PRI o el Frente o Morena, y peor aún con mayoría en las cámaras, podría ser objeto de la aplicación politizada de la ley. Podría convertirse en perseguido político tan sólo por la voluntad de la mayoría. Diputados y senadores erigidos en jueces por una ley mal pensada que les permitiría serlo. Con la capacidad para enviar a cualquiera a la guillotina por revancha o miedo o pulsiones para purgar.<\\n\\n> Habrá quien argumente que esta posibilidad de linchamiento político es necesaria. Fuera con los corruptos, clamarán los miembros del coliseo candente. A la cárcel, gritarán los espectadores enardecidos. Pero el dictamen aprobado y con rumbo al Senado ni siquiera asegura eso. La iniciativa “engañabobos” -como la ha bautizado correctamente Roldán Xopa- lleva a creer que los funcionarios acusados acabarán encarcelados. Pero la iniciativa votada contiene salvedades que dificultarían ese desenlace: dice que mientras prosiga la investigación no procederá la prisión preventiva ni la separación del cargo. Mientras el sistema penal ignora la presunción de inocencia para el común de los mortales, en la clase política será sacralizada. Es decir, los privilegios continúan, la discrecionalidad sigue, el fuero no acaba. Se replantea.<\\n\\n> Ojalá los senadores de oposición tengan la valentía y la claridad para rechazar este engaño. Ojalá no caigan en la trampa que ha tendido el Congreso. Ojalá la opinión pública no piense que eliminar el fuero así llevará a reducir la impunidad y combatir la corrupción, cuando eso requeriría una Fiscalía autónoma y un Fiscal Anticorrupción con dientes; cambios fundamentales que el Congreso ha obstaculizado.<\\n\\n> Sin duda el fuero necesita remodelación, pero no la que sus usufructuarios proponen. La iniciativa actual nos coloca en el peor de ambos mundos: permite la persecución política de inocentes y no remueve del cargo a culpables.'"
      ]
     },
     "execution_count": 91,
     "metadata": {},
     "output_type": "execute_result"
    }
   ],
   "source": [
    "dresser_clean(data.body[145])"
   ]
  },
  {
   "cell_type": "code",
   "execution_count": 92,
   "id": "duplicate-region",
   "metadata": {},
   "outputs": [
    {
     "data": {
      "text/plain": [
       "'¿Pues no que Luis Videgaray era muy inteligente? El cerebro detrás del gobierno de Peña Nieto. El que manejaba todos los hilos, movía todas las palancas, tomaba todas las decisiones importantes. La materia gris que sobresalía entre tanta mediocridad.<\\n\\n> Ahora retirado de la política pero dejando un saldo cuya aplaudida inteligencia contradice, y va más allá de la humillación a domicilio que trajo consigo Donald Trump. Allí están las cifras del endeudamiento, de la irresponsabilidad fiscal, de la depreciación del peso. Un pésimo manejo macroeconómico que ninguno de sus profesores o colegas de MIT rebatiría. Un legado financiero y fiscal que coloca al país en una precariedad que pensábamos superada.<\\n\\n> Superada porque se creía que la clase política había aprendido las lecciones de la crisis de 1994. La manera en la cual las decisiones económicas a nivel nacional se entretejen con intereses políticos y los mandatos de los mercados de capital a nivel internacional. Y la gran lección de aquella debacle fue que cuando los imperativos políticos se imponen a la racionalidad económica, los resultados pueden ser desastrosos. Cuando importa más conservar clientelas que prevenir déficits, las consecuencias pueden ser calamitosas. Cuando importa más financiar la corrupción que cerrarle la llave, los efectos pueden resultar explosivos. Los incentivos incorrectos producen resultados equivocados.<\\n\\n> Como los que el país padece actualmente. Una austeridad selectiva con fuertes recortes a salud, educación, justicia, inversión pública, combate a la corrupción, y programas de prevención de la violencia, pero aumentos al presupuesto del Congreso y el Poder Judicial. Con una tasa de recaudación histórica de 2.7 billones de pesos, y un gobierno tan gastalón que ni eso le alcanza. Con recortes que no van enfocados hacia donde deberían, como sueldos y aguinaldos y dietas y prestaciones y gasto corriente. El apretón del cinturón no será para la burocracia de alto nivel, ni para las elecciones que quiere comprar, ni para los privilegios que quiere preservar. La administración atla- comulquense no tiene recursos para puentes o carreteras o puertos o escuelas u hospitales, pero sí para darle al Senado un aumento del 7.6 por ciento.<\\n\\n> Y la culpa no la tiene solo el contexto global; también recae sobre los hombros de Videgaray y su equipo. Que nunca cumplieron con los recortes al gasto público prometidos. Que no respaldaron la oferta de mantener un balance presupuestal. Que incrementaron de manera notable e irresponsable la deuda pública. Que con sus acciones -política, clientelar y electoralmente motivadas- generaron una desconfianza que dinamitó el optimismo creado por las reformas estructurales. Que con sus omisiones produjeron un déficit de credibilidad entre inversionistas nacionales e internacionales que ahora están sacando su dinero del país y especulando con el peso. Los mercados castigan los errores y de manera severa, escribió Moisés Naím en el libro Mexico 1994: Anatomy of an Emerging-Market Crash. Algo que Videgaray debía haber comprendido y algo que Meade debe encarar si quiere sacar al país del hoyo en el cual su predecesor lo metió.<\\n\\n> La intersección entre reformas estructurales, política doméstica y condiciones internacionales no da mucho margen de maniobra; la globalización cobra caro los equívocos. De allí la importancia del manejo macroeconómico prudente que transita por la política fiscal, la política monetaria, la balanza de cuenta corriente. Eso le faltó a Videgaray: \"Macroeconomic Management 1.0\" o \"Macroeconomics for Dummies\". Fue víctima de lo que Naím llama \"discapacidades de aprendizaje políticamente inducidas\". Aquello que Videgaray no logró aprender de la crisis de 1994 o lo que trajo consigo desde el Estado de México. La importancia de optimizar la estructura del gasto, la importancia de la inversión pública con disciplina, la importancia de la transparencia, la importancia de limitar el endeudamiento políticamente motivado.<\\n\\n> Eso que Videgaray y los suyos no hicieron y ahora José Antonio Meade tendrá que resolver, dejando sus ambiciones presidenciales en la puerta. Porque cuando las decisiones económicamente racionales son suplantadas por exigencias políticas, ambiciones personales o ciclos electorales, hasta los hombres más inteligentes cometen errores estúpidos. Y en lugar de parecer listos, parecen locos.'"
      ]
     },
     "execution_count": 92,
     "metadata": {},
     "output_type": "execute_result"
    }
   ],
   "source": [
    "dresser_clean(data.body[216])"
   ]
  },
  {
   "cell_type": "markdown",
   "id": "crazy-flashing",
   "metadata": {},
   "source": [
    "### Articles"
   ]
  },
  {
   "cell_type": "code",
   "execution_count": 11,
   "id": "apparent-absolute",
   "metadata": {},
   "outputs": [
    {
     "name": "stdout",
     "output_type": "stream",
     "text": [
      "0              Los seducidos\n",
      "1            El país de AMLO\n",
      "2                    El show\n",
      "3               Mujeres menú\n",
      "4         Victorias pírricas\n",
      "5         Vacunas a voluntad\n",
      "6            El buscapleitos\n",
      "7             El Arrebatador\n",
      "8           Credo por México\n",
      "9             Irresponsables\n",
      "10         Trágica terquedad\n",
      "11           ¿Ley Lamebotas?\n",
      "12          Los Mafiosaurios\n",
      "13            Mirar morir 02\n",
      "14            Soga al cuello\n",
      "15          Barbas a remojar\n",
      "16             ¿Adiós Trump?\n",
      "17           Supremo Sofista\n",
      "18            Huerto podrido\n",
      "19           Odiar la verdad\n",
      "20            Oda a la Corte\n",
      "21         Espejo retrovisor\n",
      "22            Decir lo obvio\n",
      "23     Patria (para algunos)\n",
      "24                  Yo acuso\n",
      "25                Paranoicos\n",
      "26        Video-cleptocracia\n",
      "27             La Silenciosa\n",
      "28                 Machos 4T\n",
      "29           (No) Hacer daño\n",
      "30        ¿Partero o perico?\n",
      "31         Molotov morenista\n",
      "32            Dos derrotados\n",
      "33        Primero la pobreza\n",
      "34            Diccionario 4T\n",
      "35          La 'nueva' mafia\n",
      "36               Pandemonium\n",
      "37          ¿Sólo dos sopas?\n",
      "38            L@s amanuenses\n",
      "39          El priista feliz\n",
      "40        Paleozoico pejista\n",
      "41                  A ciegas\n",
      "42           ¿Falsos ídolos?\n",
      "43            Anillo al dedo\n",
      "44           Amigos del alma\n",
      "45           Derecho a dudar\n",
      "46        Espejito, espejito\n",
      "47        Sillas del Titanic\n",
      "48                 La tregua\n",
      "49              El antihéroe\n",
      "50           Eso sí calienta\n",
      "51           Marchar y parar\n",
      "52         Charolazo 'noble'\n",
      "53       No es de demócratas\n",
      "54           El dignificador\n",
      "55             ¿Cuál 'show'?\n",
      "56           4a. Inquisición\n",
      "57               Mirar morir\n",
      "58             Un crimen más\n",
      "59             Auto-sabotaje\n",
      "60                La cebolla\n",
      "61           4T militarizada\n",
      "62        Publirrelacionista\n",
      "63           Honrar la Corte\n",
      "64         Renuncia, Rosario\n",
      "65          La 4a. Ocupación\n",
      "66        El Gran Distractor\n",
      "67         Partidas secretas\n",
      "68            Quién gobierna\n",
      "69            Bofetada en BC\n",
      "70          Corte contrapeso\n",
      "71               Bartlettear\n",
      "72              Secuestrados\n",
      "73                     La 4S\n",
      "74            Escalera sucia\n",
      "75          Tierra prometida\n",
      "76            Contra la CNDH\n",
      "77              Provocadoras\n",
      "78          Discriminocracia\n",
      "79           Odiar al \"otro\"\n",
      "80     Parar el piqueteadero\n",
      "81               ¿Ave Fénix?\n",
      "82                La bengala\n",
      "83             Más Izquierda\n",
      "84             Cochinero 2.0\n",
      "85        Ciudadanos florero\n",
      "86             Crear cascajo\n",
      "87              Campo minado\n",
      "88           Sembrar o segar\n",
      "89              Sanguijuelas\n",
      "90        Hasta encontrarles\n",
      "91       Pecado presidencial\n",
      "92            Recórtese aquí\n",
      "93                Memorándum\n",
      "94             Prensa piñata\n",
      "95                      SCMN\n",
      "96            Pata extendida\n",
      "97            Petro-política\n",
      "98             Desfiguración\n",
      "99                  2030 más\n",
      "100           ¿PatriarcAMLO?\n",
      "101               Yo, pueblo\n",
      "102                  Yes men\n",
      "103        Mañanera metódica\n",
      "104         Siéntese, señora\n",
      "105                Mano Dura\n",
      "106         Errores mortales\n",
      "107             Los Fermines\n",
      "108             Mandamientos\n",
      "109             ¿Diferentes?\n",
      "110            México Mágico\n",
      "111             Descanchados\n",
      "112              El buen fin\n",
      "113                   Tóxico\n",
      "114                    La 4C\n",
      "115          ¿A martillazos?\n",
      "116             Volando bajo\n",
      "117          Del despeñadero\n",
      "118            Entre venenos\n",
      "119          Poda perniciosa\n",
      "120             Va porque va\n",
      "121                    La 4T\n",
      "122            Vara más alta\n",
      "123           Sembrar la paz\n",
      "124          ¿Quiénes somos?\n",
      "125             Corazón roto\n",
      "126              No entendió\n",
      "127           ¿Mismo cincel?\n",
      "128              PejHemonics\n",
      "129              Micro-males\n",
      "130              Amor a AMLO\n",
      "131         Cordón umbilical\n",
      "132        ¿Perdón y olvido?\n",
      "133              Malos modos\n",
      "134                Antípodas\n",
      "135             Toca regular\n",
      "136               El ausente\n",
      "137        ¿Barco encallado?\n",
      "138              A vigilarte\n",
      "139               Paternidad\n",
      "140           Puerta abierta\n",
      "141             Bajo la mesa\n",
      "142              Sin dientes\n",
      "143           ‘Peje(no)mics’\n",
      "144             Paz en serio\n",
      "145           Fuero fantoche\n",
      "146          Genios priistas\n",
      "147          Patriotismo 1.0\n",
      "148          ‘Shock’ urgente\n",
      "149              Ruleta rusa\n",
      "150          Falsos profetas\n",
      "151            Llave abierta\n",
      "152               PGR palera\n",
      "153             León o ratón\n",
      "154             Antropofagia\n",
      "155           Cuatro pruebas\n",
      "156              Chamuscados\n",
      "157            ¿Torquemadas?\n",
      "158          Tocar un nervio\n",
      "159             Con licencia\n",
      "160            Los golpistas\n",
      "161              A ‘bullear’\n",
      "162           Parar Potemkin\n",
      "163         ¿Frente o farsa?\n",
      "164          Los de adelante\n",
      "165             Luciferianos\n",
      "166             Pato priista\n",
      "167          Los funcionales\n",
      "168              Levantarnos\n",
      "169                     Mara\n",
      "170            Cirugía mayor\n",
      "171               Los valets\n",
      "172            ‘O’ de omisos\n",
      "173              ¿Ganó Slim?\n",
      "174         Pastor del poder\n",
      "175          ¿El inevitable?\n",
      "176          Diablo guardián\n",
      "177                Copa rota\n",
      "178              Sr. Socavón\n",
      "179                      TNT\n",
      "180            Bebé y bañera\n",
      "181        Árbitros amañados\n",
      "182          Antes y después\n",
      "183           Jaula jurásica\n",
      "184            Patada al PRI\n",
      "185     Pellejo de Esperanza\n",
      "186        Aplaudir asesinos\n",
      "187               Sin Excusa\n",
      "188     Explíquese, Sr. Peña\n",
      "189            Salsa picante\n",
      "190         Rápido y furioso\n",
      "191        ¿(In)congruencia?\n",
      "192           #NoEsDeHombres\n",
      "193           Canadá ¿amigo?\n",
      "194         Camarilla Clorox\n",
      "195            Fiscal floral\n",
      "196                  Yo paro\n",
      "197             #AhoraONunca\n",
      "198        Preguntas civiles\n",
      "199            ¿Vibrar o no?\n",
      "200               Al desnudo\n",
      "201            Resistol 5000\n",
      "202           Taquería Trump\n",
      "203               Zona Zombi\n",
      "204       Totalmente Palacio\n",
      "205                 Hoy toca\n",
      "206              Deseos 2017\n",
      "207         País post-verdad\n",
      "208             El autogolpe\n",
      "209         Canario Carstens\n",
      "210          Escobas de mijo\n",
      "211                  Welcome\n",
      "212           Kukluxklanismo\n",
      "213          Árbol retorcido\n",
      "214             Los guaruras\n",
      "215          Pintar fachadas\n",
      "216                  Mad men\n",
      "217        Los imperdonables\n",
      "218              Dos (d)años\n",
      "219                 Erguidos\n",
      "220             Mandamientos\n",
      "221     Carta abierta a Slim\n",
      "Name: title, dtype: object\n"
     ]
    }
   ],
   "source": [
    "with pd.option_context('display.max_rows', None, 'display.max_columns', None):\n",
    "    print(data.title)"
   ]
  },
  {
   "cell_type": "code",
   "execution_count": null,
   "id": "beginning-immune",
   "metadata": {},
   "outputs": [],
   "source": []
  }
 ],
 "metadata": {
  "kernelspec": {
   "display_name": "Python 3",
   "language": "python",
   "name": "python3"
  },
  "language_info": {
   "codemirror_mode": {
    "name": "ipython",
    "version": 3
   },
   "file_extension": ".py",
   "mimetype": "text/x-python",
   "name": "python",
   "nbconvert_exporter": "python",
   "pygments_lexer": "ipython3",
   "version": "3.7.9"
  }
 },
 "nbformat": 4,
 "nbformat_minor": 5
}
