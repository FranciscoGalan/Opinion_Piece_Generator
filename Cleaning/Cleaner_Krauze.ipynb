{
 "cells": [
  {
   "cell_type": "code",
   "execution_count": 2,
   "metadata": {},
   "outputs": [],
   "source": [
    "import re\n",
    "import pandas as pd\n",
    "import numpy as np"
   ]
  },
  {
   "cell_type": "code",
   "execution_count": 3,
   "metadata": {},
   "outputs": [],
   "source": [
    "data = pd.read_csv('../Data/data_Enrique_Krauze')"
   ]
  },
  {
   "cell_type": "code",
   "execution_count": 388,
   "metadata": {},
   "outputs": [],
   "source": [
    "def html_cleaner(text):\n",
    "    \n",
    "    \"\"\"Replaces or eliminates generic html expressions\"\"\"\n",
    "    \n",
    "    # Replace bold\n",
    "    text = text.replace('<strong>', '<b>').replace('</strong>', '<\\\\b>')\n",
    "    text = re.sub('<b>\\s[\\w\\W]{3}>', '', text)\n",
    "    \n",
    "    # Replace italics\n",
    "    text = text.replace('</em></em>', '</em>')\n",
    "    text = re.sub(r'<em[\\s\\w\\d\":/{}=;\\.!-]*>', '<i>', text)\n",
    "    text = text.replace('</em>', '<\\i> ')\n",
    "    \n",
    "    # Remove hyperlinks\n",
    "    text = re.sub(r'</?a.*?(?=>)>', ' ', text)\n",
    "            \n",
    "    # Replace html spaces\n",
    "    text = text.replace('\\xa0', ' ')\n",
    "    \n",
    "    # Replace line breaks\n",
    "    text = re.sub(r'<br/>', '<\\n> ', text)\n",
    "    text = re.sub(r'<\\n>\\s<\\n>\\s', '<\\n\\n> ', text)  \n",
    "            \n",
    "    return text"
   ]
  },
  {
   "cell_type": "code",
   "execution_count": 394,
   "metadata": {},
   "outputs": [],
   "source": [
    "def krauze_cleaner(text):\n",
    "    \n",
    "    \"\"\"Cleans text of Enrique Krauze's articles\"\"\"\n",
    "    \n",
    "    text = html_cleaner(text)\n",
    "    \n",
    "    # Remove brackets\n",
    "    text = re.sub('^\\[', '', text)\n",
    "    text = re.sub('\\]$', '', text)\n",
    "    \n",
    "    # Remove paragraph format \n",
    "    text = re.sub(r'<p><[!--\\s\\w:/{}]*></p>,?', '', text)\n",
    "    text = re.sub(r'<p[\\s\\w=\"-:;]*?>', '', text)\n",
    "    text = re.sub(r'</?span[!--\\s\\w:/{}=;\\.]*>', '', text)\n",
    "    \n",
    "    #Remove multiple spaces\n",
    "    text = re.sub(r'\\s{2,}', ' ', text)\n",
    "    text = re.sub(r'\\s,\\s', ', ', text)\n",
    "    \n",
    "    #Mark new paragraph\n",
    "    text = re.sub(r'</p>,?[\\s+]?', '<\\n\\n> ', text)\n",
    "    \n",
    "    # Remove new lines or spaces at beginning of text\n",
    "    text = re.sub('^\\s+', '', text)\n",
    "    \n",
    "    # Remove publishing media\n",
    "    text = re.sub('(<?i?>?|<?b?r?>?|\\(?)Publicado[\\w\\W]+$', '', text)\n",
    "    text = re.sub('\\(?(Artículo|Texto) publicado[\\w\\W]+$', '', text)\n",
    "    text = re.sub('<?i?>?Una versión (de\\seste\\stexto|más\\samplia|de\\seste\\s)[\\w\\W]+$', '', text)\n",
    "    text = re.sub('<\\n\\n>\\s<i>Reforma[\\w\\W]+$', '', text)\n",
    "    text = re.sub('<\\n\\n>\\s<i>El\\sNorte[\\w\\W]+$', '', text)\n",
    "    text = re.sub('<\\n\\n>\\s<?i?>?Proceso[\\w\\W]*$', '', text)\n",
    "    text = re.sub('<\\n\\n>\\s<?i?>El País[\\w\\W]*$', '', text)\n",
    "    \n",
    "    # Remove random html\n",
    "    text = re.sub(r'<!--[\\w\\W]+-->', '', text)\n",
    "    \n",
    "    # Remove new lines at end of text\n",
    "    text = re.sub(r'<\\n\\n>\\s+\\*?\\s?$', '', text)\n",
    "    text = re.sub(r'<\\n\\n>\\s+(<\\n\\n>)?\\s?(<\\n>)?\\s?$', '', text)\n",
    "    text = re.sub(r'<br/>\\s*$', '', text)\n",
    "    \n",
    "    return text"
   ]
  },
  {
   "cell_type": "markdown",
   "metadata": {},
   "source": [
    "## Testing"
   ]
  },
  {
   "cell_type": "code",
   "execution_count": 393,
   "metadata": {},
   "outputs": [],
   "source": [
    "for i in range(len(data.body)):\n",
    "    x = re.findall(r'[\\w\\W]{5}</em>[\\w\\W]{15}', krauze_cleaner(data.body[i]))\n",
    "    if x:\n",
    "        print(f'{i}: {x}')"
   ]
  },
  {
   "cell_type": "code",
   "execution_count": 391,
   "metadata": {},
   "outputs": [],
   "source": [
    "patterns = ['<p>', '<\\p>', '<!--', '<br/>', '\\r\\n', '<strong>', '<span']\n",
    "for pattern in patterns:\n",
    "    for i in range(len(data.body)):\n",
    "        if pattern in krauze_cleaner(data.body[i]):\n",
    "            print(f'Article num: {i} | Pattern: {pattern}')"
   ]
  },
  {
   "cell_type": "code",
   "execution_count": 392,
   "metadata": {
    "scrolled": false
   },
   "outputs": [
    {
     "name": "stdout",
     "output_type": "stream",
     "text": [
      "https://enriquekrauze.com.mx/historiador-del-presente/\n"
     ]
    },
    {
     "data": {
      "text/plain": [
       "'Los reportajes sobre Iraq que Mario Vargas Llosa publicó la semana pasada en <i>El País<\\\\i> y <i>Reforma<\\\\i> son un ejemplo de oficio literario y periodístico y una lección de ética intelectual. La estructura del conjunto es tan clara como la prosa, que fluye en períodos largos, escritos –se adivina- de un tirón, para no olvidar ni un detalle, para no perder la tensión, como una corriente que sólo se desborda en momentos de una inevitable desesperanza. Y así como no hay confusión temática o abigarramiento informativo, tampoco hay adjetivos que no vengan al caso. Los reportajes son, por supuesto, un testimonio personal, pero la opinión del autor sólo aparece donde debe aparecer, como conclusión a un hallazgo sólido e incontrovertible. El autor no es el personaje; el personaje es Iraq, el país concreto de ayer y hoy. Lo que predomina en esos reportajes es la voluntad de observación, una búsqueda honesta, incisiva, precisa de la verdad objetiva. Orwell pensaba que el mayor peligro moral de su tiempo era el desprestigio de la verdad objetiva, la incredulidad del público y el cinismo de los propios intelectuales en torno a ella. El peligro persiste en nuestro tiempo, y el derrumbe de la Unión Soviética no contribuyó demasiado a disiparlo. Pero por fortuna aún hay quijotes dispuestos a creer que se puede saber, que se debe saber. En nuestro idioma, el más ilustre es Vargas Llosa. En esa aventura no exenta de riesgos reales, lo acompañó como escudera su hija Morgana, cuyas fotografías –directas, descarnadas, desnudas de todo esteticismo- dialogan admirablemente con el texto. (Las fotos, por cierto, no aparecieron en <i>Reforma<\\\\i> .)<\\n\\n> Vargas Llosa se había opuesto a la guerra porque no creía que pudiese prevenir un mal mayor y acudió a Iraq para comprobar o desmentir esa opinión. Lo movía, pues, el único imperativo ético que debería impulsar a todo auténtico historiador del pasado o del presente: aclararse a sí mismo un trozo de la vida, averiguar por cuenta propia la verad, escribir para entender. Después de leer estos reportajes, uno tiene la sensación de haber estado vicariamente allí, en las mezquitas, los recintos universitarios, las calles, los mercados, los cafés, los cuarteles, las oficinas. Y estar allí no es sólo acumular información, sino participar de ese viaje con todos los sentidos: amar o detestar la comida, el calor, la sed, el ruido, y sobre todo a los personajes emblemáticos que en su conversación, sus gestos, creencias y actitudes dan idea de esa caótica Babel que ha vuelto a ser Iraq.<\\n\\n> Dos entregas me impresionaron particularmente: la referida a los creyentes y la que trata sobre los crímenes de Hussein. Las páginas de V.S. Naipaul en <i>Among the Believers<\\\\i>, el clarividente libro que escribió sobre su viaje a Paquistán, no son superiores en profundidad, detalle y sutileza a las de Vargas Llosa, y ambas llegan a la misma descorazonadora conclusión: hay algo radicalmente intratable en esta permanencia medieval de una fe guerrera e intolerante, una fe para la que –como ha escrito Martin Amis- “la muerte no es muerte y la vida no es vida”. (Incidentalmente, las críticas de Vargas Llosa al mesianismo político israelí, y su artículo más reciente contra el oscurantismo homófobo del Vaticano, muestran que su postura no es contraria a ninguna religión, sino al fanatismo y la intolerancia de las tres religiones monoteístas.) Pero acaso la mayor revelación fue descubrir en testimonios de primera mano la historia genocida de la dictadura. Aunque las anécdotas espeluznantes que Vargas Llosa escuchó le recordaban las de Trujillo, lo cierto es que los extremos a que llegó Hussein sólo son comparables a los de Stalin y Hitler.<\\n\\n> Pero si el largo reportaje es impecable, el valor moral del escritor lo es más. Al final de su texto, Vargas Llosa hace una declaración que es un portento de incorrección política: “Con lo que he visto y oído es esta breve estancia, hubiera apoyado la intervención, sin vacilar.” Se puede estar o no de acuerdo con él en este punto (ambos, estoy seguro, habríamos preferido la sanción de la ONU, pero la actitud de Francia la habría impedido). La historia, por lo demás, es un proceso abierto: mucho dependerá del futuro político de la región y del manejo que haga Estados Unidos del petróleo iraquí. Si la inestabilidad se agudiza y la intervención se traduce en un saqueo colonial, el juicio mundial será muy severo. Allá estará Vargas Llosa para ponderarlo. Pero entonces como ahora, lo que es admirable es el compromiso de Vargas Llosa con la búsqueda de la verdad, aunque la verdad sea impopular.'"
      ]
     },
     "execution_count": 392,
     "metadata": {},
     "output_type": "execute_result"
    }
   ],
   "source": [
    "number = 405\n",
    "print(data.link[number])\n",
    "krauze_cleaner(data.body[number])"
   ]
  },
  {
   "cell_type": "code",
   "execution_count": null,
   "metadata": {},
   "outputs": [],
   "source": []
  }
 ],
 "metadata": {
  "kernelspec": {
   "display_name": "Python 3",
   "language": "python",
   "name": "python3"
  },
  "language_info": {
   "codemirror_mode": {
    "name": "ipython",
    "version": 3
   },
   "file_extension": ".py",
   "mimetype": "text/x-python",
   "name": "python",
   "nbconvert_exporter": "python",
   "pygments_lexer": "ipython3",
   "version": "3.8.3"
  }
 },
 "nbformat": 4,
 "nbformat_minor": 5
}
